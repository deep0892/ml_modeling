{
 "cells": [
  {
   "cell_type": "code",
   "execution_count": 3,
   "metadata": {},
   "outputs": [
    {
     "name": "stdout",
     "output_type": "stream",
     "text": [
      "Requirement already satisfied: mglearn in /Users/deepankarsingh/opt/anaconda3/lib/python3.8/site-packages (0.1.9)\n",
      "Requirement already satisfied: numpy in /Users/deepankarsingh/opt/anaconda3/lib/python3.8/site-packages (from mglearn) (1.18.5)\n",
      "Requirement already satisfied: pillow in /Users/deepankarsingh/opt/anaconda3/lib/python3.8/site-packages (from mglearn) (7.2.0)\n",
      "Requirement already satisfied: scikit-learn in /Users/deepankarsingh/opt/anaconda3/lib/python3.8/site-packages (from mglearn) (0.23.1)\n",
      "Requirement already satisfied: pandas in /Users/deepankarsingh/opt/anaconda3/lib/python3.8/site-packages (from mglearn) (1.0.5)\n",
      "Requirement already satisfied: joblib in /Users/deepankarsingh/opt/anaconda3/lib/python3.8/site-packages (from mglearn) (0.16.0)\n",
      "Requirement already satisfied: imageio in /Users/deepankarsingh/opt/anaconda3/lib/python3.8/site-packages (from mglearn) (2.9.0)\n",
      "Requirement already satisfied: cycler in /Users/deepankarsingh/opt/anaconda3/lib/python3.8/site-packages (from mglearn) (0.10.0)\n",
      "Requirement already satisfied: matplotlib in /Users/deepankarsingh/opt/anaconda3/lib/python3.8/site-packages (from mglearn) (3.2.2)\n",
      "Requirement already satisfied: threadpoolctl>=2.0.0 in /Users/deepankarsingh/opt/anaconda3/lib/python3.8/site-packages (from scikit-learn->mglearn) (2.1.0)\n",
      "Requirement already satisfied: scipy>=0.19.1 in /Users/deepankarsingh/opt/anaconda3/lib/python3.8/site-packages (from scikit-learn->mglearn) (1.5.0)\n",
      "Requirement already satisfied: python-dateutil>=2.6.1 in /Users/deepankarsingh/opt/anaconda3/lib/python3.8/site-packages (from pandas->mglearn) (2.8.1)\n",
      "Requirement already satisfied: pytz>=2017.2 in /Users/deepankarsingh/opt/anaconda3/lib/python3.8/site-packages (from pandas->mglearn) (2020.1)\n",
      "Requirement already satisfied: six in /Users/deepankarsingh/opt/anaconda3/lib/python3.8/site-packages (from cycler->mglearn) (1.15.0)\n",
      "Requirement already satisfied: kiwisolver>=1.0.1 in /Users/deepankarsingh/opt/anaconda3/lib/python3.8/site-packages (from matplotlib->mglearn) (1.2.0)\n",
      "Requirement already satisfied: pyparsing!=2.0.4,!=2.1.2,!=2.1.6,>=2.0.1 in /Users/deepankarsingh/opt/anaconda3/lib/python3.8/site-packages (from matplotlib->mglearn) (2.4.7)\n"
     ]
    }
   ],
   "source": [
    "!pip install mglearn"
   ]
  },
  {
   "cell_type": "code",
   "execution_count": 4,
   "metadata": {},
   "outputs": [],
   "source": [
    "%matplotlib inline\n",
    "import numpy as np\n",
    "import pandas as pd\n",
    "import mglearn\n",
    "import matplotlib.pyplot as plt\n",
    "import sklearn"
   ]
  },
  {
   "cell_type": "code",
   "execution_count": 5,
   "metadata": {},
   "outputs": [
    {
     "name": "stdout",
     "output_type": "stream",
     "text": [
      "Data shape: (506, 13)\n"
     ]
    }
   ],
   "source": [
    "from sklearn.datasets import load_boston\n",
    "boston = load_boston()\n",
    "print(\"Data shape: {}\".format(boston.data.shape))"
   ]
  },
  {
   "cell_type": "code",
   "execution_count": 6,
   "metadata": {},
   "outputs": [
    {
     "name": "stdout",
     "output_type": "stream",
     "text": [
      "X.shape: (506, 104)\n"
     ]
    }
   ],
   "source": [
    "X, y = mglearn.datasets.load_extended_boston()\n",
    "print(\"X.shape: {}\".format(X.shape))"
   ]
  },
  {
   "cell_type": "code",
   "execution_count": null,
   "metadata": {},
   "outputs": [],
   "source": []
  },
  {
   "cell_type": "code",
   "execution_count": null,
   "metadata": {},
   "outputs": [],
   "source": []
  }
 ],
 "metadata": {
  "kernelspec": {
   "display_name": "Python 3",
   "language": "python",
   "name": "python3"
  },
  "language_info": {
   "codemirror_mode": {
    "name": "ipython",
    "version": 3
   },
   "file_extension": ".py",
   "mimetype": "text/x-python",
   "name": "python",
   "nbconvert_exporter": "python",
   "pygments_lexer": "ipython3",
   "version": "3.8.3"
  }
 },
 "nbformat": 4,
 "nbformat_minor": 4
}
