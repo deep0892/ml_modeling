{
  "nbformat": 4,
  "nbformat_minor": 0,
  "metadata": {
    "colab": {
      "name": "Linear_Regression_from_Scratch_with_NumPy.ipynb",
      "provenance": [],
      "collapsed_sections": []
    },
    "kernelspec": {
      "name": "python3",
      "display_name": "Python 3"
    },
    "language_info": {
      "name": "python"
    }
  },
  "cells": [
    {
      "cell_type": "code",
      "metadata": {
        "id": "ss9a1a4jcmW_"
      },
      "source": [
        "import numpy as np\n",
        "from sklearn.datasets import load_boston\n",
        "import matplotlib.pyplot as plt\n",
        "from sklearn.model_selection import train_test_split"
      ],
      "execution_count": 25,
      "outputs": []
    },
    {
      "cell_type": "markdown",
      "metadata": {
        "id": "zSZyPMNOc0L8"
      },
      "source": [
        "**Importing Dataset**"
      ]
    },
    {
      "cell_type": "code",
      "metadata": {
        "colab": {
          "base_uri": "https://localhost:8080/"
        },
        "id": "TcDSTlwFcq0c",
        "outputId": "f3f3a174-d7ea-413e-8fb0-ccfd03f2556d"
      },
      "source": [
        "dataset = load_boston()\n",
        "\n",
        "X = dataset.data\n",
        "y = dataset.target[:,np.newaxis]\n",
        "\n",
        "print(\"Total samples in our dataset is: {}\".format(X.shape[0]))"
      ],
      "execution_count": 13,
      "outputs": [
        {
          "output_type": "stream",
          "text": [
            "Total samples in our dataset is: 506\n"
          ],
          "name": "stdout"
        }
      ]
    },
    {
      "cell_type": "markdown",
      "metadata": {
        "id": "kV2kJ3Y5dbLd"
      },
      "source": [
        "**Defining cost function:**"
      ]
    },
    {
      "cell_type": "code",
      "metadata": {
        "id": "zhUFNIO8c-QS"
      },
      "source": [
        "# (1/2) x Mean Squared Error (MSE)\n",
        "def compute_cost(X, y, params):\n",
        "    n_samples = len(y)\n",
        "    h = X @ params\n",
        "    return (1/(2*n_samples))*np.sum((h-y)**2)"
      ],
      "execution_count": 6,
      "outputs": []
    },
    {
      "cell_type": "markdown",
      "metadata": {
        "id": "jwxMOysndxEb"
      },
      "source": [
        "**Gradient Descent:**"
      ]
    },
    {
      "cell_type": "code",
      "metadata": {
        "id": "MnSEJu9Ldhv_"
      },
      "source": [
        "def gradient_descent(X, y, params, learning_rate, n_iters):\n",
        "    n_samples = len(y)\n",
        "    J_history = np.zeros((n_iters,1))\n",
        "\n",
        "    for i in range(n_iters):\n",
        "        params = params - (learning_rate/n_samples) * X.T @ (X @ params - y) \n",
        "        J_history[i] = compute_cost(X, y, params)\n",
        "\n",
        "    return (J_history, params)"
      ],
      "execution_count": 8,
      "outputs": []
    },
    {
      "cell_type": "code",
      "metadata": {
        "id": "ZbzUW6rxeCG0"
      },
      "source": [
        "n_samples = len(y)\n",
        "\n",
        "mu = np.mean(X, 0)\n",
        "sigma = np.std(X, 0)\n",
        "\n",
        "X = (X-mu) / sigma\n",
        "\n",
        "X = np.hstack((np.ones((n_samples,1)),X))\n",
        "n_features = np.size(X,1)\n",
        "params = np.zeros((n_features,1))"
      ],
      "execution_count": 9,
      "outputs": []
    },
    {
      "cell_type": "code",
      "metadata": {
        "colab": {
          "base_uri": "https://localhost:8080/",
          "height": 618
        },
        "id": "d8qKOm3Ifabr",
        "outputId": "d2bfc32a-5f8e-415a-df92-78095688b55d"
      },
      "source": [
        "n_iters = 1500\n",
        "learning_rate = 0.01\n",
        "\n",
        "initial_cost = compute_cost(X, y, params)\n",
        "\n",
        "print(\"Initial cost is: \", initial_cost, \"\\n\")\n",
        "\n",
        "(J_history, optimal_params) = gradient_descent(X, y, params, learning_rate, n_iters)\n",
        "\n",
        "print(\"Optimal parameters are: \\n\", optimal_params, \"\\n\")\n",
        "\n",
        "print(\"Final cost is: \", J_history[-1])\n",
        "\n",
        "plt.plot(range(len(J_history)), J_history, 'r')\n",
        "\n",
        "plt.title(\"Convergence Graph of Cost Function\")\n",
        "plt.xlabel(\"Number of Iterations\")\n",
        "plt.ylabel(\"Cost\")\n",
        "plt.show()"
      ],
      "execution_count": 10,
      "outputs": [
        {
          "output_type": "stream",
          "text": [
            "Initial cost is:  296.0734584980237 \n",
            "\n",
            "Optimal parameters are: \n",
            " [[22.53279993]\n",
            " [-0.83980839]\n",
            " [ 0.92612237]\n",
            " [-0.17541988]\n",
            " [ 0.72676226]\n",
            " [-1.82369448]\n",
            " [ 2.78447498]\n",
            " [-0.05650494]\n",
            " [-2.96695543]\n",
            " [ 1.80785186]\n",
            " [-1.1802415 ]\n",
            " [-1.99990382]\n",
            " [ 0.85595908]\n",
            " [-3.69524414]] \n",
            "\n",
            "Final cost is:  [11.00713381]\n"
          ],
          "name": "stdout"
        },
        {
          "output_type": "display_data",
          "data": {
            "image/png": "[encoded data removed]",
            "text/plain": [
              "<Figure size 432x288 with 1 Axes>"
            ]
          },
          "metadata": {
            "tags": [],
            "needs_background": "light"
          }
        }
      ]
    },
    {
      "cell_type": "markdown",
      "metadata": {
        "id": "wzGLEChRfyrw"
      },
      "source": [
        "\n",
        "\n",
        "---\n",
        "\n",
        "\n",
        "\n",
        "---\n",
        "\n"
      ]
    },
    {
      "cell_type": "markdown",
      "metadata": {
        "id": "dA7BfDrwf0Au"
      },
      "source": [
        "**Class Implementation for Linear Regression**"
      ]
    },
    {
      "cell_type": "code",
      "metadata": {
        "id": "91wv-jtPfpcw"
      },
      "source": [
        "class LinearRegression_():\n",
        "    def __init__(self, X, y, alpha=0.03, n_iter=1500):\n",
        "\n",
        "        # Learning Rate\n",
        "        self.alpha = alpha\n",
        "        # Number of epochs\n",
        "        self.n_iter = n_iter\n",
        "        # Number of samples\n",
        "        self.n_samples = len(y)\n",
        "        # Number of features\n",
        "        self.n_features = np.size(X, 1)\n",
        "        # Training sample\n",
        "        self.X = np.hstack((np.ones(\n",
        "            (self.n_samples, 1)), (X - np.mean(X, 0)) / np.std(X, 0)))\n",
        "        # Traning labels\n",
        "        self.y = y[:, np.newaxis]\n",
        "        # Weights or paramters of the model\n",
        "        self.params = np.zeros((self.n_features + 1, 1))\n",
        "        # Coef of the linear model (slope)\n",
        "        self.coef_ = None\n",
        "        # Intercept of the linear model\n",
        "        self.intercept_ = None\n",
        "\n",
        "    # Training the model on the training set.\n",
        "    def fit(self):\n",
        "        for i in range(self.n_iter):\n",
        "            self.params = self.params - (self.alpha/self.n_samples) * \\\n",
        "            self.X.T @ (self.X @ self.params - self.y)\n",
        "\n",
        "        self.intercept_ = self.params[0]\n",
        "        self.coef_ = self.params[1:]\n",
        "\n",
        "        return self\n",
        "\n",
        "    # R2 score\n",
        "    def score(self, X=None, y=None):\n",
        "\n",
        "        if X is None:\n",
        "            X = self.X\n",
        "        else:\n",
        "            n_samples = np.size(X, 0)\n",
        "            X = np.hstack((np.ones((n_samples, 1)), (X - np.mean(X, 0)) / np.std(X, 0)))\n",
        "\n",
        "        if y is None:\n",
        "            y = self.y\n",
        "        else:\n",
        "            y = y[:, np.newaxis]\n",
        "\n",
        "        y_pred = X @ self.params\n",
        "        score = 1 - (((y - y_pred)**2).sum() / ((y - y.mean())**2).sum())\n",
        "\n",
        "        return score\n",
        "\n",
        "    # Make prediction on unseen data\n",
        "    def predict(self, X):\n",
        "        n_samples = np.size(X, 0)\n",
        "        y = np.hstack((np.ones((n_samples, 1)), (X-np.mean(X, 0)) \\\n",
        "                            / np.std(X, 0))) @ self.params\n",
        "        return y\n",
        "\n",
        "    #  get weights of the linear model\n",
        "    def get_params(self):\n",
        "        return self.params"
      ],
      "execution_count": 47,
      "outputs": []
    },
    {
      "cell_type": "code",
      "metadata": {
        "colab": {
          "base_uri": "https://localhost:8080/",
          "height": 111
        },
        "id": "bxdkZ0npiIhQ",
        "outputId": "1ae9bab5-0da0-4633-ccd4-26c50dbbfa89"
      },
      "source": [
        "from sklearn.datasets import load_boston\n",
        "from sklearn.model_selection import train_test_split\n",
        "from sklearn.linear_model import LinearRegression\n",
        "import pandas as pd\n",
        "\n",
        "dataset = load_boston()\n",
        "\n",
        "X = dataset.data\n",
        "y = dataset.target\n",
        "\n",
        "X_train, X_test, y_train, y_test = train_test_split(\\\n",
        "                X, y, test_size=0.3, random_state=42)\n",
        "\n",
        "our_regressor = LinearRegression_(X_train, y_train).fit()\n",
        "sklearn_regressor = LinearRegression().fit(X_train, y_train)\n",
        "\n",
        "our_train_accuracy = our_regressor.score()\n",
        "sklearn_train_accuracy = sklearn_regressor.score(X_train, y_train)\n",
        "\n",
        "our_test_accuracy = our_regressor.score(X_test, y_test)\n",
        "sklearn_test_accuracy = sklearn_regressor.score(X_test, y_test)\n",
        "\n",
        "pd.DataFrame([[our_train_accuracy, sklearn_train_accuracy],\n",
        "              [our_test_accuracy, sklearn_test_accuracy]],\n",
        "             ['Training Accuracy', 'Test Accuracy'],    \n",
        "             ['Our Implementation', 'Sklearn\\'s Implementation'])"
      ],
      "execution_count": 48,
      "outputs": [
        {
          "output_type": "execute_result",
          "data": {
            "text/html": [
              "<div>\n",
              "<style scoped>\n",
              "    .dataframe tbody tr th:only-of-type {\n",
              "        vertical-align: middle;\n",
              "    }\n",
              "\n",
              "    .dataframe tbody tr th {\n",
              "        vertical-align: top;\n",
              "    }\n",
              "\n",
              "    .dataframe thead th {\n",
              "        text-align: right;\n",
              "    }\n",
              "</style>\n",
              "<table border=\"1\" class=\"dataframe\">\n",
              "  <thead>\n",
              "    <tr style=\"text-align: right;\">\n",
              "      <th></th>\n",
              "      <th>Our Implementation</th>\n",
              "      <th>Sklearn's Implementation</th>\n",
              "    </tr>\n",
              "  </thead>\n",
              "  <tbody>\n",
              "    <tr>\n",
              "      <th>Training Accuracy</th>\n",
              "      <td>0.743482</td>\n",
              "      <td>0.743500</td>\n",
              "    </tr>\n",
              "    <tr>\n",
              "      <th>Test Accuracy</th>\n",
              "      <td>0.675347</td>\n",
              "      <td>0.711226</td>\n",
              "    </tr>\n",
              "  </tbody>\n",
              "</table>\n",
              "</div>"
            ],
            "text/plain": [
              "                   Our Implementation  Sklearn's Implementation\n",
              "Training Accuracy            0.743482                  0.743500\n",
              "Test Accuracy                0.675347                  0.711226"
            ]
          },
          "metadata": {
            "tags": []
          },
          "execution_count": 48
        }
      ]
    },
    {
      "cell_type": "code",
      "metadata": {
        "id": "pHmEwicjjJZ1"
      },
      "source": [
        ""
      ],
      "execution_count": null,
      "outputs": []
    }
  ]
}