{
  "nbformat": 4,
  "nbformat_minor": 0,
  "metadata": {
    "colab": {
      "name": "Naive_Bayes_Algorithm_from_Scratch.ipynb",
      "provenance": []
    },
    "kernelspec": {
      "name": "python3",
      "display_name": "Python 3"
    },
    "language_info": {
      "name": "python"
    }
  },
  "cells": [
    {
      "cell_type": "code",
      "metadata": {
        "id": "TM0U1Y12Dxfl"
      },
      "source": [
        "# Importing library\n",
        "import math\n",
        "import random\n",
        "import csv"
      ],
      "execution_count": 1,
      "outputs": []
    },
    {
      "cell_type": "code",
      "metadata": {
        "id": "ToS3qIaPDw-c"
      },
      "source": [
        "# the categorical class names are changed to numberic data\n",
        "# eg: yes and no encoded to 1 and 0\n",
        "def encode_class(mydata):\n",
        "  classes = []\n",
        "  for i in range(len(mydata)):\n",
        "      if mydata[i][-1] not in classes:\n",
        "          classes.append(mydata[i][-1])\n",
        "  for i in range(len(classes)):\n",
        "      for j in range(len(mydata)):\n",
        "          if mydata[j][-1] == classes[i]:\n",
        "              mydata[j][-1] = i\n",
        "  return mydata"
      ],
      "execution_count": 3,
      "outputs": []
    },
    {
      "cell_type": "code",
      "metadata": {
        "id": "i6XYSxDBKZKn"
      },
      "source": [
        "# add the data path in your system\n",
        "filename = '/content/drive/MyDrive/Dataset/NaiveBayesDataset/filedata.csv'\n",
        " \n",
        "# load the file and store it in mydata list\n",
        "mydata = csv.reader(open(filename, \"rt\"))\n",
        "mydata = list(mydata)\n",
        "mydata = encode_class(mydata)\n",
        "for i in range(len(mydata)):\n",
        "    mydata[i] = [float(x) for x in mydata[i]]"
      ],
      "execution_count": 8,
      "outputs": []
    },
    {
      "cell_type": "code",
      "metadata": {
        "colab": {
          "base_uri": "https://localhost:8080/"
        },
        "id": "XK7CGqMNKjoH",
        "outputId": "cfd113ff-b702-4dc6-ac13-54b85e620415"
      },
      "source": [
        "mydata[:5]"
      ],
      "execution_count": 12,
      "outputs": [
        {
          "output_type": "execute_result",
          "data": {
            "text/plain": [
              "[[6.0, 148.0, 72.0, 35.0, 0.0, 33.6, 0.627, 50.0, 0.0],\n",
              " [1.0, 85.0, 66.0, 29.0, 0.0, 26.6, 0.351, 31.0, 1.0],\n",
              " [8.0, 183.0, 64.0, 0.0, 0.0, 23.3, 0.672, 32.0, 0.0],\n",
              " [1.0, 89.0, 66.0, 23.0, 94.0, 28.1, 0.167, 21.0, 1.0],\n",
              " [0.0, 137.0, 40.0, 35.0, 168.0, 43.1, 2.288, 33.0, 0.0]]"
            ]
          },
          "metadata": {
            "tags": []
          },
          "execution_count": 12
        }
      ]
    },
    {
      "cell_type": "code",
      "metadata": {
        "id": "2c6Evm3lDw15"
      },
      "source": [
        "# Splitting the data\n",
        "def splitting(mydata, ratio):\n",
        "  train_num = int(len(mydata) * ratio)\n",
        "  train = []\n",
        "  # initially testset will have all the dataset\n",
        "  test = list(mydata)\n",
        "  while len(train) < train_num:\n",
        "      # index generated randomly from range 0\n",
        "      # to length of testset\n",
        "      index = random.randrange(len(test))\n",
        "      # from testset, pop data rows and put it in train\n",
        "      train.append(test.pop(index))\n",
        "  return train, test"
      ],
      "execution_count": 15,
      "outputs": []
    },
    {
      "cell_type": "code",
      "metadata": {
        "id": "6LdI5L-_Dwzl"
      },
      "source": [
        "# Group the data rows under each class yes or\n",
        "# no in dictionary eg: dict[yes] and dict[no]\n",
        "def groupUnderClass(mydata):\n",
        "  dict = {}\n",
        "  for i in range(len(mydata)):\n",
        "      if (mydata[i][-1] not in dict):\n",
        "          dict[mydata[i][-1]] = []\n",
        "      dict[mydata[i][-1]].append(mydata[i])\n",
        "  return dict"
      ],
      "execution_count": 40,
      "outputs": []
    },
    {
      "cell_type": "code",
      "metadata": {
        "id": "g-uXwJoEDww4"
      },
      "source": [
        "# Calculating Mean\n",
        "def mean(numbers):\n",
        "  return sum(numbers) / float(len(numbers))"
      ],
      "execution_count": 41,
      "outputs": []
    },
    {
      "cell_type": "code",
      "metadata": {
        "id": "Y2ah5zGfDwup"
      },
      "source": [
        "# Calculating Standard Deviation\n",
        "def std_dev(numbers):\n",
        "  avg = mean(numbers)\n",
        "  variance = sum([pow(x - avg, 2) for x in numbers]) / float(len(numbers) - 1)\n",
        "  return math.sqrt(variance)"
      ],
      "execution_count": 42,
      "outputs": []
    },
    {
      "cell_type": "code",
      "metadata": {
        "id": "DCD-JnCzDwsd"
      },
      "source": [
        "def MeanAndStdDev(mydata):\n",
        "  info = [(mean(attribute), std_dev(attribute)) for attribute in zip(*mydata)]\n",
        "  # eg: list = [ [a, b, c], [m, n, o], [x, y, z]]\n",
        "  # here mean of 1st attribute =(a + m + x)/3, mean of 2nd attribute = (b + n + y)/3\n",
        "  # delete summaries of last class\n",
        "  del info[-1]\n",
        "  return info"
      ],
      "execution_count": 43,
      "outputs": []
    },
    {
      "cell_type": "code",
      "metadata": {
        "id": "JqQwxvP_Dwp1"
      },
      "source": [
        "# find Mean and Standard Deviation under each class\n",
        "def MeanAndStdDevForClass(mydata):\n",
        "  info = {}\n",
        "  dict = groupUnderClass(mydata)\n",
        "  for classValue, instances in dict.items():\n",
        "      info[classValue] = MeanAndStdDev(instances)\n",
        "  return info"
      ],
      "execution_count": 44,
      "outputs": []
    },
    {
      "cell_type": "code",
      "metadata": {
        "id": "oBdVspdLDvM8"
      },
      "source": [
        "# Calculate Gaussian Probability Density Function\n",
        "def calculateGaussianProbability(x, mean, stdev):\n",
        "  expo = math.exp(-(math.pow(x - mean, 2) / (2 * math.pow(stdev, 2))))\n",
        "  return (1 / (math.sqrt(2 * math.pi) * stdev)) * expo"
      ],
      "execution_count": 45,
      "outputs": []
    },
    {
      "cell_type": "code",
      "metadata": {
        "id": "KQ7a2Ea5DvGc"
      },
      "source": [
        "# Calculate Class Probabilities\n",
        "def calculateClassProbabilities(info, test):\n",
        "  probabilities = {}\n",
        "  for classValue, classSummaries in info.items():\n",
        "      probabilities[classValue] = 1\n",
        "      for i in range(len(classSummaries)):\n",
        "          mean, std_dev = classSummaries[i]\n",
        "          x = test[i]\n",
        "          probabilities[classValue] *= calculateGaussianProbability(x, mean, std_dev)\n",
        "  return probabilities"
      ],
      "execution_count": 46,
      "outputs": []
    },
    {
      "cell_type": "code",
      "metadata": {
        "id": "-hQyMWfqDvD4"
      },
      "source": [
        "# Make prediction - highest probability is the prediction\n",
        "def predict(info, test):\n",
        "  probabilities = calculateClassProbabilities(info, test)\n",
        "  bestLabel, bestProb = None, -1\n",
        "  for classValue, probability in probabilities.items():\n",
        "      if bestLabel is None or probability > bestProb:\n",
        "          bestProb = probability\n",
        "          bestLabel = classValue\n",
        "  return bestLabel"
      ],
      "execution_count": 47,
      "outputs": []
    },
    {
      "cell_type": "code",
      "metadata": {
        "id": "terLMp0LDvAU"
      },
      "source": [
        "# returns predictions for a set of examples\n",
        "def getPredictions(info, test):\n",
        "    predictions = []\n",
        "    for i in range(len(test)):\n",
        "        result = predict(info, test[i])\n",
        "        predictions.append(result)\n",
        "    return predictions"
      ],
      "execution_count": 48,
      "outputs": []
    },
    {
      "cell_type": "code",
      "metadata": {
        "id": "jKwnBpbQDut7"
      },
      "source": [
        "# Accuracy score\n",
        "def accuracy_rate(test, predictions):\n",
        "  correct = 0\n",
        "  for i in range(len(test)):\n",
        "      if test[i][-1] == predictions[i]:\n",
        "          correct += 1\n",
        "  return (correct / float(len(test))) * 100.0"
      ],
      "execution_count": 49,
      "outputs": []
    },
    {
      "cell_type": "code",
      "metadata": {
        "id": "vl_Gwt1xQbwr"
      },
      "source": [
        "# load the file and store it in mydata list\n",
        "mydata = csv.reader(open(filename, \"rt\"))\n",
        "mydata = list(mydata)\n",
        "mydata = encode_class(mydata)\n",
        "for i in range(len(mydata)):\n",
        "  mydata[i] = [float(x) for x in mydata[i]]"
      ],
      "execution_count": 50,
      "outputs": []
    },
    {
      "cell_type": "code",
      "metadata": {
        "colab": {
          "base_uri": "https://localhost:8080/"
        },
        "id": "01heu93FQbus",
        "outputId": "a0e95e88-fab0-4775-8840-afe067ff05c8"
      },
      "source": [
        "# split ratio = 0.7\n",
        "# 70% of data is training data and 30% is test data used for testing\n",
        "ratio = 0.7\n",
        "train_data, test_data = splitting(mydata, ratio)\n",
        "print('Total number of examples are: ', len(mydata))\n",
        "print('Out of these, training examples are: ', len(train_data))\n",
        "print(\"Test examples are: \", len(test_data))"
      ],
      "execution_count": 51,
      "outputs": [
        {
          "output_type": "stream",
          "text": [
            "Total number of examples are:  768\n",
            "Out of these, training examples are:  537\n",
            "Test examples are:  231\n"
          ],
          "name": "stdout"
        }
      ]
    },
    {
      "cell_type": "code",
      "metadata": {
        "colab": {
          "base_uri": "https://localhost:8080/"
        },
        "id": "zQKHnAn_QbsY",
        "outputId": "14d09d6e-38ce-43e0-8189-53de81221706"
      },
      "source": [
        "# prepare model\n",
        "info = MeanAndStdDevForClass(train_data)\n",
        "info"
      ],
      "execution_count": 52,
      "outputs": [
        {
          "output_type": "execute_result",
          "data": {
            "text/plain": [
              "{0.0: [(5.098958333333333, 3.8932884871696976),\n",
              "  (140.078125, 32.70475797757457),\n",
              "  (70.30729166666667, 21.60435163064269),\n",
              "  (22.947916666666668, 18.125721385415556),\n",
              "  (104.19791666666667, 137.81352601886414),\n",
              "  (35.37604166666666, 7.103376452394511),\n",
              "  (0.5315260416666668, 0.35369583369581603),\n",
              "  (36.583333333333336, 11.003251938796152)],\n",
              " 1.0: [(3.3420289855072465, 3.082980558982553),\n",
              "  (109.73913043478261, 25.558103078330927),\n",
              "  (68.05507246376811, 18.543001063460604),\n",
              "  (19.61449275362319, 14.696515915249641),\n",
              "  (62.947826086956525, 86.29036064206197),\n",
              "  (30.201449275362318, 7.731145345846974),\n",
              "  (0.42190144927536266, 0.2859804771007582),\n",
              "  (31.35072463768116, 12.136884288366094)]}"
            ]
          },
          "metadata": {
            "tags": []
          },
          "execution_count": 52
        }
      ]
    },
    {
      "cell_type": "code",
      "metadata": {
        "colab": {
          "base_uri": "https://localhost:8080/"
        },
        "id": "vUx3icWuQ85-",
        "outputId": "76dd2068-0156-482e-ff95-5975f5804a22"
      },
      "source": [
        "# test model\n",
        "predictions = getPredictions(info, test_data)\n",
        "accuracy = accuracy_rate(test_data, predictions)\n",
        "print(\"Accuracy of your model is: \", accuracy)"
      ],
      "execution_count": 53,
      "outputs": [
        {
          "output_type": "stream",
          "text": [
            "Accuracy of your model is:  71.86147186147186\n"
          ],
          "name": "stdout"
        }
      ]
    },
    {
      "cell_type": "markdown",
      "metadata": {
        "id": "einfT0W7DrPg"
      },
      "source": [
        "---"
      ]
    },
    {
      "cell_type": "markdown",
      "metadata": {
        "id": "Y31SkKY-hYOO"
      },
      "source": [
        "First we need to calculate mean and variance for each column and convert it to numPy array for future calculations:"
      ]
    },
    {
      "cell_type": "code",
      "metadata": {
        "id": "O0db7-WTUAqy"
      },
      "source": [
        "class GaussianNB_Scratch:\n",
        "  def calc_statistics(self, features, target):\n",
        "    '''\n",
        "    calculate mean, variance for each column and convert to numpy array\n",
        "    ''' \n",
        "    self.mean = features.groupby(target).apply(np.mean).to_numpy()\n",
        "    self.var = features.groupby(target).apply(np.var).to_numpy()\n",
        "          \n",
        "    return self.mean, self.var\n",
        "\n",
        "  def gaussian_density(self, class_idx, x):     \n",
        "    '''\n",
        "    calculate probability from gaussian density function (normally distributed)\n",
        "\n",
        "    '''\n",
        "    mean = self.mean[class_idx]\n",
        "    var = self.var[class_idx]\n",
        "    numerator = np.exp((-1/2)*((x-mean)**2) / (2 * var))\n",
        "    denominator = np.sqrt(2 * np.pi * var)\n",
        "    prob = numerator / denominator\n",
        "    return prob\n",
        "\n",
        "  # prior probabilities\n",
        "  def calc_prior(self, features, target):\n",
        "    self.prior = (features.groupby(target).apply(lambda x: len(x))/self.rows).to_numpy()\n",
        "    return self.prior\n",
        "      \n",
        "  # posterior probabilities\n",
        "  def calc_posterior(self, x):\n",
        "    posteriors = []\n",
        "    for i in range(self.count):\n",
        "        prior = np.log(self.prior[i]) \n",
        "        conditional = np.sum(np.log(self.gaussian_density(i, x)))\n",
        "        posterior = prior + conditional\n",
        "        posteriors.append(posterior)\n",
        "    return self.classes[np.argmax(posteriors)]\n",
        "\n",
        "  def fit(self, features, target):\n",
        "    # define class variables \n",
        "    self.classes = np.unique(target)\n",
        "    self.count = len(self.classes)\n",
        "    self.feature_nums = features.shape[1]\n",
        "    self.rows = features.shape[0]\n",
        "    \n",
        "    # calculate statistics    \n",
        "    self.calc_statistics(features, target)\n",
        "    self.calc_prior(features, target)\n",
        "        \n",
        "  def predict(self, features):\n",
        "    preds = [self.calc_posterior(f) for f in features.to_numpy()]\n",
        "    return preds\n"
      ],
      "execution_count": 36,
      "outputs": []
    },
    {
      "cell_type": "markdown",
      "metadata": {
        "id": "-1nKDKbOjwuM"
      },
      "source": [
        "Import Dataset"
      ]
    },
    {
      "cell_type": "code",
      "metadata": {
        "id": "QU2nVD4chjSB"
      },
      "source": [
        "import numpy as np\n",
        "import pandas as pd\n",
        "from sklearn import datasets\n",
        "from sklearn.model_selection import train_test_split\n",
        "from sklearn.metrics import confusion_matrix\n",
        "from sklearn.metrics import accuracy_score"
      ],
      "execution_count": 49,
      "outputs": []
    },
    {
      "cell_type": "code",
      "metadata": {
        "id": "trPgzfsfjz8v"
      },
      "source": [
        "# import some data to play with\n",
        "iris = datasets.load_iris()\n",
        "X = iris.data[:, :2]  # we only take the first two features.\n",
        "y = iris.target"
      ],
      "execution_count": 38,
      "outputs": []
    },
    {
      "cell_type": "code",
      "metadata": {
        "colab": {
          "base_uri": "https://localhost:8080/"
        },
        "id": "VRo_8Y4ijz51",
        "outputId": "db7cd47b-76b0-4ba9-c8ac-f041420a3ee1"
      },
      "source": [
        "X.shape, y.shape"
      ],
      "execution_count": 39,
      "outputs": [
        {
          "output_type": "execute_result",
          "data": {
            "text/plain": [
              "((150, 2), (150,))"
            ]
          },
          "metadata": {
            "tags": []
          },
          "execution_count": 39
        }
      ]
    },
    {
      "cell_type": "code",
      "metadata": {
        "id": "S0tf4Eidjz3n"
      },
      "source": [
        "X_train, X_test, y_train, y_test = train_test_split(X, y, test_size=0.20, random_state=42)"
      ],
      "execution_count": 40,
      "outputs": []
    },
    {
      "cell_type": "code",
      "metadata": {
        "id": "jW6G9O0ckJMw"
      },
      "source": [
        "nb_classifier = GaussianNB()"
      ],
      "execution_count": 41,
      "outputs": []
    },
    {
      "cell_type": "code",
      "metadata": {
        "id": "GVhRvEGjkeJX"
      },
      "source": [
        "nb_classifier.fit(pd.DataFrame(X_train), y_train)"
      ],
      "execution_count": 42,
      "outputs": []
    },
    {
      "cell_type": "code",
      "metadata": {
        "id": "bgZGpPImkrwp"
      },
      "source": [
        "pred = nb_classifier.predict(pd.DataFrame(X_test))"
      ],
      "execution_count": 50,
      "outputs": []
    },
    {
      "cell_type": "code",
      "metadata": {
        "colab": {
          "base_uri": "https://localhost:8080/"
        },
        "id": "VE40nQ0BlRZf",
        "outputId": "993d3749-d367-4c5e-87c8-7c1d1a55949f"
      },
      "source": [
        "confusion_matrix(y_test, pred)"
      ],
      "execution_count": 51,
      "outputs": [
        {
          "output_type": "execute_result",
          "data": {
            "text/plain": [
              "array([[10,  0,  0],\n",
              "       [ 0,  7,  2],\n",
              "       [ 0,  4,  7]])"
            ]
          },
          "metadata": {
            "tags": []
          },
          "execution_count": 51
        }
      ]
    },
    {
      "cell_type": "code",
      "metadata": {
        "colab": {
          "base_uri": "https://localhost:8080/"
        },
        "id": "fdDViM3Ltxme",
        "outputId": "67700e12-5f07-4238-de9e-266fd27e5c92"
      },
      "source": [
        "accuracy_score(y_test, pred)"
      ],
      "execution_count": 52,
      "outputs": [
        {
          "output_type": "execute_result",
          "data": {
            "text/plain": [
              "0.8"
            ]
          },
          "metadata": {
            "tags": []
          },
          "execution_count": 52
        }
      ]
    },
    {
      "cell_type": "code",
      "metadata": {
        "id": "HMqvdEJhntGu"
      },
      "source": [
        "from sklearn.naive_bayes import GaussianNB"
      ],
      "execution_count": 45,
      "outputs": []
    },
    {
      "cell_type": "code",
      "metadata": {
        "colab": {
          "base_uri": "https://localhost:8080/"
        },
        "id": "7-bRsJCcp0VZ",
        "outputId": "7b2ae6f0-b357-4afe-81aa-01f59877e285"
      },
      "source": [
        "clf = GaussianNB()\n",
        "clf.fit(pd.DataFrame(X_train), y_train)"
      ],
      "execution_count": 53,
      "outputs": [
        {
          "output_type": "execute_result",
          "data": {
            "text/plain": [
              "GaussianNB(priors=None, var_smoothing=1e-09)"
            ]
          },
          "metadata": {
            "tags": []
          },
          "execution_count": 53
        }
      ]
    },
    {
      "cell_type": "code",
      "metadata": {
        "id": "taPsTbM9p30_"
      },
      "source": [
        "pred_nb = clf.predict(X_test)"
      ],
      "execution_count": 54,
      "outputs": []
    },
    {
      "cell_type": "code",
      "metadata": {
        "colab": {
          "base_uri": "https://localhost:8080/"
        },
        "id": "Sya9zEX1p_8S",
        "outputId": "eac0543a-be8f-47ed-a503-cecf00f83fc7"
      },
      "source": [
        "confusion_matrix(y_test, pred_nb)"
      ],
      "execution_count": 55,
      "outputs": [
        {
          "output_type": "execute_result",
          "data": {
            "text/plain": [
              "array([[10,  0,  0],\n",
              "       [ 0,  7,  2],\n",
              "       [ 0,  1, 10]])"
            ]
          },
          "metadata": {
            "tags": []
          },
          "execution_count": 55
        }
      ]
    },
    {
      "cell_type": "code",
      "metadata": {
        "colab": {
          "base_uri": "https://localhost:8080/"
        },
        "id": "pY5ZnCOeqBOs",
        "outputId": "4bf4905f-31fc-427f-c7eb-9f8f51f8e165"
      },
      "source": [
        "accuracy_score(y_test, pred_nb)"
      ],
      "execution_count": 57,
      "outputs": [
        {
          "output_type": "execute_result",
          "data": {
            "text/plain": [
              "0.9"
            ]
          },
          "metadata": {
            "tags": []
          },
          "execution_count": 57
        }
      ]
    },
    {
      "cell_type": "code",
      "metadata": {
        "id": "lVfQM7Rot7rm"
      },
      "source": [
        ""
      ],
      "execution_count": null,
      "outputs": []
    }
  ]
}