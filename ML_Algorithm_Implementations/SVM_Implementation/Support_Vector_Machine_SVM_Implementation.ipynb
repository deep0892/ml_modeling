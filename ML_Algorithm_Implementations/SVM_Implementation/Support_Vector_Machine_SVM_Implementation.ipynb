{
  "nbformat": 4,
  "nbformat_minor": 0,
  "metadata": {
    "colab": {
      "name": "Support_Vector_Machine_SVM_Implementation.ipynb",
      "provenance": []
    },
    "kernelspec": {
      "name": "python3",
      "display_name": "Python 3"
    },
    "language_info": {
      "name": "python"
    }
  },
  "cells": [
    {
      "cell_type": "code",
      "metadata": {
        "id": "47YpsJ2TCaHR"
      },
      "source": [
        "import numpy as np\n",
        "import pandas as pd\n",
        "\n",
        "import statsmodels.api as sm\n",
        "import pandas.util.testing as tm\n",
        "\n",
        "from sklearn.preprocessing import MinMaxScaler\n",
        "from sklearn.model_selection import train_test_split as tts\n",
        "from sklearn.metrics import accuracy_score, recall_score, precision_score\n",
        "from sklearn.utils import shuffle"
      ],
      "execution_count": 15,
      "outputs": []
    },
    {
      "cell_type": "code",
      "metadata": {
        "id": "B2PYvPBADD8_"
      },
      "source": [
        "# >> FEATURE SELECTION << #\n",
        "def remove_correlated_features(X):\n",
        "  corr_threshold = 0.9\n",
        "  corr = X.corr()\n",
        "  drop_columns = np.full(corr.shape[0], False, dtype=bool)\n",
        "  for i in range(corr.shape[0]):\n",
        "      for j in range(i + 1, corr.shape[0]):\n",
        "          if corr.iloc[i, j] >= corr_threshold:\n",
        "              drop_columns[j] = True\n",
        "  columns_dropped = X.columns[drop_columns]\n",
        "  X.drop(columns_dropped, axis=1, inplace=True)\n",
        "  return columns_dropped"
      ],
      "execution_count": 2,
      "outputs": []
    },
    {
      "cell_type": "code",
      "metadata": {
        "id": "kVPrywqvDe_9"
      },
      "source": [
        "def remove_less_significant_features(X, Y):\n",
        "  sl = 0.05\n",
        "  regression_ols = None\n",
        "  columns_dropped = np.array([])\n",
        "  for itr in range(0, len(X.columns)):\n",
        "      regression_ols = sm.OLS(Y, X).fit()\n",
        "      max_col = regression_ols.pvalues.idxmax()\n",
        "      max_val = regression_ols.pvalues.max()\n",
        "      if max_val > sl:\n",
        "          X.drop(max_col, axis='columns', inplace=True)\n",
        "          columns_dropped = np.append(columns_dropped, [max_col])\n",
        "      else:\n",
        "          break\n",
        "  regression_ols.summary()\n",
        "  return columns_dropped"
      ],
      "execution_count": 3,
      "outputs": []
    },
    {
      "cell_type": "code",
      "metadata": {
        "id": "Au13TkP_FCOg"
      },
      "source": [
        "def compute_cost(W, X, Y):\n",
        "  # calculate hinge loss\n",
        "  N = X.shape[0]\n",
        "  distances = 1 - Y * (np.dot(X, W))\n",
        "  distances[distances < 0] = 0  # equivalent to max(0, distance)\n",
        "  hinge_loss = regularization_strength * (np.sum(distances) / N)\n",
        "\n",
        "  # calculate cost\n",
        "  cost = 1 / 2 * np.dot(W, W) + hinge_loss\n",
        "  return cost"
      ],
      "execution_count": 4,
      "outputs": []
    },
    {
      "cell_type": "code",
      "metadata": {
        "id": "cujIlGsiFhFH"
      },
      "source": [
        "def calculate_cost_gradient(W, X_batch, Y_batch):\n",
        "  # if only one example is passed (eg. in case of SGD)\n",
        "  if type(Y_batch) == np.float64:\n",
        "      Y_batch = np.array([Y_batch])\n",
        "      X_batch = np.array([X_batch])  # gives multidimensional array\n",
        "\n",
        "  distance = 1 - (Y_batch * np.dot(X_batch, W))\n",
        "  dw = np.zeros(len(W))\n",
        "\n",
        "  for ind, d in enumerate(distance):\n",
        "      if max(0, d) == 0:\n",
        "          di = W\n",
        "      else:\n",
        "          di = W - (regularization_strength * Y_batch[ind] * X_batch[ind])\n",
        "      dw += di\n",
        "\n",
        "  dw = dw/len(Y_batch)  # average\n",
        "  return dw"
      ],
      "execution_count": 5,
      "outputs": []
    },
    {
      "cell_type": "code",
      "metadata": {
        "id": "Yx5v64OxGAai"
      },
      "source": [
        "def sgd(features, outputs):\n",
        "  max_epochs = 5000\n",
        "  weights = np.zeros(features.shape[1])\n",
        "  nth = 0\n",
        "  prev_cost = float(\"inf\")\n",
        "  cost_threshold = 0.01  # in percent\n",
        "  # stochastic gradient descent\n",
        "  for epoch in range(1, max_epochs):\n",
        "      # shuffle to prevent repeating update cycles\n",
        "      X, Y = shuffle(features, outputs)\n",
        "      for ind, x in enumerate(X):\n",
        "          ascent = calculate_cost_gradient(weights, x, Y[ind])\n",
        "          weights = weights - (learning_rate * ascent)\n",
        "\n",
        "      # convergence check on 2^nth epoch\n",
        "      if epoch == 2 ** nth or epoch == max_epochs - 1:\n",
        "          cost = compute_cost(weights, features, outputs)\n",
        "          print(\"Epoch is: {} and Cost is: {}\".format(epoch, cost))\n",
        "          # stoppage criterion\n",
        "          if abs(prev_cost - cost) < cost_threshold * prev_cost:\n",
        "              return weights\n",
        "          prev_cost = cost\n",
        "          nth += 1\n",
        "  return weights"
      ],
      "execution_count": 6,
      "outputs": []
    },
    {
      "cell_type": "code",
      "metadata": {
        "id": "XZ7MNVe4GneX"
      },
      "source": [
        "def init():\n",
        "  print(\"reading dataset...\")\n",
        "  # read data in pandas (pd) data frame\n",
        "  data = pd.read_csv('/content/data.csv')\n",
        "\n",
        "  # drop last column (extra column added by pd)\n",
        "  # and unnecessary first column (id)\n",
        "  data.drop(data.columns[[-1, 0]], axis=1, inplace=True)\n",
        "\n",
        "  print(\"applying feature engineering...\")\n",
        "  # convert categorical labels to numbers\n",
        "  diag_map = {'M': 1.0, 'B': -1.0}\n",
        "  data['diagnosis'] = data['diagnosis'].map(diag_map)\n",
        "\n",
        "  # put features & outputs in different data frames\n",
        "  Y = data.loc[:, 'diagnosis']\n",
        "  X = data.iloc[:, 1:]\n",
        "\n",
        "  # filter features\n",
        "  remove_correlated_features(X)\n",
        "  remove_less_significant_features(X, Y)\n",
        "\n",
        "  # normalize data for better convergence and to prevent overflow\n",
        "  X_normalized = MinMaxScaler().fit_transform(X.values)\n",
        "  X = pd.DataFrame(X_normalized)\n",
        "\n",
        "  # insert 1 in every row for intercept b\n",
        "  X.insert(loc=len(X.columns), column='intercept', value=1)\n",
        "\n",
        "  # split data into train and test set\n",
        "  print(\"splitting dataset into train and test sets...\")\n",
        "  X_train, X_test, y_train, y_test = tts(X, Y, test_size=0.2, random_state=42)\n",
        "\n",
        "  # train the model\n",
        "  print(\"training started...\")\n",
        "  W = sgd(X_train.to_numpy(), y_train.to_numpy())\n",
        "  print(\"training finished.\")\n",
        "  print(\"weights are: {}\".format(W))\n",
        "\n",
        "  # testing the model\n",
        "  print(\"testing the model...\")\n",
        "  y_train_predicted = np.array([])\n",
        "  for i in range(X_train.shape[0]):\n",
        "      yp = np.sign(np.dot(X_train.to_numpy()[i], W))\n",
        "      y_train_predicted = np.append(y_train_predicted, yp)\n",
        "\n",
        "  y_test_predicted = np.array([])\n",
        "  for i in range(X_test.shape[0]):\n",
        "      yp = np.sign(np.dot(X_test.to_numpy()[i], W))\n",
        "      y_test_predicted = np.append(y_test_predicted, yp)\n",
        "\n",
        "  print(\"accuracy on test dataset: {}\".format(accuracy_score(y_test, y_test_predicted)))\n",
        "  print(\"recall on test dataset: {}\".format(recall_score(y_test, y_test_predicted)))\n",
        "  print(\"precision on test dataset: {}\".format(recall_score(y_test, y_test_predicted)))"
      ],
      "execution_count": 7,
      "outputs": []
    },
    {
      "cell_type": "code",
      "metadata": {
        "colab": {
          "base_uri": "https://localhost:8080/"
        },
        "id": "gG5XnPBwHBrG",
        "outputId": "d040f406-fb09-4629-9493-1216555e891a"
      },
      "source": [
        "# set hyper-parameters and call init\n",
        "regularization_strength = 10000\n",
        "learning_rate = 0.000001\n",
        "init()"
      ],
      "execution_count": 8,
      "outputs": [
        {
          "output_type": "stream",
          "text": [
            "reading dataset...\n",
            "applying feature engineering...\n",
            "splitting dataset into train and test sets...\n",
            "training started...\n",
            "Epoch is: 1 and Cost is: 7226.213563934779\n",
            "Epoch is: 2 and Cost is: 6523.295026917826\n",
            "Epoch is: 4 and Cost is: 5443.3285239018\n",
            "Epoch is: 8 and Cost is: 3833.1805203535528\n",
            "Epoch is: 16 and Cost is: 2630.778639866819\n",
            "Epoch is: 32 and Cost is: 1968.4846413062307\n",
            "Epoch is: 64 and Cost is: 1593.7002301617006\n",
            "Epoch is: 128 and Cost is: 1326.930975191162\n",
            "Epoch is: 256 and Cost is: 1159.0488784063316\n",
            "Epoch is: 512 and Cost is: 1076.7641755294258\n",
            "Epoch is: 1024 and Cost is: 1045.99723670796\n",
            "Epoch is: 2048 and Cost is: 1048.854312780646\n",
            "training finished.\n",
            "weights are: [ 3.53897044 11.05524099 -2.34152356 -7.89523281 10.14689907 -1.28758109\n",
            " -6.45225125  2.22099813 -3.89289243  3.2129223   4.92797596  4.81066611\n",
            " -4.76336627]\n",
            "testing the model...\n",
            "accuracy on test dataset: 0.9824561403508771\n",
            "recall on test dataset: 0.9534883720930233\n",
            "precision on test dataset: 0.9534883720930233\n"
          ],
          "name": "stdout"
        }
      ]
    },
    {
      "cell_type": "code",
      "metadata": {
        "colab": {
          "base_uri": "https://localhost:8080/"
        },
        "id": "4OaWuSNbHvhD",
        "outputId": "de5c49c5-6dcc-4d59-838a-bc9c8314cefe"
      },
      "source": [
        "np.sign(0)"
      ],
      "execution_count": 14,
      "outputs": [
        {
          "output_type": "execute_result",
          "data": {
            "text/plain": [
              "0"
            ]
          },
          "metadata": {
            "tags": []
          },
          "execution_count": 14
        }
      ]
    },
    {
      "cell_type": "code",
      "metadata": {
        "id": "Ol5HfcHAH8SQ"
      },
      "source": [
        ""
      ],
      "execution_count": null,
      "outputs": []
    }
  ]
}