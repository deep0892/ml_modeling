{
  "nbformat": 4,
  "nbformat_minor": 0,
  "metadata": {
    "colab": {
      "name": "SigmoidActivationFunction.ipynb",
      "provenance": [],
      "collapsed_sections": []
    },
    "kernelspec": {
      "name": "python3",
      "display_name": "Python 3"
    },
    "language_info": {
      "name": "python"
    }
  },
  "cells": [
    {
      "cell_type": "markdown",
      "metadata": {
        "id": "aArPUP9Ma-Mg"
      },
      "source": [
        "**Sigmoid Activation Function**"
      ]
    },
    {
      "cell_type": "code",
      "metadata": {
        "id": "DqlSmNLY7oQf"
      },
      "source": [
        "import numpy as np\n",
        "\n",
        "# Sigmoid activation\n",
        "class Activation_Sigmoid:\n",
        "  # Forward pass\n",
        "  def forward( self , inputs ):\n",
        "    # Save input and calculate/save output\n",
        "    # of the sigmoid function\n",
        "    self.inputs = inputs\n",
        "    self.output = 1 / ( 1 + np.exp( - inputs))\n",
        "  \n",
        "  # Backward pass\n",
        "  def backward( self , dvalues ):\n",
        "    # Derivative - calculates from output of the sigmoid function\n",
        "    self.dinputs = dvalues * ( 1 - self.output) * self.output"
      ],
      "execution_count": 3,
      "outputs": []
    },
    {
      "cell_type": "code",
      "metadata": {
        "id": "dTmpKtyO7oI7"
      },
      "source": [
        ""
      ],
      "execution_count": null,
      "outputs": []
    }
  ]
}