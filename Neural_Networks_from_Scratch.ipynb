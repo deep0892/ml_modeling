{
  "nbformat": 4,
  "nbformat_minor": 0,
  "metadata": {
    "colab": {
      "name": "Neural_Networks_from_Scratch.ipynb",
      "provenance": [],
      "collapsed_sections": []
    },
    "kernelspec": {
      "name": "python3",
      "display_name": "Python 3"
    },
    "language_info": {
      "name": "python"
    }
  },
  "cells": [
    {
      "cell_type": "code",
      "metadata": {
        "colab": {
          "base_uri": "https://localhost:8080/"
        },
        "id": "FbZy48Ocdxot",
        "outputId": "1b8d058c-8457-4849-8b19-1f7b982dc7bc"
      },
      "source": [
        "inputs = [ 1 , 2 , 3 , 2.5 ]\n",
        "\n",
        "weights = [[ 0.2 , 0.8 , - 0.5 , 1 ],\n",
        "           [ 0.5 , - 0.91 , 0.26 , - 0.5 ],\n",
        "           [ - 0.26 , - 0.27 , 0.17 , 0.87 ]]\n",
        "\n",
        "biases = [ 2 , 3 , 0.5 ]\n",
        "\n",
        "# Output of current layer\n",
        "layer_outputs = []\n",
        "\n",
        "# For each neuron\n",
        "for neuron_weights, neuron_bias in zip (weights, biases):\n",
        "  # Zeroed output of given neuron\n",
        "  neuron_output = 0\n",
        "  # For each input and weight to the neuron\n",
        "  for n_input, weight in zip (inputs, neuron_weights):\n",
        "    # Multiply this input by associated weight\n",
        "    # and add to the neuron’s output variable\n",
        "    neuron_output += n_input * weight\n",
        "  # Add bias\n",
        "  neuron_output += neuron_bias\n",
        "  # Put neuron’s result to the layer’s output list\n",
        "  layer_outputs.append(neuron_output)\n",
        "print (layer_outputs)"
      ],
      "execution_count": null,
      "outputs": [
        {
          "output_type": "stream",
          "text": [
            "[4.8, 1.21, 2.385]\n"
          ],
          "name": "stdout"
        }
      ]
    },
    {
      "cell_type": "markdown",
      "metadata": {
        "id": "pseRamnVyepV"
      },
      "source": [
        "---\n"
      ]
    },
    {
      "cell_type": "markdown",
      "metadata": {
        "id": "4a5yNphYpVL3"
      },
      "source": [
        "A Single Neuron with NumPy"
      ]
    },
    {
      "cell_type": "code",
      "metadata": {
        "colab": {
          "base_uri": "https://localhost:8080/"
        },
        "id": "bxSF2SeYePM4",
        "outputId": "bb74c131-00bf-4336-b66c-f5a0ef07b805"
      },
      "source": [
        "import numpy as np\n",
        "outputs = np.dot(weights, inputs) + bias\n",
        "print (outputs)"
      ],
      "execution_count": null,
      "outputs": [
        {
          "output_type": "stream",
          "text": [
            "[4.8   0.21  3.885]\n"
          ],
          "name": "stdout"
        }
      ]
    },
    {
      "cell_type": "markdown",
      "metadata": {
        "id": "tS9Gaygpyf5p"
      },
      "source": [
        "---"
      ]
    },
    {
      "cell_type": "markdown",
      "metadata": {
        "id": "zbv8QCOixm3Y"
      },
      "source": [
        "Multiple layers:"
      ]
    },
    {
      "cell_type": "code",
      "metadata": {
        "id": "TF3mfE9GpWwg"
      },
      "source": [
        "inputs = [[ 1 , 2 , 3 , 2.5 ],\n",
        "[ 2. , 5. , - 1. , 2 ],\n",
        "[ - 1.5 , 2.7 , 3.3 , - 0.8 ]]\n",
        "weights = [[ 0.2 , 0.8 , - 0.5 , 1 ],\n",
        "[ 0.5 , - 0.91 , 0.26 , - 0.5 ],\n",
        "[ - 0.26 , - 0.27 , 0.17 , 0.87 ]]\n",
        "biases = [ 2 , 3 , 0.5 ]\n",
        "weights2 = [[ 0.1 , - 0.14 , 0.5 ],\n",
        "[ - 0.5 , 0.12 , - 0.33 ],\n",
        "[ - 0.44 , 0.73 , - 0.13 ]]\n",
        "biases2 = [ - 1 , 2 , - 0.5 ]"
      ],
      "execution_count": null,
      "outputs": []
    },
    {
      "cell_type": "code",
      "metadata": {
        "colab": {
          "base_uri": "https://localhost:8080/"
        },
        "id": "ntNfB8Pjx4z7",
        "outputId": "66cf3954-893f-408b-b42a-bf5a588209bb"
      },
      "source": [
        "layer1_outputs = np.dot(inputs, np.array(weights).T) + biases\n",
        "layer1_outputs.shape"
      ],
      "execution_count": null,
      "outputs": [
        {
          "output_type": "execute_result",
          "data": {
            "text/plain": [
              "(3, 3)"
            ]
          },
          "metadata": {
            "tags": []
          },
          "execution_count": 7
        }
      ]
    },
    {
      "cell_type": "code",
      "metadata": {
        "colab": {
          "base_uri": "https://localhost:8080/"
        },
        "id": "2A4GUYIxx6es",
        "outputId": "4b284398-4767-4216-f604-8ce7564cb188"
      },
      "source": [
        "layer2_outputs = np.dot(layer1_outputs, np.array(weights2).T) + biases2\n",
        "layer2_outputs.shape"
      ],
      "execution_count": null,
      "outputs": [
        {
          "output_type": "execute_result",
          "data": {
            "text/plain": [
              "(3, 3)"
            ]
          },
          "metadata": {
            "tags": []
          },
          "execution_count": 8
        }
      ]
    },
    {
      "cell_type": "markdown",
      "metadata": {
        "id": "ok9HlVLVyc_c"
      },
      "source": [
        "---\n",
        "\n",
        "\n"
      ]
    },
    {
      "cell_type": "markdown",
      "metadata": {
        "id": "co3WxRLI05Rt"
      },
      "source": [
        "Training Data"
      ]
    },
    {
      "cell_type": "code",
      "metadata": {
        "colab": {
          "base_uri": "https://localhost:8080/"
        },
        "id": "6HiLYL0GyAxK",
        "outputId": "bf96c50b-782a-4310-a4e1-b88ff37b2e20"
      },
      "source": [
        "!pip install nnfs"
      ],
      "execution_count": null,
      "outputs": [
        {
          "output_type": "stream",
          "text": [
            "Collecting nnfs\n",
            "  Downloading https://files.pythonhosted.org/packages/06/8c/3003a41d5229e65da792331b060dcad8100a0a5b9760f8c2074cde864148/nnfs-0.5.1-py3-none-any.whl\n",
            "Requirement already satisfied: numpy in /usr/local/lib/python3.7/dist-packages (from nnfs) (1.19.5)\n",
            "Installing collected packages: nnfs\n",
            "Successfully installed nnfs-0.5.1\n"
          ],
          "name": "stdout"
        }
      ]
    },
    {
      "cell_type": "code",
      "metadata": {
        "id": "_O4RmX-E0-DV"
      },
      "source": [
        "import numpy as np\n",
        "import nnfs\n",
        "\n",
        "from nnfs.datasets import spiral_data\n",
        "nnfs.init()"
      ],
      "execution_count": null,
      "outputs": []
    },
    {
      "cell_type": "markdown",
      "metadata": {
        "id": "kb-fAk6f1P0X"
      },
      "source": [
        "The nnfs.init() does three things: it sets the random seed to 0 (by the default), creates a\n",
        "float32 dtype default, and overrides the original dot product from NumPy. All of these are meant\n",
        "to ensure repeatable results for following along."
      ]
    },
    {
      "cell_type": "code",
      "metadata": {
        "colab": {
          "base_uri": "https://localhost:8080/",
          "height": 265
        },
        "id": "wMXNYlUS0_49",
        "outputId": "afa108ef-f8a0-4222-bb38-1c4d3edda841"
      },
      "source": [
        "import matplotlib.pyplot as plt\n",
        "X, y = spiral_data( samples = 100 , classes = 3 )\n",
        "\n",
        "X.shape, y.shape\n",
        "\n",
        "plt.scatter(X[:, 0 ], X[:, 1 ], c = y, cmap = 'brg' )\n",
        "plt.show()"
      ],
      "execution_count": null,
      "outputs": [
        {
          "output_type": "display_data",
          "data": {
            "image/png": "[encoded data removed]",
            "text/plain": [
              "<Figure size 432x288 with 1 Axes>"
            ]
          },
          "metadata": {
            "tags": [],
            "needs_background": "light"
          }
        }
      ]
    },
    {
      "cell_type": "markdown",
      "metadata": {
        "id": "blgxY6zw16fW"
      },
      "source": [
        "---"
      ]
    },
    {
      "cell_type": "markdown",
      "metadata": {
        "id": "1Z71u9Ws1-bR"
      },
      "source": [
        "**Dense Layer Class**"
      ]
    },
    {
      "cell_type": "code",
      "metadata": {
        "id": "Nmdgqo-E1W9d"
      },
      "source": [
        "import numpy as np\n",
        "import nnfs\n",
        "from nnfs.datasets import spiral_data\n",
        "nnfs.init()\n",
        "# Dense layer\n",
        "class Layer_Dense :\n",
        "\n",
        "  # Layer initialization\n",
        "  def __init__ ( self , n_inputs , n_neurons ):\n",
        "    # Initialize weights and biases\n",
        "    self.weights = 0.01 * np.random.randn(n_inputs, n_neurons)\n",
        "    self.biases = np.zeros(( 1 , n_neurons))\n",
        "\n",
        "  # Forward pass\n",
        "  def forward ( self , inputs ):\n",
        "    # Calculate output values from inputs, weights and biases\n",
        "    self.output = np.dot(inputs, self.weights) + self.biases\n",
        "  "
      ],
      "execution_count": null,
      "outputs": []
    },
    {
      "cell_type": "code",
      "metadata": {
        "colab": {
          "base_uri": "https://localhost:8080/"
        },
        "id": "qcssT3XP41kG",
        "outputId": "713330d6-a2b4-46d2-e42d-23d5cff274db"
      },
      "source": [
        "# Create dataset\n",
        "X, y = spiral_data( samples = 100 , classes = 3 )\n",
        "print(X.shape, y.shape)\n",
        "\n",
        "# Create Dense layer with 2 input features and 3 output values\n",
        "dense1 = Layer_Dense( 2 , 3 )\n",
        "\n",
        "# Perform a forward pass of our training data through this layer\n",
        "dense1.forward(X)\n",
        "\n",
        "# Let's see output of the first few samples:\n",
        "print (dense1.output[: 5 ])"
      ],
      "execution_count": null,
      "outputs": [
        {
          "output_type": "stream",
          "text": [
            "(300, 2) (300,)\n",
            "[[ 0.0000000e+00  0.0000000e+00  0.0000000e+00]\n",
            " [-1.0475188e-04  1.1395361e-04 -4.7983500e-05]\n",
            " [-2.7414842e-04  3.1729150e-04 -8.6921798e-05]\n",
            " [-4.2188365e-04  5.2666257e-04 -5.5912682e-05]\n",
            " [-5.7707680e-04  7.1401405e-04 -8.9430439e-05]]\n"
          ],
          "name": "stdout"
        }
      ]
    },
    {
      "cell_type": "markdown",
      "metadata": {
        "id": "7UmUkPzoL5e3"
      },
      "source": [
        "---"
      ]
    },
    {
      "cell_type": "markdown",
      "metadata": {
        "id": "DZQHcYujL7-f"
      },
      "source": [
        "**ReLU Activation Function Code**"
      ]
    },
    {
      "cell_type": "code",
      "metadata": {
        "colab": {
          "base_uri": "https://localhost:8080/"
        },
        "id": "pCdR9ape49wt",
        "outputId": "096be044-f23f-4e0e-d774-3ebf5d54e089"
      },
      "source": [
        "inputs = [ 0 , 2 , - 1 , 3.3 , - 2.7 , 1.1 , 2.2 , - 100 ]\n",
        "output = []\n",
        "for i in inputs:\n",
        "  output.append( max ( 0 , i))\n",
        "print (output)"
      ],
      "execution_count": null,
      "outputs": [
        {
          "output_type": "stream",
          "text": [
            "[0, 2, 0, 3.3, 0, 1.1, 2.2, 0]\n"
          ],
          "name": "stdout"
        }
      ]
    },
    {
      "cell_type": "code",
      "metadata": {
        "colab": {
          "base_uri": "https://localhost:8080/"
        },
        "id": "8pPdCfzHMCxM",
        "outputId": "2103919d-c3a6-4b14-9e3d-66f60aa12682"
      },
      "source": [
        "import numpy as np\n",
        "inputs = [ 0 , 2 , - 1 , 3.3 , - 2.7 , 1.1 , 2.2 , - 100 ]\n",
        "output = np.maximum( 0 , inputs)\n",
        "print (output)"
      ],
      "execution_count": null,
      "outputs": [
        {
          "output_type": "stream",
          "text": [
            "[0.  2.  0.  3.3 0.  1.1 2.2 0. ]\n"
          ],
          "name": "stdout"
        }
      ]
    },
    {
      "cell_type": "code",
      "metadata": {
        "id": "iV-Zf7WKMTWV"
      },
      "source": [
        "# ReLU activation\n",
        "class Activation_ReLU :\n",
        "  \n",
        "  # Forward pass\n",
        "  def forward ( self , inputs ):\n",
        "    # Calculate output values from input\n",
        "    self.output = np.maximum( 0 , inputs)"
      ],
      "execution_count": null,
      "outputs": []
    },
    {
      "cell_type": "code",
      "metadata": {
        "colab": {
          "base_uri": "https://localhost:8080/"
        },
        "id": "1wlp-RuhMgEx",
        "outputId": "74c253f4-0d80-4115-ae0b-f0e1e154af99"
      },
      "source": [
        "# Create dataset\n",
        "X, y = spiral_data( samples = 100 , classes = 3 )\n",
        "\n",
        "# Create Dense layer with 2 input features and 3 output values\n",
        "dense1 = Layer_Dense( 2 , 3 )\n",
        "\n",
        "# Create ReLU activation (to be used with Dense layer):\n",
        "activation1 = Activation_ReLU()\n",
        "\n",
        "# Make a forward pass of our training data through this layer\n",
        "dense1.forward(X)\n",
        "\n",
        "# Forward pass through activation func.\n",
        "# Takes in output from previous layer\n",
        "activation1.forward(dense1.output)\n",
        "\n",
        "# Let's see output of the first few samples:\n",
        "print (activation1.output[: 5 ])"
      ],
      "execution_count": null,
      "outputs": [
        {
          "output_type": "stream",
          "text": [
            "[[0.         0.         0.        ]\n",
            " [0.00013767 0.         0.        ]\n",
            " [0.00022187 0.         0.        ]\n",
            " [0.0004077  0.         0.        ]\n",
            " [0.00054541 0.         0.        ]]\n"
          ],
          "name": "stdout"
        }
      ]
    },
    {
      "cell_type": "markdown",
      "metadata": {
        "id": "dktoRuWOEcpM"
      },
      "source": [
        "---"
      ]
    },
    {
      "cell_type": "markdown",
      "metadata": {
        "id": "JHdaM_ryB5kM"
      },
      "source": [
        "The Softmax Activation Function"
      ]
    },
    {
      "cell_type": "code",
      "metadata": {
        "id": "uljfUEnYMm6f",
        "colab": {
          "base_uri": "https://localhost:8080/"
        },
        "outputId": "eed9b3a0-1c3e-42d6-f480-6d6290e43ac0"
      },
      "source": [
        "import numpy as np\n",
        "\n",
        "# Values from the earlier previous when we described\n",
        "# what a neural network is\n",
        "layer_outputs = [ 4.8 , 1.21 , 2.385 ]\n",
        "\n",
        "# For each value in a vector, calculate the exponential value\n",
        "exp_values = np.exp(layer_outputs)\n",
        "print ( 'exponentiated values:' )\n",
        "print (exp_values)\n",
        "\n",
        "# Now normalize values\n",
        "norm_values = exp_values / np.sum(exp_values)\n",
        "print ( 'normalized exponentiated values:' )\n",
        "\n",
        "print (norm_values)\n",
        "print ( 'sum of normalized values:' , np.sum(norm_values))"
      ],
      "execution_count": 34,
      "outputs": [
        {
          "output_type": "stream",
          "text": [
            "exponentiated values:\n",
            "[121.51041752   3.35348465  10.85906266]\n",
            "normalized exponentiated values:\n",
            "[0.89528266 0.02470831 0.08000903]\n",
            "sum of normalized values: 0.9999999999999999\n"
          ],
          "name": "stdout"
        }
      ]
    },
    {
      "cell_type": "code",
      "metadata": {
        "id": "FscckQWVCEfE"
      },
      "source": [
        "# Softmax activation\n",
        "class Activation_Softmax :\n",
        "\n",
        "  # Forward pass\n",
        "  def forward ( self , inputs ):\n",
        "\n",
        "    # Get unnormalized probabilities\n",
        "    exp_values = np.exp(inputs - np.max(inputs, axis = 1 , keepdims = True ))\n",
        "\n",
        "    # Normalize them for each sample\n",
        "    probabilities = exp_values / np.sum(exp_values, axis = 1 , keepdims = True )\n",
        "    \n",
        "    self.output = probabilities"
      ],
      "execution_count": 35,
      "outputs": []
    },
    {
      "cell_type": "code",
      "metadata": {
        "colab": {
          "base_uri": "https://localhost:8080/"
        },
        "id": "ItYFuJcwEHKf",
        "outputId": "b4729b23-c120-493d-e1a0-54a398baf9b9"
      },
      "source": [
        "softmax = Activation_Softmax()\n",
        "softmax.forward([[ 1 , 2 , 3 ]])\n",
        "print (softmax.output)"
      ],
      "execution_count": 36,
      "outputs": [
        {
          "output_type": "stream",
          "text": [
            "[[0.09003057 0.24472847 0.66524096]]\n"
          ],
          "name": "stdout"
        }
      ]
    },
    {
      "cell_type": "code",
      "metadata": {
        "colab": {
          "base_uri": "https://localhost:8080/"
        },
        "id": "2RR_tv5DEN_X",
        "outputId": "64ce73ee-fca2-4887-c072-33232fa08792"
      },
      "source": [
        "softmax.forward([[ - 2 , - 1 , 0 ]]) # subtracted 3 - max from the list\n",
        "print (softmax.output)"
      ],
      "execution_count": 37,
      "outputs": [
        {
          "output_type": "stream",
          "text": [
            "[[0.09003057 0.24472847 0.66524096]]\n"
          ],
          "name": "stdout"
        }
      ]
    },
    {
      "cell_type": "markdown",
      "metadata": {
        "id": "Kx21Jto0Ef6U"
      },
      "source": [
        "---"
      ]
    },
    {
      "cell_type": "code",
      "metadata": {
        "colab": {
          "base_uri": "https://localhost:8080/"
        },
        "id": "Rb04iDBuEV8W",
        "outputId": "d9b24f3f-1e41-4faf-f0c5-465a0b4f7288"
      },
      "source": [
        "# Create dataset\n",
        "X, y = spiral_data( samples = 100 , classes = 3 )\n",
        "\n",
        "# Create Dense layer with 2 input features and 3 output values\n",
        "dense1 = Layer_Dense( 2 , 3 )\n",
        "\n",
        "# Create ReLU activation (to be used with Dense layer):\n",
        "activation1 = Activation_ReLU()\n",
        "\n",
        "# Create second Dense layer with 3 input features (as we take output\n",
        "# of previous layer here) and 3 output values\n",
        "dense2 = Layer_Dense( 3 , 3 )\n",
        "\n",
        "# Create Softmax activation (to be used with Dense layer):\n",
        "activation2 = Activation_Softmax()\n",
        "\n",
        "# Make a forward pass of our training data through this layer\n",
        "dense1.forward(X)\n",
        "print(dense1.output.shape)\n",
        "\n",
        "# Make a forward pass through activation function\n",
        "# it takes the output of first dense layer here\n",
        "activation1.forward(dense1.output)\n",
        "print(activation1.output.shape)\n",
        "\n",
        "# Make a forward pass through second Dense layer\n",
        "# it takes outputs of activation function of first layer as inputs\n",
        "dense2.forward(activation1.output)\n",
        "print(dense2.output.shape)\n",
        "\n",
        "# Make a forward pass through activation function\n",
        "# it takes the output of second dense layer here\n",
        "activation2.forward(dense2.output)\n",
        "print(activation2.output.shape)\n",
        "\n",
        "# Let's see output of the first few samples:\n",
        "print (activation2.output[: 5 ])"
      ],
      "execution_count": 40,
      "outputs": [
        {
          "output_type": "stream",
          "text": [
            "(300, 3)\n",
            "(300, 3)\n",
            "(300, 3)\n",
            "(300, 3)\n",
            "[[0.33333334 0.33333334 0.33333334]\n",
            " [0.3333336  0.33333313 0.3333333 ]\n",
            " [0.3333337  0.33333302 0.3333333 ]\n",
            " [0.33333385 0.33333287 0.33333328]\n",
            " [0.33333433 0.33333242 0.33333322]]\n"
          ],
          "name": "stdout"
        }
      ]
    },
    {
      "cell_type": "markdown",
      "metadata": {
        "id": "oSjutWNMJLYE"
      },
      "source": [
        "---"
      ]
    },
    {
      "cell_type": "markdown",
      "metadata": {
        "id": "UQ-GlFiaJOWi"
      },
      "source": [
        "Full Code for Dense Layer and Activation Functions"
      ]
    },
    {
      "cell_type": "code",
      "metadata": {
        "id": "AfNtfllzHlnm"
      },
      "source": [
        "import numpy as np\n",
        "import nnfs \n",
        "\n",
        "from nnfs.datasets import spiral_data\n",
        "nnfs.init()\n",
        "\n",
        "# Dense layer\n",
        "class Layer_Dense :\n",
        "  # Layer initialization\n",
        "  def __init__ ( self , n_inputs , n_neurons ):\n",
        "    # Initialize weights and biases\n",
        "    self.weights = 0.01 * np.random.randn(n_inputs, n_neurons)\n",
        "    self.biases = np.zeros(( 1 , n_neurons))\n",
        "    # Forward pass\n",
        "\n",
        "  def forward ( self , inputs ):\n",
        "    # Calculate output values from inputs, weights and biases\n",
        "    self.output = np.dot(inputs, self.weights) + self.biases\n",
        "\n",
        "# ReLU activation\n",
        "class Activation_ReLU :\n",
        "  # Forward pass\n",
        "  def forward ( self , inputs ):\n",
        "    # Calculate output values from inputs\n",
        "    self.output = np.maximum( 0 , inputs)\n",
        "\n",
        "# Softmax activation\n",
        "class Activation_Softmax :\n",
        "  # Forward pass\n",
        "  def forward ( self , inputs ):\n",
        "    # Get unnormalized probabilities\n",
        "    exp_values = np.exp(inputs - np.max(inputs, axis = 1 ,\n",
        "    keepdims = True ))\n",
        "    # Normalize them for each sample\n",
        "    probabilities = exp_values / np.sum(exp_values, axis = 1 ,\n",
        "    keepdims = True )\n",
        "    self.output = probabilities\n"
      ],
      "execution_count": 43,
      "outputs": []
    },
    {
      "cell_type": "code",
      "metadata": {
        "colab": {
          "base_uri": "https://localhost:8080/"
        },
        "id": "6u5LVyr-JYLn",
        "outputId": "91f69227-7c15-4b3a-dc2e-ec6fc460f03e"
      },
      "source": [
        "# Create dataset\n",
        "X, y = spiral_data( samples = 100 , classes = 3 )\n",
        "\n",
        "# Create Dense layer with 2 input features and 3 output values\n",
        "dense1 = Layer_Dense( 2 , 3 )\n",
        "\n",
        "# Create ReLU activation (to be used with Dense layer):\n",
        "activation1 = Activation_ReLU()\n",
        "\n",
        "# Create second Dense layer with 3 input features (as we take output\n",
        "# of previous layer here) and 3 output values (output values)\n",
        "dense2 = Layer_Dense( 3 , 3 )\n",
        "\n",
        "# Create Softmax activation (to be used with Dense layer):\n",
        "activation2 = Activation_Softmax()\n",
        "\n",
        "# Make a forward pass of our training data through this layer\n",
        "dense1.forward(X)\n",
        "\n",
        "# Make a forward pass through activation function\n",
        "# it takes the output of first dense layer here\n",
        "activation1.forward(dense1.output)\n",
        "\n",
        "# Make a forward pass through second Dense layer\n",
        "# it takes outputs of activation function of first layer as inputs\n",
        "dense2.forward(activation1.output)\n",
        "\n",
        "# Make a forward pass through activation function\n",
        "# it takes the output of second dense layer here\n",
        "activation2.forward(dense2.output)\n",
        "\n",
        "# Let's see output of the first few samples:\n",
        "print (activation2.output[: 5 ])"
      ],
      "execution_count": 44,
      "outputs": [
        {
          "output_type": "stream",
          "text": [
            "[[0.33333334 0.33333334 0.33333334]\n",
            " [0.3333332  0.3333332  0.33333364]\n",
            " [0.3333329  0.33333293 0.3333342 ]\n",
            " [0.3333326  0.33333263 0.33333477]\n",
            " [0.33333233 0.3333324  0.33333528]]\n"
          ],
          "name": "stdout"
        }
      ]
    },
    {
      "cell_type": "markdown",
      "metadata": {
        "id": "lkXJJ-zxME0Z"
      },
      "source": [
        "---"
      ]
    },
    {
      "cell_type": "markdown",
      "metadata": {
        "id": "F86HGLG2MHme"
      },
      "source": [
        "np.sum along different axis"
      ]
    },
    {
      "cell_type": "code",
      "metadata": {
        "colab": {
          "base_uri": "https://localhost:8080/"
        },
        "id": "Ql6V1DBKJ9QT",
        "outputId": "4976e28b-a090-4449-b11d-66b1929e7a69"
      },
      "source": [
        "layer_outputs = np.array([[ 4.8 , 1.21 , 2.385 ],\n",
        "[ 8.9 , - 1.81 , 0.2 ],\n",
        "[ 1.41 , 1.051 , 0.026 ]])\n",
        "print ( 'Another way to think of it w/ a matrix == axis 0: columns:' )\n",
        "print (np.sum(layer_outputs, axis = 0, keepdims=True ))\n",
        "print ( 'So we can sum axis 1, but note the current shape:' )\n",
        "print (np.sum(layer_outputs, axis = 1, keepdims=True ))"
      ],
      "execution_count": 47,
      "outputs": [
        {
          "output_type": "stream",
          "text": [
            "Another way to think of it w/ a matrix == axis 0: columns:\n",
            "[[15.11   0.451  2.611]]\n",
            "So we can sum axis 1, but note the current shape:\n",
            "[[8.395]\n",
            " [7.29 ]\n",
            " [2.487]]\n"
          ],
          "name": "stdout"
        }
      ]
    },
    {
      "cell_type": "markdown",
      "metadata": {
        "id": "2FDhLBuXMNc8"
      },
      "source": [
        "---"
      ]
    },
    {
      "cell_type": "markdown",
      "metadata": {
        "id": "eBy920b6yi3U"
      },
      "source": [
        "Categorical Cross-Entropy Loss"
      ]
    },
    {
      "cell_type": "code",
      "metadata": {
        "colab": {
          "base_uri": "https://localhost:8080/"
        },
        "id": "sBGUnYOxLsZ2",
        "outputId": "5fcbd5a5-e5db-4af9-da03-80961c6090c0"
      },
      "source": [
        "softmax_outputs =  np.array([[ 0.7 , 0.1 , 0.2 ],\n",
        "                   [ 0.1 , 0.5 , 0.4 ],\n",
        "                   [ 0.02 , 0.9 , 0.08 ]])\n",
        "class_targets = [ 0 , 1 , 1 ]\n",
        "neg_log = -1 * np.log( softmax_outputs[range(len(softmax_outputs)), class_targets])\n",
        "average_loss = np.mean(neg_log)\n",
        "print (average_loss)"
      ],
      "execution_count": 54,
      "outputs": [
        {
          "output_type": "stream",
          "text": [
            "0.38506088005216804\n"
          ],
          "name": "stdout"
        }
      ]
    },
    {
      "cell_type": "code",
      "metadata": {
        "id": "BX_uK5nEyyln"
      },
      "source": [
        "import numpy as np\n",
        "softmax_outputs = np.array([[ 0.7 , 0.1 , 0.2 ],\n",
        "                            [ 0.1 , 0.5 , 0.4 ],\n",
        "                            [ 0.02 , 0.9 , 0.08 ]])\n",
        "class_targets = np.array([[ 1 , 0 , 0 ],\n",
        "                          [ 0 , 1 , 0 ],\n",
        "                          [ 0 , 1 , 0 ]])\n"
      ],
      "execution_count": 56,
      "outputs": []
    },
    {
      "cell_type": "code",
      "metadata": {
        "colab": {
          "base_uri": "https://localhost:8080/"
        },
        "id": "H1Giv2w0zDZV",
        "outputId": "30b5364e-7c54-4c6a-9f71-28c82787f432"
      },
      "source": [
        "# Probabilities for target values -\n",
        "# only if categorical labels\n",
        "if len(class_targets.shape) == 1 :\n",
        "  correct_confidences = softmax_outputs[range(len(softmax_outputs)),class_targets]\n",
        "elif len(class_targets.shape) == 2 :\n",
        "  correct_confidences = np.sum(softmax_outputs * class_targets,axis = 1)\n",
        "\n",
        "print(correct_confidences)\n",
        "# Losses\n",
        "neg_log = - np.log(correct_confidences)\n",
        "\n",
        "average_loss = np.mean(neg_log)\n",
        "\n",
        "print (average_loss)"
      ],
      "execution_count": 57,
      "outputs": [
        {
          "output_type": "stream",
          "text": [
            "[0.7 0.5 0.9]\n",
            "0.38506088005216804\n"
          ],
          "name": "stdout"
        }
      ]
    },
    {
      "cell_type": "markdown",
      "metadata": {
        "id": "cBZuFZ4o3D2s"
      },
      "source": [
        "**Categorical Cross-Entropy Loss Class**"
      ]
    },
    {
      "cell_type": "code",
      "metadata": {
        "id": "NNrSFm_d0Unu"
      },
      "source": [
        "# Common loss class\n",
        "class Loss :\n",
        "  \n",
        "  # Calculates the data and regularization losses\n",
        "  # given model output and ground truth values\n",
        "  def calculate ( self , output , y ):\n",
        "    # Calculate sample losses\n",
        "    sample_losses = self.forward(output, y)\n",
        "\n",
        "    # Calculate mean loss\n",
        "    data_loss = np.mean(sample_losses)\n",
        "    \n",
        "    # Return loss\n",
        "    return data_loss"
      ],
      "execution_count": 58,
      "outputs": []
    },
    {
      "cell_type": "code",
      "metadata": {
        "id": "HNQGIKoi31tM"
      },
      "source": [
        "# Cross-entropy loss\n",
        "class Loss_CategoricalCrossentropy ( Loss ):\n",
        "  \n",
        "  # Forward pass\n",
        "  def forward( self , y_pred , y_true ):\n",
        "    # Number of samples in a batch\n",
        "    samples = len(y_pred)\n",
        "\n",
        "    # Clip data to prevent division by 0\n",
        "    # Clip both sides to not drag mean towards any value\n",
        "    y_pred_clipped = np.clip(y_pred, 1e-7 , 1 - 1e-7 )\n",
        "\n",
        "    # Probabilities for target values -\n",
        "    # only if categorical labels\n",
        "    if len(y_true.shape) == 1 :\n",
        "      correct_confidences = y_pred_clipped[range(samples),y_true]\n",
        "    elif len(y_true.shape) == 2 : # Mask values - only for one-hot encoded labels\n",
        "      correct_confidences = np.sum(y_pred_clipped * y_true, axis = 1)\n",
        "\n",
        "    # Losses\n",
        "    negative_log_likelihoods = - np.log(correct_confidences)\n",
        "\n",
        "    return negative_log_likelihoods"
      ],
      "execution_count": 60,
      "outputs": []
    },
    {
      "cell_type": "code",
      "metadata": {
        "colab": {
          "base_uri": "https://localhost:8080/"
        },
        "id": "MC8-UPsl6IoF",
        "outputId": "acf5f2d4-24db-497d-f3b1-7c60062b5dd8"
      },
      "source": [
        "softmax_outputs = np.array([[ 0.7 , 0.1 , 0.2 ],\n",
        "                            [ 0.1 , 0.5 , 0.4 ],\n",
        "                            [ 0.02 , 0.9 , 0.08 ]])\n",
        "class_targets = np.array([[ 1 , 0 , 0 ],\n",
        "                          [ 0 , 1 , 0 ],\n",
        "                          [ 0 , 1 , 0 ]])\n",
        "\n",
        "loss_function = Loss_CategoricalCrossentropy()\n",
        "\n",
        "loss = loss_function.calculate(softmax_outputs, class_targets)\n",
        "\n",
        "print (loss)"
      ],
      "execution_count": 61,
      "outputs": [
        {
          "output_type": "stream",
          "text": [
            "0.38506088005216804\n"
          ],
          "name": "stdout"
        }
      ]
    },
    {
      "cell_type": "markdown",
      "metadata": {
        "id": "NA1n7IeN8C2R"
      },
      "source": [
        "Summarize:"
      ]
    },
    {
      "cell_type": "code",
      "metadata": {
        "id": "Q-sPgvn171F-"
      },
      "source": [
        "import numpy as np\n",
        "import nnfs \n",
        "\n",
        "from nnfs.datasets import spiral_data\n",
        "nnfs.init()\n",
        "\n",
        "# Dense layer\n",
        "class Layer_Dense :\n",
        "  # Layer initialization\n",
        "  def __init__ ( self , n_inputs , n_neurons ):\n",
        "    # Initialize weights and biases\n",
        "    self.weights = 0.01 * np.random.randn(n_inputs, n_neurons)\n",
        "    self.biases = np.zeros(( 1 , n_neurons))\n",
        "    # Forward pass\n",
        "\n",
        "  def forward ( self , inputs ):\n",
        "    # Calculate output values from inputs, weights and biases\n",
        "    self.output = np.dot(inputs, self.weights) + self.biases\n",
        "\n",
        "# ReLU activation\n",
        "class Activation_ReLU :\n",
        "  # Forward pass\n",
        "  def forward ( self , inputs ):\n",
        "    # Calculate output values from inputs\n",
        "    self.output = np.maximum( 0 , inputs)\n",
        "\n",
        "# Softmax activation\n",
        "class Activation_Softmax :\n",
        "  # Forward pass\n",
        "  def forward ( self , inputs ):\n",
        "    # Get unnormalized probabilities\n",
        "    exp_values = np.exp(inputs - np.max(inputs, axis = 1 , keepdims = True ))\n",
        "\n",
        "    # Normalize them for each sample\n",
        "    probabilities = exp_values / np.sum(exp_values, axis = 1, keepdims = True )\n",
        "    \n",
        "    self.output = probabilities\n",
        "\n",
        "# Common loss class\n",
        "class Loss :  \n",
        "  # Calculates the data and regularization losses\n",
        "  # given model output and ground truth values\n",
        "  def calculate ( self , output , y ):\n",
        "    # Calculate sample losses\n",
        "    sample_losses = self.forward(output, y)\n",
        "\n",
        "    # Calculate mean loss\n",
        "    data_loss = np.mean(sample_losses)\n",
        "    \n",
        "    # Return loss\n",
        "    return data_loss\n",
        "\n",
        "# Cross-entropy loss\n",
        "class Loss_CategoricalCrossentropy ( Loss ):\n",
        "  # Forward pass\n",
        "  def forward( self , y_pred , y_true ):\n",
        "    # Number of samples in a batch\n",
        "    samples = len(y_pred)\n",
        "\n",
        "    # Clip data to prevent division by 0\n",
        "    # Clip both sides to not drag mean towards any value\n",
        "    y_pred_clipped = np.clip(y_pred, 1e-7 , 1 - 1e-7 )\n",
        "\n",
        "    # Probabilities for target values -\n",
        "    # only if categorical labels\n",
        "    if len(y_true.shape) == 1 :\n",
        "      correct_confidences = y_pred_clipped[range(samples),y_true]\n",
        "    elif len(y_true.shape) == 2 : # Mask values - only for one-hot encoded labels\n",
        "      correct_confidences = np.sum(y_pred_clipped * y_true, axis = 1)\n",
        "\n",
        "    # Losses\n",
        "    negative_log_likelihoods = - np.log(correct_confidences)\n",
        "\n",
        "    return negative_log_likelihoods"
      ],
      "execution_count": 63,
      "outputs": []
    },
    {
      "cell_type": "code",
      "metadata": {
        "colab": {
          "base_uri": "https://localhost:8080/"
        },
        "id": "SZ4TiHGQ8SBA",
        "outputId": "50f45ba5-6ce9-4ab6-f122-56b2e094e581"
      },
      "source": [
        "# Create dataset\n",
        "X, y = spiral_data( samples = 100 , classes = 3 )\n",
        "\n",
        "# Create Dense layer with 2 input features and 3 output values\n",
        "dense1 = Layer_Dense( 2 , 3 )\n",
        "\n",
        "# Create ReLU activation (to be used with Dense layer):\n",
        "activation1 = Activation_ReLU()\n",
        "\n",
        "# Create second Dense layer with 3 input features (as we take output\n",
        "# of previous layer here) and 3 output values\n",
        "dense2 = Layer_Dense( 3 , 3 )\n",
        "\n",
        "# Create Softmax activation (to be used with Dense layer):\n",
        "activation2 = Activation_Softmax()\n",
        "\n",
        "# Create loss function\n",
        "loss_function = Loss_CategoricalCrossentropy()\n",
        "\n",
        "# Perform a forward pass of our training data through this layer\n",
        "dense1.forward(X)\n",
        "\n",
        "# Perform a forward pass through activation function\n",
        "# it takes the output of first dense layer here\n",
        "activation1.forward(dense1.output)\n",
        "\n",
        "# Perform a forward pass through second Dense layer\n",
        "# it takes outputs of activation function of first layer as inputs\n",
        "dense2.forward(activation1.output)\n",
        "\n",
        "# Perform a forward pass through activation function\n",
        "# it takes the output of second dense layer here\n",
        "activation2.forward(dense2.output)\n",
        "\n",
        "# Let's see output of the first few samples:\n",
        "print (activation2.output[: 5 ])\n",
        "\n",
        "# Perform a forward pass through loss function\n",
        "# it takes the output of second dense layer here and returns loss\n",
        "loss = loss_function.calculate(activation2.output, y)\n",
        "\n",
        "# Calculate accuracy from output of activation2 and targets\n",
        "# calculate values along first axis\n",
        "predictions = np.argmax(activation2.output, axis = 1 )\n",
        "\n",
        "if len (y.shape) == 2 :\n",
        "  y = np.argmax(y, axis=1)\n",
        "\n",
        "accuracy = np.mean(predictions == y)\n",
        "\n",
        "# Print accuracy\n",
        "print ( 'acc:' , accuracy)\n",
        "\n",
        "# Print loss value\n",
        "print ( 'loss:' , loss)"
      ],
      "execution_count": 67,
      "outputs": [
        {
          "output_type": "stream",
          "text": [
            "[[0.33333334 0.33333334 0.33333334]\n",
            " [0.33333355 0.33333322 0.3333332 ]\n",
            " [0.33333382 0.33333313 0.3333331 ]\n",
            " [0.3333341  0.33333302 0.33333293]\n",
            " [0.33333433 0.3333329  0.33333278]]\n",
            "acc: 0.33666666666666667\n",
            "loss: 1.0986081\n"
          ],
          "name": "stdout"
        }
      ]
    },
    {
      "cell_type": "markdown",
      "metadata": {
        "id": "plON56MuBHX6"
      },
      "source": [
        "---"
      ]
    },
    {
      "cell_type": "markdown",
      "metadata": {
        "id": "ZxxNQSCEBJUL"
      },
      "source": [
        "**Accuracy Calculation**"
      ]
    },
    {
      "cell_type": "code",
      "metadata": {
        "colab": {
          "base_uri": "https://localhost:8080/"
        },
        "id": "t01WPKE5822X",
        "outputId": "1dba6082-5216-436e-9e52-20113de36bca"
      },
      "source": [
        "import numpy as np\n",
        "\n",
        "# Probabilities of 3 samples\n",
        "softmax_outputs = np.array([[ 0.7 , 0.2 , 0.1 ], \n",
        "                            [ 0.5 , 0.1 , 0.4 ], \n",
        "                            [ 0.02 , 0.9 , 0.08 ]])\n",
        "\n",
        "# Target (ground-truth) labels for 3 samples\n",
        "class_targets = np.array([ 0 , 1 , 1 ])\n",
        "\n",
        "# Calculate values along second axis (axis of index 1)\n",
        "predictions = np.argmax(softmax_outputs, axis = 1)\n",
        "\n",
        "# If targets are one-hot encoded - convert them\n",
        "if len(class_targets.shape) == 2 :\n",
        "  class_targets = np.argmax(class_targets, axis = 1 )\n",
        "\n",
        "# True evaluates to 1; False to 0\n",
        "accuracy = np.mean(predictions == class_targets)\n",
        "\n",
        "print ( 'acc:' , accuracy)"
      ],
      "execution_count": 68,
      "outputs": [
        {
          "output_type": "stream",
          "text": [
            "acc: 0.6666666666666666\n"
          ],
          "name": "stdout"
        }
      ]
    },
    {
      "cell_type": "markdown",
      "metadata": {
        "id": "5Vv3mTIUEeXW"
      },
      "source": [
        "---"
      ]
    },
    {
      "cell_type": "markdown",
      "metadata": {
        "id": "-XofQDVfEhjj"
      },
      "source": [
        "**Introducing Optimization**"
      ]
    },
    {
      "cell_type": "code",
      "metadata": {
        "id": "kT3d2HDxBXOF"
      },
      "source": [
        "import matplotlib.pyplot as plt\n",
        "import nnfs\n",
        "from nnfs.datasets import vertical_data\n",
        "nnfs.init()"
      ],
      "execution_count": 69,
      "outputs": []
    },
    {
      "cell_type": "code",
      "metadata": {
        "colab": {
          "base_uri": "https://localhost:8080/",
          "height": 265
        },
        "id": "tSa12jliEpbT",
        "outputId": "e4fa460c-fc6c-40d4-aed2-2e095a12d564"
      },
      "source": [
        "X, y = vertical_data( samples = 100 , classes = 3 )\n",
        "plt.scatter(X[:, 0 ], X[:, 1 ], c = y, s = 40 , cmap = 'brg' )\n",
        "plt.show()"
      ],
      "execution_count": 70,
      "outputs": [
        {
          "output_type": "display_data",
          "data": {
            "image/png": "[encoded data removed]",
            "text/plain": [
              "<Figure size 432x288 with 1 Axes>"
            ]
          },
          "metadata": {
            "tags": [],
            "needs_background": "light"
          }
        }
      ]
    },
    {
      "cell_type": "code",
      "metadata": {
        "id": "XSukeBJvEq_o"
      },
      "source": [
        "# Create dataset\n",
        "X, y = vertical_data( samples = 100 , classes = 3 )\n",
        "\n",
        "# Create model\n",
        "dense1 = Layer_Dense( 2 , 3 ) # first dense layer, 2 inputs\n",
        "\n",
        "activation1 = Activation_ReLU()\n",
        "\n",
        "dense2 = Layer_Dense( 3 , 3 ) # second dense layer, 3 inputs, 3 outputs\n",
        "\n",
        "activation2 = Activation_Softmax()\n",
        "\n",
        "# Create loss function\n",
        "loss_function = Loss_CategoricalCrossentropy()"
      ],
      "execution_count": 71,
      "outputs": []
    },
    {
      "cell_type": "code",
      "metadata": {
        "id": "CqqRzCdFE4_k"
      },
      "source": [
        "# Helper variables\n",
        "lowest_loss = 9999999 # some initial value\n",
        "best_dense1_weights = dense1.weights.copy()\n",
        "best_dense1_biases = dense1.biases.copy()\n",
        "best_dense2_weights = dense2.weights.copy()\n",
        "best_dense2_biases = dense2.biases.copy()"
      ],
      "execution_count": 72,
      "outputs": []
    },
    {
      "cell_type": "markdown",
      "metadata": {
        "id": "FJzNifTYGWT7"
      },
      "source": [
        "Updating weights and biases randomly and checking the loss and accuracy"
      ]
    },
    {
      "cell_type": "code",
      "metadata": {
        "colab": {
          "base_uri": "https://localhost:8080/"
        },
        "id": "IDQVqxcNFbTi",
        "outputId": "9a5292a3-e724-46fc-be8b-83c5c06c20a6"
      },
      "source": [
        "for iteration in range ( 10000 ):\n",
        "  # Generate a new set of weights for iteration\n",
        "  dense1.weights = 0.05 * np.random.randn( 2 , 3 )\n",
        "  dense1.biases = 0.05 * np.random.randn( 1 , 3 )\n",
        "  dense2.weights = 0.05 * np.random.randn( 3 , 3 )\n",
        "  dense2.biases = 0.05 * np.random.randn( 1 , 3 )\n",
        "\n",
        "  # Perform a forward pass of the training data through this layer\n",
        "  dense1.forward(X)\n",
        "  activation1.forward(dense1.output)\n",
        "  dense2.forward(activation1.output)\n",
        "  activation2.forward(dense2.output)\n",
        "\n",
        "  # Perform a forward pass through activation function\n",
        "  # it takes the output of second dense layer here and returns loss\n",
        "  loss = loss_function.calculate(activation2.output, y)\n",
        "\n",
        "  # Calculate accuracy from output of activation2 and targets\n",
        "  # calculate values along first axis\n",
        "  predictions = np.argmax(activation2.output, axis = 1 )\n",
        "  accuracy = np.mean(predictions == y)\n",
        "\n",
        "  # If loss is smaller - print and save weights and biases aside\n",
        "  if loss < lowest_loss:\n",
        "    print ( 'New set of weights found, iteration:' , iteration, 'loss:' , loss, 'acc:' , accuracy)\n",
        "    best_dense1_weights = dense1.weights.copy()\n",
        "    best_dense1_biases = dense1.biases.copy()\n",
        "    best_dense2_weights = dense2.weights.copy()\n",
        "    best_dense2_biases = dense2.biases.copy()\n",
        "    lowest_loss = loss"
      ],
      "execution_count": 73,
      "outputs": [
        {
          "output_type": "stream",
          "text": [
            "New set of weights found, iteration: 0 loss: 1.1016203 acc: 0.3333333333333333\n",
            "New set of weights found, iteration: 1 loss: 1.1002508 acc: 0.3333333333333333\n",
            "New set of weights found, iteration: 2 loss: 1.0992025 acc: 0.3333333333333333\n",
            "New set of weights found, iteration: 3 loss: 1.0986239 acc: 0.3333333333333333\n",
            "New set of weights found, iteration: 10 loss: 1.0984299 acc: 0.3333333333333333\n",
            "New set of weights found, iteration: 22 loss: 1.0976521 acc: 0.36333333333333334\n",
            "New set of weights found, iteration: 150 loss: 1.0974255 acc: 0.3333333333333333\n",
            "New set of weights found, iteration: 874 loss: 1.0972673 acc: 0.3333333333333333\n",
            "New set of weights found, iteration: 894 loss: 1.096895 acc: 0.3333333333333333\n",
            "New set of weights found, iteration: 1036 loss: 1.0954281 acc: 0.3333333333333333\n"
          ],
          "name": "stdout"
        }
      ]
    },
    {
      "cell_type": "markdown",
      "metadata": {
        "id": "Z2BYlWHXGcyj"
      },
      "source": [
        "Instead of setting parameters with randomly-chosen values each iteration, apply a fraction of these values to parameters. With this, weights will be updated from what currently yields us the lowest loss instead of aimlessly randomly. If the adjustment decreases loss, we will make it the new point to adjust from. If loss instead increases due to the adjustment, then we will revert to the previous point."
      ]
    },
    {
      "cell_type": "code",
      "metadata": {
        "colab": {
          "base_uri": "https://localhost:8080/"
        },
        "id": "QN4PQVLhF1IS",
        "outputId": "480c5167-7c4f-410c-ff1e-1292643a0789"
      },
      "source": [
        "for iteration in range ( 10000 ):\n",
        "  # Update weights with some small random values\n",
        "  dense1.weights += 0.05 * np.random.randn( 2 , 3 )\n",
        "  dense1.biases += 0.05 * np.random.randn( 1 , 3 )\n",
        "  dense2.weights += 0.05 * np.random.randn( 3 , 3 )\n",
        "  dense2.biases += 0.05 * np.random.randn( 1 , 3 )\n",
        "\n",
        "  # Perform a forward pass of the training data through this layer\n",
        "  dense1.forward(X)\n",
        "  activation1.forward(dense1.output)\n",
        "  dense2.forward(activation1.output)\n",
        "  activation2.forward(dense2.output)\n",
        "\n",
        "  # Perform a forward pass through activation function\n",
        "  # it takes the output of second dense layer here and returns loss\n",
        "  loss = loss_function.calculate(activation2.output, y)\n",
        "\n",
        "  # Calculate accuracy from output of activation2 and targets\n",
        "  # calculate values along first axis\n",
        "  predictions = np.argmax(activation2.output, axis = 1 )\n",
        "  accuracy = np.mean(predictions == y)\n",
        "\n",
        "  # If loss is smaller - print and save weights and biases aside\n",
        "  if loss < lowest_loss:\n",
        "    print ( 'New set of weights found, iteration:' , iteration, 'loss:' , loss, 'acc:' , accuracy)\n",
        "    best_dense1_weights = dense1.weights.copy()\n",
        "    best_dense1_biases = dense1.biases.copy()\n",
        "    best_dense2_weights = dense2.weights.copy()\n",
        "    best_dense2_biases = dense2.biases.copy()\n",
        "    lowest_loss = loss\n",
        "    # Revert weights and biases\n",
        "  else :\n",
        "    dense1.weights = best_dense1_weights.copy()\n",
        "    dense1.biases = best_dense1_biases.copy()\n",
        "    dense2.weights = best_dense2_weights.copy()\n",
        "    dense2.biases = best_dense2_biases.copy()"
      ],
      "execution_count": 74,
      "outputs": [
        {
          "output_type": "stream",
          "text": [
            "New set of weights found, iteration: 5 loss: 1.0946134 acc: 0.3333333333333333\n",
            "New set of weights found, iteration: 8 loss: 1.0942385 acc: 0.3333333333333333\n",
            "New set of weights found, iteration: 9 loss: 1.0933579 acc: 0.3333333333333333\n",
            "New set of weights found, iteration: 10 loss: 1.0894163 acc: 0.3333333333333333\n",
            "New set of weights found, iteration: 18 loss: 1.0869116 acc: 0.3333333333333333\n",
            "New set of weights found, iteration: 19 loss: 1.08632 acc: 0.3333333333333333\n",
            "New set of weights found, iteration: 20 loss: 1.0809617 acc: 0.66\n",
            "New set of weights found, iteration: 21 loss: 1.076914 acc: 0.42\n",
            "New set of weights found, iteration: 22 loss: 1.0763092 acc: 0.4266666666666667\n",
            "New set of weights found, iteration: 24 loss: 1.073875 acc: 0.6533333333333333\n",
            "New set of weights found, iteration: 25 loss: 1.0705098 acc: 0.6666666666666666\n",
            "New set of weights found, iteration: 28 loss: 1.0684985 acc: 0.6533333333333333\n",
            "New set of weights found, iteration: 29 loss: 1.0676612 acc: 0.6666666666666666\n",
            "New set of weights found, iteration: 30 loss: 1.0675691 acc: 0.6533333333333333\n",
            "New set of weights found, iteration: 31 loss: 1.0573452 acc: 0.5533333333333333\n",
            "New set of weights found, iteration: 36 loss: 1.0561142 acc: 0.5366666666666666\n",
            "New set of weights found, iteration: 37 loss: 1.0543473 acc: 0.36\n",
            "New set of weights found, iteration: 42 loss: 1.0511491 acc: 0.33666666666666667\n",
            "New set of weights found, iteration: 43 loss: 1.0406609 acc: 0.5966666666666667\n",
            "New set of weights found, iteration: 45 loss: 1.0313528 acc: 0.6433333333333333\n",
            "New set of weights found, iteration: 46 loss: 1.016273 acc: 0.6666666666666666\n",
            "New set of weights found, iteration: 47 loss: 1.0162238 acc: 0.6666666666666666\n",
            "New set of weights found, iteration: 53 loss: 1.0123385 acc: 0.6666666666666666\n",
            "New set of weights found, iteration: 61 loss: 1.011563 acc: 0.6466666666666666\n",
            "New set of weights found, iteration: 62 loss: 1.0073348 acc: 0.45\n",
            "New set of weights found, iteration: 65 loss: 1.0018284 acc: 0.6\n",
            "New set of weights found, iteration: 67 loss: 1.0014983 acc: 0.7166666666666667\n",
            "New set of weights found, iteration: 70 loss: 0.9907717 acc: 0.84\n",
            "New set of weights found, iteration: 72 loss: 0.9793341 acc: 0.7233333333333334\n",
            "New set of weights found, iteration: 74 loss: 0.9762207 acc: 0.44666666666666666\n",
            "New set of weights found, iteration: 75 loss: 0.9743563 acc: 0.5566666666666666\n",
            "New set of weights found, iteration: 80 loss: 0.9665206 acc: 0.73\n",
            "New set of weights found, iteration: 81 loss: 0.9588155 acc: 0.6666666666666666\n",
            "New set of weights found, iteration: 85 loss: 0.9481254 acc: 0.6133333333333333\n",
            "New set of weights found, iteration: 86 loss: 0.944082 acc: 0.81\n",
            "New set of weights found, iteration: 87 loss: 0.9368296 acc: 0.6733333333333333\n",
            "New set of weights found, iteration: 88 loss: 0.9356524 acc: 0.8966666666666666\n",
            "New set of weights found, iteration: 91 loss: 0.9301902 acc: 0.8733333333333333\n",
            "New set of weights found, iteration: 97 loss: 0.924804 acc: 0.6733333333333333\n",
            "New set of weights found, iteration: 105 loss: 0.9141502 acc: 0.67\n",
            "New set of weights found, iteration: 109 loss: 0.9039451 acc: 0.7\n",
            "New set of weights found, iteration: 112 loss: 0.88885516 acc: 0.6666666666666666\n",
            "New set of weights found, iteration: 120 loss: 0.88756186 acc: 0.6666666666666666\n",
            "New set of weights found, iteration: 121 loss: 0.8856074 acc: 0.71\n",
            "New set of weights found, iteration: 124 loss: 0.88279694 acc: 0.8466666666666667\n",
            "New set of weights found, iteration: 125 loss: 0.87917787 acc: 0.8633333333333333\n",
            "New set of weights found, iteration: 127 loss: 0.8728354 acc: 0.8366666666666667\n",
            "New set of weights found, iteration: 132 loss: 0.86008507 acc: 0.8466666666666667\n",
            "New set of weights found, iteration: 134 loss: 0.85817873 acc: 0.9466666666666667\n",
            "New set of weights found, iteration: 135 loss: 0.84843147 acc: 0.8766666666666667\n",
            "New set of weights found, iteration: 139 loss: 0.843858 acc: 0.8366666666666667\n",
            "New set of weights found, iteration: 141 loss: 0.8343647 acc: 0.6666666666666666\n",
            "New set of weights found, iteration: 147 loss: 0.8323578 acc: 0.61\n",
            "New set of weights found, iteration: 149 loss: 0.8259927 acc: 0.7033333333333334\n",
            "New set of weights found, iteration: 151 loss: 0.8223896 acc: 0.73\n",
            "New set of weights found, iteration: 153 loss: 0.81917095 acc: 0.8033333333333333\n",
            "New set of weights found, iteration: 154 loss: 0.81122667 acc: 0.7933333333333333\n",
            "New set of weights found, iteration: 157 loss: 0.80483955 acc: 0.71\n",
            "New set of weights found, iteration: 164 loss: 0.80331093 acc: 0.8366666666666667\n",
            "New set of weights found, iteration: 165 loss: 0.7943688 acc: 0.9\n",
            "New set of weights found, iteration: 169 loss: 0.7856384 acc: 0.8233333333333334\n",
            "New set of weights found, iteration: 171 loss: 0.77829355 acc: 0.8266666666666667\n",
            "New set of weights found, iteration: 174 loss: 0.77764344 acc: 0.7233333333333334\n",
            "New set of weights found, iteration: 175 loss: 0.76536435 acc: 0.7033333333333334\n",
            "New set of weights found, iteration: 178 loss: 0.76509637 acc: 0.7\n",
            "New set of weights found, iteration: 180 loss: 0.75828725 acc: 0.66\n",
            "New set of weights found, iteration: 181 loss: 0.74695057 acc: 0.6966666666666667\n",
            "New set of weights found, iteration: 184 loss: 0.73200023 acc: 0.7433333333333333\n",
            "New set of weights found, iteration: 192 loss: 0.7267019 acc: 0.85\n",
            "New set of weights found, iteration: 193 loss: 0.7113463 acc: 0.8566666666666667\n",
            "New set of weights found, iteration: 194 loss: 0.6930832 acc: 0.8366666666666667\n",
            "New set of weights found, iteration: 198 loss: 0.6861262 acc: 0.9166666666666666\n",
            "New set of weights found, iteration: 200 loss: 0.67658323 acc: 0.8366666666666667\n",
            "New set of weights found, iteration: 202 loss: 0.67329437 acc: 0.7466666666666667\n",
            "New set of weights found, iteration: 204 loss: 0.6705808 acc: 0.77\n",
            "New set of weights found, iteration: 205 loss: 0.65369374 acc: 0.8366666666666667\n",
            "New set of weights found, iteration: 207 loss: 0.6462688 acc: 0.77\n",
            "New set of weights found, iteration: 213 loss: 0.628924 acc: 0.7866666666666666\n",
            "New set of weights found, iteration: 216 loss: 0.62723553 acc: 0.85\n",
            "New set of weights found, iteration: 217 loss: 0.6214861 acc: 0.8566666666666667\n",
            "New set of weights found, iteration: 218 loss: 0.6140687 acc: 0.85\n",
            "New set of weights found, iteration: 224 loss: 0.6112883 acc: 0.8866666666666667\n",
            "New set of weights found, iteration: 227 loss: 0.6086789 acc: 0.8866666666666667\n",
            "New set of weights found, iteration: 237 loss: 0.60569113 acc: 0.8766666666666667\n",
            "New set of weights found, iteration: 239 loss: 0.59760517 acc: 0.8766666666666667\n",
            "New set of weights found, iteration: 240 loss: 0.59433556 acc: 0.9333333333333333\n",
            "New set of weights found, iteration: 241 loss: 0.5867646 acc: 0.91\n",
            "New set of weights found, iteration: 243 loss: 0.58238 acc: 0.8633333333333333\n",
            "New set of weights found, iteration: 245 loss: 0.5780778 acc: 0.85\n",
            "New set of weights found, iteration: 246 loss: 0.56868804 acc: 0.86\n",
            "New set of weights found, iteration: 248 loss: 0.5645385 acc: 0.8766666666666667\n",
            "New set of weights found, iteration: 251 loss: 0.5597818 acc: 0.89\n",
            "New set of weights found, iteration: 258 loss: 0.55714935 acc: 0.88\n",
            "New set of weights found, iteration: 260 loss: 0.5548784 acc: 0.89\n",
            "New set of weights found, iteration: 263 loss: 0.5513882 acc: 0.92\n",
            "New set of weights found, iteration: 270 loss: 0.5503325 acc: 0.8666666666666667\n",
            "New set of weights found, iteration: 271 loss: 0.5482467 acc: 0.8566666666666667\n",
            "New set of weights found, iteration: 273 loss: 0.5468023 acc: 0.87\n",
            "New set of weights found, iteration: 274 loss: 0.5463857 acc: 0.9\n",
            "New set of weights found, iteration: 279 loss: 0.5423891 acc: 0.8933333333333333\n",
            "New set of weights found, iteration: 280 loss: 0.5398152 acc: 0.91\n",
            "New set of weights found, iteration: 283 loss: 0.53563845 acc: 0.86\n",
            "New set of weights found, iteration: 284 loss: 0.53490096 acc: 0.87\n",
            "New set of weights found, iteration: 285 loss: 0.5318954 acc: 0.89\n",
            "New set of weights found, iteration: 288 loss: 0.52936864 acc: 0.88\n",
            "New set of weights found, iteration: 290 loss: 0.5257483 acc: 0.8966666666666666\n",
            "New set of weights found, iteration: 291 loss: 0.5225309 acc: 0.88\n",
            "New set of weights found, iteration: 304 loss: 0.5194027 acc: 0.8833333333333333\n",
            "New set of weights found, iteration: 310 loss: 0.51850885 acc: 0.8833333333333333\n",
            "New set of weights found, iteration: 315 loss: 0.51302874 acc: 0.8633333333333333\n",
            "New set of weights found, iteration: 320 loss: 0.50580263 acc: 0.9066666666666666\n",
            "New set of weights found, iteration: 321 loss: 0.5009886 acc: 0.92\n",
            "New set of weights found, iteration: 326 loss: 0.49963802 acc: 0.88\n",
            "New set of weights found, iteration: 328 loss: 0.49753052 acc: 0.8866666666666667\n",
            "New set of weights found, iteration: 332 loss: 0.49172068 acc: 0.9\n",
            "New set of weights found, iteration: 333 loss: 0.48417938 acc: 0.9166666666666666\n",
            "New set of weights found, iteration: 341 loss: 0.48239157 acc: 0.9\n",
            "New set of weights found, iteration: 346 loss: 0.48007506 acc: 0.8866666666666667\n",
            "New set of weights found, iteration: 349 loss: 0.47219035 acc: 0.8766666666666667\n",
            "New set of weights found, iteration: 350 loss: 0.4692621 acc: 0.8833333333333333\n",
            "New set of weights found, iteration: 357 loss: 0.46734324 acc: 0.8833333333333333\n",
            "New set of weights found, iteration: 359 loss: 0.46307555 acc: 0.88\n",
            "New set of weights found, iteration: 362 loss: 0.45919886 acc: 0.8733333333333333\n",
            "New set of weights found, iteration: 365 loss: 0.455842 acc: 0.9166666666666666\n",
            "New set of weights found, iteration: 368 loss: 0.44885743 acc: 0.9166666666666666\n",
            "New set of weights found, iteration: 370 loss: 0.44420633 acc: 0.9166666666666666\n",
            "New set of weights found, iteration: 374 loss: 0.44399557 acc: 0.9433333333333334\n",
            "New set of weights found, iteration: 376 loss: 0.4424771 acc: 0.9466666666666667\n",
            "New set of weights found, iteration: 379 loss: 0.43829712 acc: 0.9433333333333334\n",
            "New set of weights found, iteration: 381 loss: 0.4278239 acc: 0.9466666666666667\n",
            "New set of weights found, iteration: 382 loss: 0.4253224 acc: 0.9333333333333333\n",
            "New set of weights found, iteration: 384 loss: 0.42414188 acc: 0.9466666666666667\n",
            "New set of weights found, iteration: 387 loss: 0.42251545 acc: 0.9633333333333334\n",
            "New set of weights found, iteration: 388 loss: 0.41927347 acc: 0.96\n",
            "New set of weights found, iteration: 389 loss: 0.41611314 acc: 0.9533333333333334\n",
            "New set of weights found, iteration: 390 loss: 0.4133088 acc: 0.96\n",
            "New set of weights found, iteration: 391 loss: 0.4106471 acc: 0.95\n",
            "New set of weights found, iteration: 392 loss: 0.4062831 acc: 0.9366666666666666\n",
            "New set of weights found, iteration: 395 loss: 0.4019169 acc: 0.94\n",
            "New set of weights found, iteration: 398 loss: 0.40071824 acc: 0.9566666666666667\n",
            "New set of weights found, iteration: 401 loss: 0.3993213 acc: 0.9566666666666667\n",
            "New set of weights found, iteration: 406 loss: 0.3953862 acc: 0.9266666666666666\n",
            "New set of weights found, iteration: 409 loss: 0.39385858 acc: 0.9366666666666666\n",
            "New set of weights found, iteration: 411 loss: 0.39312792 acc: 0.94\n",
            "New set of weights found, iteration: 413 loss: 0.39222068 acc: 0.92\n",
            "New set of weights found, iteration: 414 loss: 0.39053118 acc: 0.92\n",
            "New set of weights found, iteration: 415 loss: 0.3777455 acc: 0.9366666666666666\n",
            "New set of weights found, iteration: 417 loss: 0.37405005 acc: 0.94\n",
            "New set of weights found, iteration: 418 loss: 0.37257966 acc: 0.95\n",
            "New set of weights found, iteration: 419 loss: 0.36818516 acc: 0.9533333333333334\n",
            "New set of weights found, iteration: 421 loss: 0.3649284 acc: 0.9533333333333334\n",
            "New set of weights found, iteration: 422 loss: 0.36032602 acc: 0.9466666666666667\n",
            "New set of weights found, iteration: 425 loss: 0.35796502 acc: 0.95\n",
            "New set of weights found, iteration: 429 loss: 0.35739335 acc: 0.9466666666666667\n",
            "New set of weights found, iteration: 438 loss: 0.3521092 acc: 0.9466666666666667\n",
            "New set of weights found, iteration: 440 loss: 0.34854797 acc: 0.9333333333333333\n",
            "New set of weights found, iteration: 446 loss: 0.34227905 acc: 0.95\n",
            "New set of weights found, iteration: 451 loss: 0.3389237 acc: 0.9566666666666667\n",
            "New set of weights found, iteration: 463 loss: 0.33432898 acc: 0.9566666666666667\n",
            "New set of weights found, iteration: 464 loss: 0.33031315 acc: 0.96\n",
            "New set of weights found, iteration: 467 loss: 0.32995284 acc: 0.9533333333333334\n",
            "New set of weights found, iteration: 471 loss: 0.32913128 acc: 0.95\n",
            "New set of weights found, iteration: 475 loss: 0.31915763 acc: 0.9633333333333334\n",
            "New set of weights found, iteration: 477 loss: 0.31823227 acc: 0.9566666666666667\n",
            "New set of weights found, iteration: 478 loss: 0.31752834 acc: 0.95\n",
            "New set of weights found, iteration: 481 loss: 0.3072321 acc: 0.9566666666666667\n",
            "New set of weights found, iteration: 484 loss: 0.30291507 acc: 0.9633333333333334\n",
            "New set of weights found, iteration: 487 loss: 0.30269936 acc: 0.9633333333333334\n",
            "New set of weights found, iteration: 489 loss: 0.30045483 acc: 0.9533333333333334\n",
            "New set of weights found, iteration: 493 loss: 0.29755086 acc: 0.9466666666666667\n",
            "New set of weights found, iteration: 505 loss: 0.29523176 acc: 0.9433333333333334\n",
            "New set of weights found, iteration: 510 loss: 0.2928856 acc: 0.9466666666666667\n",
            "New set of weights found, iteration: 518 loss: 0.29198572 acc: 0.94\n",
            "New set of weights found, iteration: 519 loss: 0.2877223 acc: 0.9533333333333334\n",
            "New set of weights found, iteration: 520 loss: 0.28726786 acc: 0.9333333333333333\n",
            "New set of weights found, iteration: 521 loss: 0.27968222 acc: 0.9433333333333334\n",
            "New set of weights found, iteration: 527 loss: 0.27459133 acc: 0.95\n",
            "New set of weights found, iteration: 528 loss: 0.27451083 acc: 0.95\n",
            "New set of weights found, iteration: 536 loss: 0.26903224 acc: 0.96\n",
            "New set of weights found, iteration: 538 loss: 0.2656899 acc: 0.96\n",
            "New set of weights found, iteration: 540 loss: 0.2651617 acc: 0.95\n",
            "New set of weights found, iteration: 543 loss: 0.2632482 acc: 0.9566666666666667\n",
            "New set of weights found, iteration: 548 loss: 0.2628083 acc: 0.9566666666666667\n",
            "New set of weights found, iteration: 557 loss: 0.25931275 acc: 0.9633333333333334\n",
            "New set of weights found, iteration: 562 loss: 0.25615215 acc: 0.9566666666666667\n",
            "New set of weights found, iteration: 564 loss: 0.2535411 acc: 0.9566666666666667\n",
            "New set of weights found, iteration: 574 loss: 0.24998316 acc: 0.9466666666666667\n",
            "New set of weights found, iteration: 575 loss: 0.2431017 acc: 0.9633333333333334\n",
            "New set of weights found, iteration: 582 loss: 0.24042292 acc: 0.9566666666666667\n",
            "New set of weights found, iteration: 587 loss: 0.23934516 acc: 0.9533333333333334\n",
            "New set of weights found, iteration: 588 loss: 0.23849419 acc: 0.9633333333333334\n",
            "New set of weights found, iteration: 599 loss: 0.23720011 acc: 0.96\n",
            "New set of weights found, iteration: 610 loss: 0.2358406 acc: 0.9633333333333334\n",
            "New set of weights found, iteration: 612 loss: 0.23229909 acc: 0.95\n",
            "New set of weights found, iteration: 613 loss: 0.23044482 acc: 0.9633333333333334\n",
            "New set of weights found, iteration: 615 loss: 0.22488597 acc: 0.96\n",
            "New set of weights found, iteration: 628 loss: 0.22126569 acc: 0.9566666666666667\n",
            "New set of weights found, iteration: 630 loss: 0.21821903 acc: 0.9633333333333334\n",
            "New set of weights found, iteration: 635 loss: 0.2177285 acc: 0.95\n",
            "New set of weights found, iteration: 636 loss: 0.21647345 acc: 0.95\n",
            "New set of weights found, iteration: 638 loss: 0.2158234 acc: 0.9633333333333334\n",
            "New set of weights found, iteration: 639 loss: 0.21578766 acc: 0.96\n",
            "New set of weights found, iteration: 640 loss: 0.21191801 acc: 0.96\n",
            "New set of weights found, iteration: 644 loss: 0.20981646 acc: 0.9633333333333334\n",
            "New set of weights found, iteration: 645 loss: 0.20680578 acc: 0.9633333333333334\n",
            "New set of weights found, iteration: 649 loss: 0.2053648 acc: 0.9533333333333334\n",
            "New set of weights found, iteration: 651 loss: 0.20505805 acc: 0.9566666666666667\n",
            "New set of weights found, iteration: 656 loss: 0.20476326 acc: 0.9533333333333334\n",
            "New set of weights found, iteration: 657 loss: 0.20309097 acc: 0.95\n",
            "New set of weights found, iteration: 661 loss: 0.2012857 acc: 0.9633333333333334\n",
            "New set of weights found, iteration: 663 loss: 0.20115453 acc: 0.9566666666666667\n",
            "New set of weights found, iteration: 665 loss: 0.1992378 acc: 0.9566666666666667\n",
            "New set of weights found, iteration: 668 loss: 0.1982705 acc: 0.9566666666666667\n",
            "New set of weights found, iteration: 669 loss: 0.19327141 acc: 0.9533333333333334\n",
            "New set of weights found, iteration: 670 loss: 0.19234532 acc: 0.9566666666666667\n",
            "New set of weights found, iteration: 673 loss: 0.19040808 acc: 0.9533333333333334\n",
            "New set of weights found, iteration: 677 loss: 0.18814385 acc: 0.9533333333333334\n",
            "New set of weights found, iteration: 681 loss: 0.18715121 acc: 0.95\n",
            "New set of weights found, iteration: 683 loss: 0.18667725 acc: 0.9633333333333334\n",
            "New set of weights found, iteration: 685 loss: 0.1845321 acc: 0.9566666666666667\n",
            "New set of weights found, iteration: 691 loss: 0.18426114 acc: 0.95\n",
            "New set of weights found, iteration: 700 loss: 0.18268766 acc: 0.95\n",
            "New set of weights found, iteration: 701 loss: 0.17770763 acc: 0.9533333333333334\n",
            "New set of weights found, iteration: 716 loss: 0.17652863 acc: 0.9633333333333334\n",
            "New set of weights found, iteration: 717 loss: 0.17514962 acc: 0.9566666666666667\n",
            "New set of weights found, iteration: 722 loss: 0.17383417 acc: 0.9566666666666667\n",
            "New set of weights found, iteration: 725 loss: 0.17364793 acc: 0.9566666666666667\n",
            "New set of weights found, iteration: 727 loss: 0.1730582 acc: 0.96\n",
            "New set of weights found, iteration: 728 loss: 0.17211315 acc: 0.9533333333333334\n",
            "New set of weights found, iteration: 731 loss: 0.17116784 acc: 0.9566666666666667\n",
            "New set of weights found, iteration: 738 loss: 0.1710644 acc: 0.96\n",
            "New set of weights found, iteration: 747 loss: 0.17039804 acc: 0.9466666666666667\n",
            "New set of weights found, iteration: 748 loss: 0.16763942 acc: 0.9633333333333334\n",
            "New set of weights found, iteration: 752 loss: 0.16484174 acc: 0.9533333333333334\n",
            "New set of weights found, iteration: 766 loss: 0.16320767 acc: 0.9566666666666667\n",
            "New set of weights found, iteration: 768 loss: 0.16282675 acc: 0.9433333333333334\n",
            "New set of weights found, iteration: 771 loss: 0.16197549 acc: 0.9533333333333334\n",
            "New set of weights found, iteration: 775 loss: 0.1585353 acc: 0.9566666666666667\n",
            "New set of weights found, iteration: 783 loss: 0.15763351 acc: 0.9566666666666667\n",
            "New set of weights found, iteration: 785 loss: 0.15724704 acc: 0.9633333333333334\n",
            "New set of weights found, iteration: 788 loss: 0.15302402 acc: 0.9533333333333334\n",
            "New set of weights found, iteration: 789 loss: 0.1510435 acc: 0.9566666666666667\n",
            "New set of weights found, iteration: 800 loss: 0.15073809 acc: 0.9566666666666667\n",
            "New set of weights found, iteration: 807 loss: 0.1495439 acc: 0.96\n",
            "New set of weights found, iteration: 809 loss: 0.14771433 acc: 0.9533333333333334\n",
            "New set of weights found, iteration: 815 loss: 0.14668612 acc: 0.96\n",
            "New set of weights found, iteration: 824 loss: 0.1443763 acc: 0.9566666666666667\n",
            "New set of weights found, iteration: 829 loss: 0.1427285 acc: 0.9566666666666667\n",
            "New set of weights found, iteration: 834 loss: 0.1425845 acc: 0.9533333333333334\n",
            "New set of weights found, iteration: 842 loss: 0.1419948 acc: 0.9533333333333334\n",
            "New set of weights found, iteration: 844 loss: 0.14172903 acc: 0.96\n",
            "New set of weights found, iteration: 846 loss: 0.13887571 acc: 0.9533333333333334\n",
            "New set of weights found, iteration: 847 loss: 0.138732 acc: 0.9533333333333334\n",
            "New set of weights found, iteration: 852 loss: 0.137612 acc: 0.9533333333333334\n",
            "New set of weights found, iteration: 876 loss: 0.13730425 acc: 0.9566666666666667\n",
            "New set of weights found, iteration: 891 loss: 0.13698028 acc: 0.9533333333333334\n",
            "New set of weights found, iteration: 894 loss: 0.1364112 acc: 0.95\n",
            "New set of weights found, iteration: 903 loss: 0.13635674 acc: 0.9533333333333334\n",
            "New set of weights found, iteration: 927 loss: 0.13583048 acc: 0.9566666666666667\n",
            "New set of weights found, iteration: 934 loss: 0.13551655 acc: 0.9566666666666667\n",
            "New set of weights found, iteration: 939 loss: 0.13534538 acc: 0.95\n",
            "New set of weights found, iteration: 945 loss: 0.13488568 acc: 0.9533333333333334\n",
            "New set of weights found, iteration: 946 loss: 0.13425244 acc: 0.9533333333333334\n",
            "New set of weights found, iteration: 948 loss: 0.13316315 acc: 0.9533333333333334\n",
            "New set of weights found, iteration: 960 loss: 0.13249697 acc: 0.9566666666666667\n",
            "New set of weights found, iteration: 963 loss: 0.13245702 acc: 0.9566666666666667\n",
            "New set of weights found, iteration: 964 loss: 0.13177715 acc: 0.9566666666666667\n",
            "New set of weights found, iteration: 991 loss: 0.13166565 acc: 0.9566666666666667\n",
            "New set of weights found, iteration: 1001 loss: 0.13132642 acc: 0.9533333333333334\n",
            "New set of weights found, iteration: 1005 loss: 0.13122414 acc: 0.9533333333333334\n",
            "New set of weights found, iteration: 1031 loss: 0.13020171 acc: 0.9533333333333334\n",
            "New set of weights found, iteration: 1032 loss: 0.1298156 acc: 0.9566666666666667\n",
            "New set of weights found, iteration: 1037 loss: 0.12901267 acc: 0.9566666666666667\n",
            "New set of weights found, iteration: 1038 loss: 0.12866028 acc: 0.9533333333333334\n",
            "New set of weights found, iteration: 1039 loss: 0.12796205 acc: 0.9566666666666667\n",
            "New set of weights found, iteration: 1057 loss: 0.12765326 acc: 0.9566666666666667\n",
            "New set of weights found, iteration: 1065 loss: 0.12720902 acc: 0.9566666666666667\n",
            "New set of weights found, iteration: 1068 loss: 0.12685438 acc: 0.9566666666666667\n",
            "New set of weights found, iteration: 1071 loss: 0.12630343 acc: 0.95\n",
            "New set of weights found, iteration: 1078 loss: 0.1251204 acc: 0.9566666666666667\n",
            "New set of weights found, iteration: 1098 loss: 0.12510322 acc: 0.9566666666666667\n",
            "New set of weights found, iteration: 1100 loss: 0.12452881 acc: 0.9566666666666667\n",
            "New set of weights found, iteration: 1104 loss: 0.12418078 acc: 0.9533333333333334\n",
            "New set of weights found, iteration: 1112 loss: 0.12362457 acc: 0.9566666666666667\n",
            "New set of weights found, iteration: 1113 loss: 0.12350471 acc: 0.9566666666666667\n",
            "New set of weights found, iteration: 1122 loss: 0.12318901 acc: 0.9566666666666667\n",
            "New set of weights found, iteration: 1128 loss: 0.12310295 acc: 0.95\n",
            "New set of weights found, iteration: 1133 loss: 0.1217305 acc: 0.9566666666666667\n",
            "New set of weights found, iteration: 1165 loss: 0.12068993 acc: 0.9533333333333334\n",
            "New set of weights found, iteration: 1171 loss: 0.120348014 acc: 0.9566666666666667\n",
            "New set of weights found, iteration: 1173 loss: 0.12009351 acc: 0.96\n",
            "New set of weights found, iteration: 1175 loss: 0.11946898 acc: 0.9566666666666667\n",
            "New set of weights found, iteration: 1190 loss: 0.1194503 acc: 0.9566666666666667\n",
            "New set of weights found, iteration: 1195 loss: 0.11930039 acc: 0.9566666666666667\n",
            "New set of weights found, iteration: 1204 loss: 0.11921445 acc: 0.9566666666666667\n",
            "New set of weights found, iteration: 1206 loss: 0.1190989 acc: 0.9566666666666667\n",
            "New set of weights found, iteration: 1239 loss: 0.11900724 acc: 0.9566666666666667\n",
            "New set of weights found, iteration: 1250 loss: 0.118847504 acc: 0.9566666666666667\n",
            "New set of weights found, iteration: 1258 loss: 0.11867984 acc: 0.9566666666666667\n",
            "New set of weights found, iteration: 1267 loss: 0.11854496 acc: 0.9566666666666667\n",
            "New set of weights found, iteration: 1273 loss: 0.11846283 acc: 0.9566666666666667\n",
            "New set of weights found, iteration: 1302 loss: 0.118066505 acc: 0.9566666666666667\n",
            "New set of weights found, iteration: 1308 loss: 0.11775387 acc: 0.9566666666666667\n",
            "New set of weights found, iteration: 1326 loss: 0.117663585 acc: 0.9566666666666667\n",
            "New set of weights found, iteration: 1343 loss: 0.1176523 acc: 0.9533333333333334\n",
            "New set of weights found, iteration: 1388 loss: 0.11751311 acc: 0.9533333333333334\n",
            "New set of weights found, iteration: 1390 loss: 0.117273904 acc: 0.9566666666666667\n",
            "New set of weights found, iteration: 1399 loss: 0.117133 acc: 0.9566666666666667\n",
            "New set of weights found, iteration: 1411 loss: 0.11694186 acc: 0.9566666666666667\n",
            "New set of weights found, iteration: 1500 loss: 0.11687138 acc: 0.9566666666666667\n",
            "New set of weights found, iteration: 1555 loss: 0.11641548 acc: 0.9533333333333334\n",
            "New set of weights found, iteration: 1627 loss: 0.11638132 acc: 0.96\n",
            "New set of weights found, iteration: 1651 loss: 0.116303556 acc: 0.9566666666666667\n",
            "New set of weights found, iteration: 1671 loss: 0.11618017 acc: 0.9566666666666667\n",
            "New set of weights found, iteration: 1678 loss: 0.11604979 acc: 0.9566666666666667\n",
            "New set of weights found, iteration: 1745 loss: 0.11600502 acc: 0.9566666666666667\n",
            "New set of weights found, iteration: 1820 loss: 0.1159856 acc: 0.96\n",
            "New set of weights found, iteration: 1836 loss: 0.11576009 acc: 0.9566666666666667\n",
            "New set of weights found, iteration: 1840 loss: 0.11575737 acc: 0.9566666666666667\n",
            "New set of weights found, iteration: 1896 loss: 0.11572957 acc: 0.9566666666666667\n",
            "New set of weights found, iteration: 1924 loss: 0.11566905 acc: 0.9566666666666667\n",
            "New set of weights found, iteration: 1937 loss: 0.11555337 acc: 0.9566666666666667\n",
            "New set of weights found, iteration: 1949 loss: 0.11545283 acc: 0.9566666666666667\n",
            "New set of weights found, iteration: 1955 loss: 0.115377694 acc: 0.9566666666666667\n",
            "New set of weights found, iteration: 2036 loss: 0.11525354 acc: 0.9566666666666667\n",
            "New set of weights found, iteration: 2362 loss: 0.115212984 acc: 0.9566666666666667\n",
            "New set of weights found, iteration: 3226 loss: 0.11517309 acc: 0.9566666666666667\n",
            "New set of weights found, iteration: 4044 loss: 0.115137026 acc: 0.9566666666666667\n",
            "New set of weights found, iteration: 4070 loss: 0.11512782 acc: 0.9533333333333334\n",
            "New set of weights found, iteration: 4231 loss: 0.115107015 acc: 0.9566666666666667\n",
            "New set of weights found, iteration: 4468 loss: 0.11507187 acc: 0.9566666666666667\n",
            "New set of weights found, iteration: 4736 loss: 0.115056455 acc: 0.9533333333333334\n",
            "New set of weights found, iteration: 6124 loss: 0.11503342 acc: 0.9566666666666667\n",
            "New set of weights found, iteration: 6273 loss: 0.1150239 acc: 0.9566666666666667\n",
            "New set of weights found, iteration: 6538 loss: 0.11502083 acc: 0.9533333333333334\n",
            "New set of weights found, iteration: 6541 loss: 0.115008496 acc: 0.9566666666666667\n",
            "New set of weights found, iteration: 6600 loss: 0.11484965 acc: 0.9566666666666667\n",
            "New set of weights found, iteration: 6939 loss: 0.114787966 acc: 0.9533333333333334\n",
            "New set of weights found, iteration: 6973 loss: 0.114784814 acc: 0.9533333333333334\n",
            "New set of weights found, iteration: 7031 loss: 0.11470741 acc: 0.9566666666666667\n",
            "New set of weights found, iteration: 7052 loss: 0.114697926 acc: 0.9566666666666667\n",
            "New set of weights found, iteration: 7222 loss: 0.11468651 acc: 0.9566666666666667\n",
            "New set of weights found, iteration: 7819 loss: 0.11466564 acc: 0.9533333333333334\n",
            "New set of weights found, iteration: 7897 loss: 0.11461661 acc: 0.9566666666666667\n",
            "New set of weights found, iteration: 8014 loss: 0.11454796 acc: 0.9566666666666667\n",
            "New set of weights found, iteration: 8044 loss: 0.114541754 acc: 0.9533333333333334\n",
            "New set of weights found, iteration: 8129 loss: 0.11454091 acc: 0.9566666666666667\n",
            "New set of weights found, iteration: 8141 loss: 0.11444425 acc: 0.9566666666666667\n",
            "New set of weights found, iteration: 8382 loss: 0.11437045 acc: 0.9533333333333334\n",
            "New set of weights found, iteration: 8656 loss: 0.11433159 acc: 0.9566666666666667\n",
            "New set of weights found, iteration: 8666 loss: 0.114325106 acc: 0.9533333333333334\n",
            "New set of weights found, iteration: 8772 loss: 0.114224754 acc: 0.9566666666666667\n",
            "New set of weights found, iteration: 9648 loss: 0.11415145 acc: 0.9566666666666667\n"
          ],
          "name": "stdout"
        }
      ]
    },
    {
      "cell_type": "markdown",
      "metadata": {
        "id": "odThtPtBH8ed"
      },
      "source": [
        "Full Algorithm to search for best weights and biases by searching around the best weights found based on loss and accuracy rather that checking at random weights and biases."
      ]
    },
    {
      "cell_type": "code",
      "metadata": {
        "colab": {
          "base_uri": "https://localhost:8080/"
        },
        "id": "J-jInY1dHE2-",
        "outputId": "1c9196b3-5032-4375-eff6-f80d4e1ce4d3"
      },
      "source": [
        "# Create dataset\n",
        "X, y = vertical_data( samples = 100 , classes = 3 )\n",
        "\n",
        "# Create model\n",
        "dense1 = Layer_Dense( 2 , 3 ) # first dense layer, 2 inputs\n",
        "\n",
        "activation1 = Activation_ReLU()\n",
        "\n",
        "dense2 = Layer_Dense( 3 , 3 ) # second dense layer, 3 inputs, 3 outputs\n",
        "\n",
        "activation2 = Activation_Softmax()\n",
        "\n",
        "# Create loss function\n",
        "loss_function = Loss_CategoricalCrossentropy()\n",
        "\n",
        "# Helper variables\n",
        "lowest_loss = 9999999 # some initial value\n",
        "best_dense1_weights = dense1.weights.copy()\n",
        "best_dense1_biases = dense1.biases.copy()\n",
        "best_dense2_weights = dense2.weights.copy()\n",
        "best_dense2_biases = dense2.biases.copy()\n",
        "\n",
        "for iteration in range ( 10000 ):\n",
        "  # Update weights with some small random values\n",
        "  dense1.weights += 0.05 * np.random.randn( 2 , 3 )\n",
        "  dense1.biases += 0.05 * np.random.randn( 1 , 3 )\n",
        "  dense2.weights += 0.05 * np.random.randn( 3 , 3 )\n",
        "  dense2.biases += 0.05 * np.random.randn( 1 , 3 )\n",
        "\n",
        "  # Perform a forward pass of the training data through this layer\n",
        "  dense1.forward(X)\n",
        "  activation1.forward(dense1.output)\n",
        "  dense2.forward(activation1.output)\n",
        "  activation2.forward(dense2.output)\n",
        "\n",
        "  # Perform a forward pass through activation function\n",
        "  # it takes the output of second dense layer here and returns loss\n",
        "  loss = loss_function.calculate(activation2.output, y)\n",
        "\n",
        "  # Calculate accuracy from output of activation2 and targets\n",
        "  # calculate values along first axis\n",
        "  predictions = np.argmax(activation2.output, axis = 1 )\n",
        "  accuracy = np.mean(predictions == y)\n",
        "\n",
        "  # If loss is smaller - print and save weights and biases aside\n",
        "  if loss < lowest_loss:\n",
        "    print ( 'New set of weights found, iteration:' , iteration, 'loss:' , loss, 'acc:' , accuracy)\n",
        "    best_dense1_weights = dense1.weights.copy()\n",
        "    best_dense1_biases = dense1.biases.copy()\n",
        "    best_dense2_weights = dense2.weights.copy()\n",
        "    best_dense2_biases = dense2.biases.copy()\n",
        "    lowest_loss = loss\n",
        "    # Revert weights and biases\n",
        "  else :\n",
        "    dense1.weights = best_dense1_weights.copy()\n",
        "    dense1.biases = best_dense1_biases.copy()\n",
        "    dense2.weights = best_dense2_weights.copy()\n",
        "    dense2.biases = best_dense2_biases.copy()"
      ],
      "execution_count": 75,
      "outputs": [
        {
          "output_type": "stream",
          "text": [
            "New set of weights found, iteration: 0 loss: 1.0984097 acc: 0.3333333333333333\n",
            "New set of weights found, iteration: 4 loss: 1.0977073 acc: 0.3333333333333333\n",
            "New set of weights found, iteration: 6 loss: 1.097061 acc: 0.3333333333333333\n",
            "New set of weights found, iteration: 8 loss: 1.0951436 acc: 0.3333333333333333\n",
            "New set of weights found, iteration: 10 loss: 1.0932177 acc: 0.62\n",
            "New set of weights found, iteration: 12 loss: 1.0915836 acc: 0.3333333333333333\n",
            "New set of weights found, iteration: 13 loss: 1.0896236 acc: 0.3333333333333333\n",
            "New set of weights found, iteration: 14 loss: 1.0872676 acc: 0.6\n",
            "New set of weights found, iteration: 20 loss: 1.0855696 acc: 0.34\n",
            "New set of weights found, iteration: 21 loss: 1.0843276 acc: 0.5933333333333334\n",
            "New set of weights found, iteration: 24 loss: 1.0827562 acc: 0.3333333333333333\n",
            "New set of weights found, iteration: 28 loss: 1.0767611 acc: 0.5833333333333334\n",
            "New set of weights found, iteration: 30 loss: 1.0756652 acc: 0.3333333333333333\n",
            "New set of weights found, iteration: 31 loss: 1.0716627 acc: 0.3333333333333333\n",
            "New set of weights found, iteration: 33 loss: 1.0695561 acc: 0.3333333333333333\n",
            "New set of weights found, iteration: 34 loss: 1.0667007 acc: 0.3333333333333333\n",
            "New set of weights found, iteration: 35 loss: 1.0598183 acc: 0.3333333333333333\n",
            "New set of weights found, iteration: 36 loss: 1.0565299 acc: 0.3333333333333333\n",
            "New set of weights found, iteration: 37 loss: 1.0534073 acc: 0.38333333333333336\n",
            "New set of weights found, iteration: 40 loss: 1.0409307 acc: 0.5566666666666666\n",
            "New set of weights found, iteration: 41 loss: 1.0265149 acc: 0.34\n",
            "New set of weights found, iteration: 43 loss: 1.0234596 acc: 0.39666666666666667\n",
            "New set of weights found, iteration: 45 loss: 1.0233771 acc: 0.35\n",
            "New set of weights found, iteration: 47 loss: 1.022231 acc: 0.36666666666666664\n",
            "New set of weights found, iteration: 52 loss: 1.0093712 acc: 0.37\n",
            "New set of weights found, iteration: 54 loss: 1.0048933 acc: 0.4666666666666667\n",
            "New set of weights found, iteration: 55 loss: 1.0023605 acc: 0.34\n",
            "New set of weights found, iteration: 59 loss: 0.99279666 acc: 0.4033333333333333\n",
            "New set of weights found, iteration: 60 loss: 0.9887915 acc: 0.5333333333333333\n",
            "New set of weights found, iteration: 62 loss: 0.9840864 acc: 0.5866666666666667\n",
            "New set of weights found, iteration: 63 loss: 0.9696284 acc: 0.49666666666666665\n",
            "New set of weights found, iteration: 70 loss: 0.95371175 acc: 0.37333333333333335\n",
            "New set of weights found, iteration: 74 loss: 0.94814533 acc: 0.39666666666666667\n",
            "New set of weights found, iteration: 76 loss: 0.93998027 acc: 0.6533333333333333\n",
            "New set of weights found, iteration: 80 loss: 0.9360327 acc: 0.49\n",
            "New set of weights found, iteration: 82 loss: 0.9209622 acc: 0.43333333333333335\n",
            "New set of weights found, iteration: 84 loss: 0.91947436 acc: 0.39666666666666667\n",
            "New set of weights found, iteration: 87 loss: 0.91914874 acc: 0.47\n",
            "New set of weights found, iteration: 88 loss: 0.91361684 acc: 0.3933333333333333\n",
            "New set of weights found, iteration: 92 loss: 0.9092631 acc: 0.3433333333333333\n",
            "New set of weights found, iteration: 93 loss: 0.88658935 acc: 0.37666666666666665\n",
            "New set of weights found, iteration: 95 loss: 0.8779051 acc: 0.38\n",
            "New set of weights found, iteration: 97 loss: 0.8683211 acc: 0.3933333333333333\n",
            "New set of weights found, iteration: 98 loss: 0.8658656 acc: 0.39666666666666667\n",
            "New set of weights found, iteration: 101 loss: 0.86440504 acc: 0.3566666666666667\n",
            "New set of weights found, iteration: 102 loss: 0.84767133 acc: 0.46\n",
            "New set of weights found, iteration: 106 loss: 0.8472598 acc: 0.43333333333333335\n",
            "New set of weights found, iteration: 108 loss: 0.8440553 acc: 0.3933333333333333\n",
            "New set of weights found, iteration: 113 loss: 0.8388296 acc: 0.5\n",
            "New set of weights found, iteration: 114 loss: 0.8205212 acc: 0.4066666666666667\n",
            "New set of weights found, iteration: 117 loss: 0.8181813 acc: 0.43\n",
            "New set of weights found, iteration: 125 loss: 0.81526875 acc: 0.49333333333333335\n",
            "New set of weights found, iteration: 128 loss: 0.807122 acc: 0.5\n",
            "New set of weights found, iteration: 130 loss: 0.8038813 acc: 0.6533333333333333\n",
            "New set of weights found, iteration: 132 loss: 0.8028078 acc: 0.7466666666666667\n",
            "New set of weights found, iteration: 139 loss: 0.7984704 acc: 0.74\n",
            "New set of weights found, iteration: 141 loss: 0.79498506 acc: 0.78\n",
            "New set of weights found, iteration: 142 loss: 0.7893583 acc: 0.8433333333333334\n",
            "New set of weights found, iteration: 143 loss: 0.7823634 acc: 0.7933333333333333\n",
            "New set of weights found, iteration: 144 loss: 0.77829343 acc: 0.79\n",
            "New set of weights found, iteration: 145 loss: 0.7615098 acc: 0.8466666666666667\n",
            "New set of weights found, iteration: 146 loss: 0.7559852 acc: 0.8233333333333334\n",
            "New set of weights found, iteration: 148 loss: 0.7546496 acc: 0.8866666666666667\n",
            "New set of weights found, iteration: 149 loss: 0.75092816 acc: 0.8966666666666666\n",
            "New set of weights found, iteration: 150 loss: 0.747195 acc: 0.84\n",
            "New set of weights found, iteration: 151 loss: 0.7432891 acc: 0.8066666666666666\n",
            "New set of weights found, iteration: 152 loss: 0.7340909 acc: 0.8666666666666667\n",
            "New set of weights found, iteration: 153 loss: 0.7306788 acc: 0.8166666666666667\n",
            "New set of weights found, iteration: 164 loss: 0.72321683 acc: 0.81\n",
            "New set of weights found, iteration: 165 loss: 0.72176784 acc: 0.81\n",
            "New set of weights found, iteration: 169 loss: 0.70957786 acc: 0.7866666666666666\n",
            "New set of weights found, iteration: 172 loss: 0.70772463 acc: 0.79\n",
            "New set of weights found, iteration: 177 loss: 0.70126116 acc: 0.82\n",
            "New set of weights found, iteration: 178 loss: 0.6999363 acc: 0.8666666666666667\n",
            "New set of weights found, iteration: 179 loss: 0.6988451 acc: 0.91\n",
            "New set of weights found, iteration: 191 loss: 0.68873036 acc: 0.85\n",
            "New set of weights found, iteration: 192 loss: 0.68831205 acc: 0.91\n",
            "New set of weights found, iteration: 193 loss: 0.67331904 acc: 0.8866666666666667\n",
            "New set of weights found, iteration: 198 loss: 0.66815454 acc: 0.9266666666666666\n",
            "New set of weights found, iteration: 204 loss: 0.66457903 acc: 0.9166666666666666\n",
            "New set of weights found, iteration: 206 loss: 0.6610892 acc: 0.8633333333333333\n",
            "New set of weights found, iteration: 207 loss: 0.6605678 acc: 0.8766666666666667\n",
            "New set of weights found, iteration: 209 loss: 0.6497643 acc: 0.8633333333333333\n",
            "New set of weights found, iteration: 217 loss: 0.64233035 acc: 0.84\n",
            "New set of weights found, iteration: 222 loss: 0.6386377 acc: 0.8366666666666667\n",
            "New set of weights found, iteration: 226 loss: 0.6359872 acc: 0.8966666666666666\n",
            "New set of weights found, iteration: 227 loss: 0.62573636 acc: 0.92\n",
            "New set of weights found, iteration: 230 loss: 0.62071383 acc: 0.94\n",
            "New set of weights found, iteration: 231 loss: 0.61711794 acc: 0.91\n",
            "New set of weights found, iteration: 232 loss: 0.61481416 acc: 0.8733333333333333\n",
            "New set of weights found, iteration: 233 loss: 0.6091018 acc: 0.8933333333333333\n",
            "New set of weights found, iteration: 234 loss: 0.6086884 acc: 0.9133333333333333\n",
            "New set of weights found, iteration: 236 loss: 0.607606 acc: 0.84\n",
            "New set of weights found, iteration: 242 loss: 0.60711265 acc: 0.81\n",
            "New set of weights found, iteration: 243 loss: 0.6068115 acc: 0.89\n",
            "New set of weights found, iteration: 245 loss: 0.59996223 acc: 0.8233333333333334\n",
            "New set of weights found, iteration: 247 loss: 0.58067167 acc: 0.76\n",
            "New set of weights found, iteration: 249 loss: 0.5784168 acc: 0.83\n",
            "New set of weights found, iteration: 253 loss: 0.57657325 acc: 0.7966666666666666\n",
            "New set of weights found, iteration: 255 loss: 0.574722 acc: 0.8266666666666667\n",
            "New set of weights found, iteration: 258 loss: 0.57312167 acc: 0.8133333333333334\n",
            "New set of weights found, iteration: 261 loss: 0.56925696 acc: 0.7933333333333333\n",
            "New set of weights found, iteration: 265 loss: 0.56074023 acc: 0.7966666666666666\n",
            "New set of weights found, iteration: 267 loss: 0.5605342 acc: 0.7866666666666666\n",
            "New set of weights found, iteration: 268 loss: 0.55364096 acc: 0.8233333333333334\n",
            "New set of weights found, iteration: 269 loss: 0.55124503 acc: 0.8233333333333334\n",
            "New set of weights found, iteration: 275 loss: 0.5425308 acc: 0.86\n",
            "New set of weights found, iteration: 281 loss: 0.5386393 acc: 0.8833333333333333\n",
            "New set of weights found, iteration: 284 loss: 0.5336918 acc: 0.9133333333333333\n",
            "New set of weights found, iteration: 289 loss: 0.5332634 acc: 0.93\n",
            "New set of weights found, iteration: 295 loss: 0.52366376 acc: 0.87\n",
            "New set of weights found, iteration: 297 loss: 0.5215278 acc: 0.9033333333333333\n",
            "New set of weights found, iteration: 298 loss: 0.5201153 acc: 0.9066666666666666\n",
            "New set of weights found, iteration: 302 loss: 0.512227 acc: 0.9166666666666666\n",
            "New set of weights found, iteration: 303 loss: 0.5120188 acc: 0.89\n",
            "New set of weights found, iteration: 311 loss: 0.4982469 acc: 0.86\n",
            "New set of weights found, iteration: 314 loss: 0.49593496 acc: 0.8866666666666667\n",
            "New set of weights found, iteration: 318 loss: 0.49163595 acc: 0.9133333333333333\n",
            "New set of weights found, iteration: 320 loss: 0.48986998 acc: 0.8566666666666667\n",
            "New set of weights found, iteration: 323 loss: 0.48643026 acc: 0.84\n",
            "New set of weights found, iteration: 327 loss: 0.47830313 acc: 0.8766666666666667\n",
            "New set of weights found, iteration: 328 loss: 0.47417724 acc: 0.8633333333333333\n",
            "New set of weights found, iteration: 333 loss: 0.47327647 acc: 0.8466666666666667\n",
            "New set of weights found, iteration: 335 loss: 0.46838614 acc: 0.8533333333333334\n",
            "New set of weights found, iteration: 338 loss: 0.46647513 acc: 0.8166666666666667\n",
            "New set of weights found, iteration: 352 loss: 0.46608245 acc: 0.8333333333333334\n",
            "New set of weights found, iteration: 353 loss: 0.46205565 acc: 0.8333333333333334\n",
            "New set of weights found, iteration: 355 loss: 0.46179625 acc: 0.8666666666666667\n",
            "New set of weights found, iteration: 356 loss: 0.45656422 acc: 0.91\n",
            "New set of weights found, iteration: 357 loss: 0.44896582 acc: 0.8833333333333333\n",
            "New set of weights found, iteration: 358 loss: 0.44879395 acc: 0.8966666666666666\n",
            "New set of weights found, iteration: 362 loss: 0.44568396 acc: 0.9033333333333333\n",
            "New set of weights found, iteration: 364 loss: 0.44045186 acc: 0.9033333333333333\n",
            "New set of weights found, iteration: 365 loss: 0.43207875 acc: 0.8833333333333333\n",
            "New set of weights found, iteration: 367 loss: 0.4316861 acc: 0.8866666666666667\n",
            "New set of weights found, iteration: 373 loss: 0.42247173 acc: 0.9\n",
            "New set of weights found, iteration: 378 loss: 0.41963083 acc: 0.8933333333333333\n",
            "New set of weights found, iteration: 391 loss: 0.41803762 acc: 0.9166666666666666\n",
            "New set of weights found, iteration: 394 loss: 0.40722442 acc: 0.9266666666666666\n",
            "New set of weights found, iteration: 399 loss: 0.40406913 acc: 0.8966666666666666\n",
            "New set of weights found, iteration: 402 loss: 0.40190095 acc: 0.92\n",
            "New set of weights found, iteration: 403 loss: 0.39493388 acc: 0.91\n",
            "New set of weights found, iteration: 405 loss: 0.3946071 acc: 0.9266666666666666\n",
            "New set of weights found, iteration: 407 loss: 0.39355513 acc: 0.91\n",
            "New set of weights found, iteration: 408 loss: 0.39139694 acc: 0.9166666666666666\n",
            "New set of weights found, iteration: 411 loss: 0.38513803 acc: 0.9166666666666666\n",
            "New set of weights found, iteration: 415 loss: 0.3851139 acc: 0.9033333333333333\n",
            "New set of weights found, iteration: 417 loss: 0.38471276 acc: 0.92\n",
            "New set of weights found, iteration: 419 loss: 0.37787083 acc: 0.9166666666666666\n",
            "New set of weights found, iteration: 422 loss: 0.37112856 acc: 0.93\n",
            "New set of weights found, iteration: 429 loss: 0.36890668 acc: 0.9266666666666666\n",
            "New set of weights found, iteration: 431 loss: 0.36537284 acc: 0.9366666666666666\n",
            "New set of weights found, iteration: 432 loss: 0.3608864 acc: 0.9333333333333333\n",
            "New set of weights found, iteration: 451 loss: 0.3608689 acc: 0.93\n",
            "New set of weights found, iteration: 455 loss: 0.35670125 acc: 0.9266666666666666\n",
            "New set of weights found, iteration: 461 loss: 0.3564989 acc: 0.9166666666666666\n",
            "New set of weights found, iteration: 467 loss: 0.35490963 acc: 0.91\n",
            "New set of weights found, iteration: 468 loss: 0.34977043 acc: 0.9266666666666666\n",
            "New set of weights found, iteration: 469 loss: 0.3478622 acc: 0.9166666666666666\n",
            "New set of weights found, iteration: 472 loss: 0.34403688 acc: 0.9166666666666666\n",
            "New set of weights found, iteration: 473 loss: 0.33940262 acc: 0.92\n",
            "New set of weights found, iteration: 475 loss: 0.3326536 acc: 0.9266666666666666\n",
            "New set of weights found, iteration: 478 loss: 0.33011964 acc: 0.9333333333333333\n",
            "New set of weights found, iteration: 480 loss: 0.33003053 acc: 0.9266666666666666\n",
            "New set of weights found, iteration: 482 loss: 0.32306594 acc: 0.9266666666666666\n",
            "New set of weights found, iteration: 484 loss: 0.3219561 acc: 0.92\n",
            "New set of weights found, iteration: 485 loss: 0.3159662 acc: 0.9366666666666666\n",
            "New set of weights found, iteration: 486 loss: 0.31526706 acc: 0.9433333333333334\n",
            "New set of weights found, iteration: 488 loss: 0.3144667 acc: 0.9366666666666666\n",
            "New set of weights found, iteration: 493 loss: 0.3126857 acc: 0.93\n",
            "New set of weights found, iteration: 500 loss: 0.3105838 acc: 0.9333333333333333\n",
            "New set of weights found, iteration: 501 loss: 0.3088618 acc: 0.9433333333333334\n",
            "New set of weights found, iteration: 502 loss: 0.30151534 acc: 0.9366666666666666\n",
            "New set of weights found, iteration: 503 loss: 0.29959518 acc: 0.9333333333333333\n",
            "New set of weights found, iteration: 506 loss: 0.29714733 acc: 0.9366666666666666\n",
            "New set of weights found, iteration: 508 loss: 0.29615584 acc: 0.9366666666666666\n",
            "New set of weights found, iteration: 513 loss: 0.29281542 acc: 0.9433333333333334\n",
            "New set of weights found, iteration: 517 loss: 0.2920112 acc: 0.9433333333333334\n",
            "New set of weights found, iteration: 519 loss: 0.28795934 acc: 0.9366666666666666\n",
            "New set of weights found, iteration: 527 loss: 0.28627732 acc: 0.94\n",
            "New set of weights found, iteration: 528 loss: 0.28597823 acc: 0.9366666666666666\n",
            "New set of weights found, iteration: 544 loss: 0.28490874 acc: 0.9433333333333334\n",
            "New set of weights found, iteration: 557 loss: 0.28433517 acc: 0.9366666666666666\n",
            "New set of weights found, iteration: 558 loss: 0.2828499 acc: 0.94\n",
            "New set of weights found, iteration: 561 loss: 0.28269076 acc: 0.9333333333333333\n",
            "New set of weights found, iteration: 566 loss: 0.28115714 acc: 0.94\n",
            "New set of weights found, iteration: 568 loss: 0.27919886 acc: 0.9333333333333333\n",
            "New set of weights found, iteration: 570 loss: 0.27495274 acc: 0.94\n",
            "New set of weights found, iteration: 574 loss: 0.2727014 acc: 0.9433333333333334\n",
            "New set of weights found, iteration: 609 loss: 0.2714655 acc: 0.9366666666666666\n",
            "New set of weights found, iteration: 611 loss: 0.2713919 acc: 0.9333333333333333\n",
            "New set of weights found, iteration: 612 loss: 0.27035764 acc: 0.94\n",
            "New set of weights found, iteration: 614 loss: 0.26474217 acc: 0.9366666666666666\n",
            "New set of weights found, iteration: 616 loss: 0.26278028 acc: 0.9333333333333333\n",
            "New set of weights found, iteration: 618 loss: 0.26183742 acc: 0.9333333333333333\n",
            "New set of weights found, iteration: 625 loss: 0.2605882 acc: 0.9366666666666666\n",
            "New set of weights found, iteration: 630 loss: 0.2588303 acc: 0.94\n",
            "New set of weights found, iteration: 637 loss: 0.25712305 acc: 0.9366666666666666\n",
            "New set of weights found, iteration: 639 loss: 0.25669003 acc: 0.9366666666666666\n",
            "New set of weights found, iteration: 641 loss: 0.25601378 acc: 0.92\n",
            "New set of weights found, iteration: 648 loss: 0.25601125 acc: 0.9166666666666666\n",
            "New set of weights found, iteration: 649 loss: 0.25202808 acc: 0.9233333333333333\n",
            "New set of weights found, iteration: 651 loss: 0.2502158 acc: 0.9233333333333333\n",
            "New set of weights found, iteration: 652 loss: 0.24661733 acc: 0.94\n",
            "New set of weights found, iteration: 653 loss: 0.24651732 acc: 0.9333333333333333\n",
            "New set of weights found, iteration: 654 loss: 0.24549128 acc: 0.94\n",
            "New set of weights found, iteration: 657 loss: 0.24192917 acc: 0.94\n",
            "New set of weights found, iteration: 658 loss: 0.24181387 acc: 0.9433333333333334\n",
            "New set of weights found, iteration: 676 loss: 0.24085978 acc: 0.9433333333333334\n",
            "New set of weights found, iteration: 679 loss: 0.23738421 acc: 0.9333333333333333\n",
            "New set of weights found, iteration: 687 loss: 0.23695572 acc: 0.94\n",
            "New set of weights found, iteration: 703 loss: 0.23367447 acc: 0.94\n",
            "New set of weights found, iteration: 705 loss: 0.23038976 acc: 0.94\n",
            "New set of weights found, iteration: 715 loss: 0.22943924 acc: 0.9433333333333334\n",
            "New set of weights found, iteration: 718 loss: 0.22921188 acc: 0.94\n",
            "New set of weights found, iteration: 722 loss: 0.22903605 acc: 0.94\n",
            "New set of weights found, iteration: 729 loss: 0.22437958 acc: 0.94\n",
            "New set of weights found, iteration: 734 loss: 0.22339946 acc: 0.94\n",
            "New set of weights found, iteration: 748 loss: 0.22166005 acc: 0.94\n",
            "New set of weights found, iteration: 760 loss: 0.2189123 acc: 0.94\n",
            "New set of weights found, iteration: 761 loss: 0.21827835 acc: 0.9433333333333334\n",
            "New set of weights found, iteration: 770 loss: 0.21546504 acc: 0.9433333333333334\n",
            "New set of weights found, iteration: 772 loss: 0.21400948 acc: 0.94\n",
            "New set of weights found, iteration: 778 loss: 0.21398969 acc: 0.9433333333333334\n",
            "New set of weights found, iteration: 779 loss: 0.21334386 acc: 0.94\n",
            "New set of weights found, iteration: 782 loss: 0.21272907 acc: 0.9433333333333334\n",
            "New set of weights found, iteration: 787 loss: 0.21029286 acc: 0.9366666666666666\n",
            "New set of weights found, iteration: 797 loss: 0.2067276 acc: 0.9366666666666666\n",
            "New set of weights found, iteration: 802 loss: 0.20448728 acc: 0.94\n",
            "New set of weights found, iteration: 805 loss: 0.2018003 acc: 0.94\n",
            "New set of weights found, iteration: 810 loss: 0.20163727 acc: 0.9433333333333334\n",
            "New set of weights found, iteration: 813 loss: 0.19924417 acc: 0.94\n",
            "New set of weights found, iteration: 820 loss: 0.19734994 acc: 0.94\n",
            "New set of weights found, iteration: 821 loss: 0.19692986 acc: 0.94\n",
            "New set of weights found, iteration: 828 loss: 0.19359593 acc: 0.94\n",
            "New set of weights found, iteration: 832 loss: 0.19234332 acc: 0.94\n",
            "New set of weights found, iteration: 844 loss: 0.19068971 acc: 0.9466666666666667\n",
            "New set of weights found, iteration: 845 loss: 0.18869092 acc: 0.94\n",
            "New set of weights found, iteration: 847 loss: 0.1871506 acc: 0.9533333333333334\n",
            "New set of weights found, iteration: 849 loss: 0.18669562 acc: 0.9466666666666667\n",
            "New set of weights found, iteration: 850 loss: 0.18417157 acc: 0.9366666666666666\n",
            "New set of weights found, iteration: 851 loss: 0.18264878 acc: 0.9433333333333334\n",
            "New set of weights found, iteration: 856 loss: 0.18215491 acc: 0.94\n",
            "New set of weights found, iteration: 858 loss: 0.17922138 acc: 0.94\n",
            "New set of weights found, iteration: 868 loss: 0.17918922 acc: 0.9366666666666666\n",
            "New set of weights found, iteration: 874 loss: 0.17882352 acc: 0.94\n",
            "New set of weights found, iteration: 886 loss: 0.17795885 acc: 0.94\n",
            "New set of weights found, iteration: 890 loss: 0.17705464 acc: 0.9433333333333334\n",
            "New set of weights found, iteration: 891 loss: 0.17530137 acc: 0.9433333333333334\n",
            "New set of weights found, iteration: 899 loss: 0.17306212 acc: 0.94\n",
            "New set of weights found, iteration: 910 loss: 0.17219882 acc: 0.94\n",
            "New set of weights found, iteration: 923 loss: 0.17013294 acc: 0.94\n",
            "New set of weights found, iteration: 933 loss: 0.16966693 acc: 0.9433333333333334\n",
            "New set of weights found, iteration: 937 loss: 0.1686811 acc: 0.94\n",
            "New set of weights found, iteration: 941 loss: 0.16746922 acc: 0.94\n",
            "New set of weights found, iteration: 942 loss: 0.16645212 acc: 0.94\n",
            "New set of weights found, iteration: 960 loss: 0.16618024 acc: 0.9433333333333334\n",
            "New set of weights found, iteration: 971 loss: 0.16574873 acc: 0.9366666666666666\n",
            "New set of weights found, iteration: 980 loss: 0.16406298 acc: 0.9433333333333334\n",
            "New set of weights found, iteration: 987 loss: 0.16362067 acc: 0.94\n",
            "New set of weights found, iteration: 999 loss: 0.16293563 acc: 0.9466666666666667\n",
            "New set of weights found, iteration: 1032 loss: 0.16220799 acc: 0.9433333333333334\n",
            "New set of weights found, iteration: 1077 loss: 0.16196755 acc: 0.94\n",
            "New set of weights found, iteration: 1090 loss: 0.16120633 acc: 0.9433333333333334\n",
            "New set of weights found, iteration: 1097 loss: 0.16036181 acc: 0.9366666666666666\n",
            "New set of weights found, iteration: 1101 loss: 0.1603522 acc: 0.9466666666666667\n",
            "New set of weights found, iteration: 1123 loss: 0.16029394 acc: 0.9433333333333334\n",
            "New set of weights found, iteration: 1129 loss: 0.15903012 acc: 0.9366666666666666\n",
            "New set of weights found, iteration: 1133 loss: 0.15832289 acc: 0.94\n",
            "New set of weights found, iteration: 1142 loss: 0.15815979 acc: 0.9333333333333333\n",
            "New set of weights found, iteration: 1144 loss: 0.15706678 acc: 0.9433333333333334\n",
            "New set of weights found, iteration: 1147 loss: 0.15704954 acc: 0.94\n",
            "New set of weights found, iteration: 1153 loss: 0.15652262 acc: 0.94\n",
            "New set of weights found, iteration: 1158 loss: 0.15553713 acc: 0.9366666666666666\n",
            "New set of weights found, iteration: 1183 loss: 0.15551537 acc: 0.9366666666666666\n",
            "New set of weights found, iteration: 1186 loss: 0.15512952 acc: 0.9433333333333334\n",
            "New set of weights found, iteration: 1237 loss: 0.15492696 acc: 0.94\n",
            "New set of weights found, iteration: 1265 loss: 0.15475857 acc: 0.94\n",
            "New set of weights found, iteration: 1269 loss: 0.15307455 acc: 0.94\n",
            "New set of weights found, iteration: 1284 loss: 0.15298109 acc: 0.94\n",
            "New set of weights found, iteration: 1286 loss: 0.15233037 acc: 0.9433333333333334\n",
            "New set of weights found, iteration: 1293 loss: 0.15190287 acc: 0.9433333333333334\n",
            "New set of weights found, iteration: 1297 loss: 0.15093216 acc: 0.94\n",
            "New set of weights found, iteration: 1318 loss: 0.15089014 acc: 0.9433333333333334\n",
            "New set of weights found, iteration: 1323 loss: 0.15085807 acc: 0.94\n",
            "New set of weights found, iteration: 1325 loss: 0.15074143 acc: 0.9466666666666667\n",
            "New set of weights found, iteration: 1326 loss: 0.15042466 acc: 0.9466666666666667\n",
            "New set of weights found, iteration: 1337 loss: 0.14978988 acc: 0.94\n",
            "New set of weights found, iteration: 1358 loss: 0.14976592 acc: 0.94\n",
            "New set of weights found, iteration: 1362 loss: 0.14890413 acc: 0.9433333333333334\n",
            "New set of weights found, iteration: 1370 loss: 0.14890376 acc: 0.9433333333333334\n",
            "New set of weights found, iteration: 1373 loss: 0.14879283 acc: 0.94\n",
            "New set of weights found, iteration: 1380 loss: 0.14847784 acc: 0.94\n",
            "New set of weights found, iteration: 1386 loss: 0.14847465 acc: 0.9433333333333334\n",
            "New set of weights found, iteration: 1388 loss: 0.14800072 acc: 0.9433333333333334\n",
            "New set of weights found, iteration: 1391 loss: 0.14678228 acc: 0.94\n",
            "New set of weights found, iteration: 1408 loss: 0.1464346 acc: 0.9433333333333334\n",
            "New set of weights found, iteration: 1409 loss: 0.14527605 acc: 0.9333333333333333\n",
            "New set of weights found, iteration: 1411 loss: 0.14525828 acc: 0.9433333333333334\n",
            "New set of weights found, iteration: 1430 loss: 0.1446538 acc: 0.9433333333333334\n",
            "New set of weights found, iteration: 1434 loss: 0.14401802 acc: 0.9366666666666666\n",
            "New set of weights found, iteration: 1489 loss: 0.14292544 acc: 0.94\n",
            "New set of weights found, iteration: 1495 loss: 0.14265014 acc: 0.94\n",
            "New set of weights found, iteration: 1505 loss: 0.14241044 acc: 0.9466666666666667\n",
            "New set of weights found, iteration: 1511 loss: 0.14230332 acc: 0.9366666666666666\n",
            "New set of weights found, iteration: 1513 loss: 0.14213061 acc: 0.94\n",
            "New set of weights found, iteration: 1540 loss: 0.14207764 acc: 0.9366666666666666\n",
            "New set of weights found, iteration: 1543 loss: 0.1418695 acc: 0.9433333333333334\n",
            "New set of weights found, iteration: 1549 loss: 0.14167489 acc: 0.9366666666666666\n",
            "New set of weights found, iteration: 1555 loss: 0.14166912 acc: 0.9366666666666666\n",
            "New set of weights found, iteration: 1562 loss: 0.14150883 acc: 0.94\n",
            "New set of weights found, iteration: 1633 loss: 0.14122452 acc: 0.9433333333333334\n",
            "New set of weights found, iteration: 1641 loss: 0.14051384 acc: 0.9433333333333334\n",
            "New set of weights found, iteration: 1644 loss: 0.14047976 acc: 0.9433333333333334\n",
            "New set of weights found, iteration: 1653 loss: 0.14024459 acc: 0.9433333333333334\n",
            "New set of weights found, iteration: 1672 loss: 0.14020847 acc: 0.9466666666666667\n",
            "New set of weights found, iteration: 1682 loss: 0.13941014 acc: 0.9433333333333334\n",
            "New set of weights found, iteration: 1689 loss: 0.13929491 acc: 0.9466666666666667\n",
            "New set of weights found, iteration: 1693 loss: 0.1389391 acc: 0.9433333333333334\n",
            "New set of weights found, iteration: 1696 loss: 0.13860264 acc: 0.94\n",
            "New set of weights found, iteration: 1721 loss: 0.13797918 acc: 0.9366666666666666\n",
            "New set of weights found, iteration: 1754 loss: 0.13770229 acc: 0.9366666666666666\n",
            "New set of weights found, iteration: 1755 loss: 0.13764334 acc: 0.9433333333333334\n",
            "New set of weights found, iteration: 1774 loss: 0.13745008 acc: 0.9433333333333334\n",
            "New set of weights found, iteration: 1777 loss: 0.13731971 acc: 0.94\n",
            "New set of weights found, iteration: 1792 loss: 0.13701116 acc: 0.94\n",
            "New set of weights found, iteration: 1795 loss: 0.13694005 acc: 0.9433333333333334\n",
            "New set of weights found, iteration: 1832 loss: 0.13684916 acc: 0.9433333333333334\n",
            "New set of weights found, iteration: 1870 loss: 0.1364587 acc: 0.94\n",
            "New set of weights found, iteration: 1917 loss: 0.13611524 acc: 0.94\n",
            "New set of weights found, iteration: 1964 loss: 0.1361099 acc: 0.94\n",
            "New set of weights found, iteration: 1974 loss: 0.13602664 acc: 0.9433333333333334\n",
            "New set of weights found, iteration: 1994 loss: 0.1358595 acc: 0.9433333333333334\n",
            "New set of weights found, iteration: 2006 loss: 0.13569748 acc: 0.94\n",
            "New set of weights found, iteration: 2097 loss: 0.135575 acc: 0.94\n",
            "New set of weights found, iteration: 2196 loss: 0.13544048 acc: 0.94\n",
            "New set of weights found, iteration: 2216 loss: 0.13506924 acc: 0.94\n",
            "New set of weights found, iteration: 2330 loss: 0.13501963 acc: 0.94\n",
            "New set of weights found, iteration: 2349 loss: 0.1349512 acc: 0.94\n",
            "New set of weights found, iteration: 2406 loss: 0.13495022 acc: 0.9433333333333334\n",
            "New set of weights found, iteration: 2418 loss: 0.13487558 acc: 0.94\n",
            "New set of weights found, iteration: 2419 loss: 0.13467331 acc: 0.9433333333333334\n",
            "New set of weights found, iteration: 2626 loss: 0.13460639 acc: 0.94\n",
            "New set of weights found, iteration: 2635 loss: 0.13460459 acc: 0.94\n",
            "New set of weights found, iteration: 2658 loss: 0.13457163 acc: 0.94\n",
            "New set of weights found, iteration: 2697 loss: 0.134482 acc: 0.94\n",
            "New set of weights found, iteration: 2706 loss: 0.13440925 acc: 0.94\n",
            "New set of weights found, iteration: 2802 loss: 0.13435768 acc: 0.94\n",
            "New set of weights found, iteration: 3718 loss: 0.13433526 acc: 0.94\n",
            "New set of weights found, iteration: 3728 loss: 0.1341544 acc: 0.94\n",
            "New set of weights found, iteration: 3944 loss: 0.13412814 acc: 0.94\n",
            "New set of weights found, iteration: 4289 loss: 0.1339631 acc: 0.94\n",
            "New set of weights found, iteration: 4358 loss: 0.13394862 acc: 0.94\n",
            "New set of weights found, iteration: 4742 loss: 0.13389273 acc: 0.94\n",
            "New set of weights found, iteration: 4760 loss: 0.13381386 acc: 0.94\n",
            "New set of weights found, iteration: 4788 loss: 0.133766 acc: 0.94\n",
            "New set of weights found, iteration: 4999 loss: 0.13366133 acc: 0.94\n",
            "New set of weights found, iteration: 5083 loss: 0.13359268 acc: 0.94\n",
            "New set of weights found, iteration: 5401 loss: 0.13353345 acc: 0.94\n",
            "New set of weights found, iteration: 5683 loss: 0.1335304 acc: 0.94\n",
            "New set of weights found, iteration: 5698 loss: 0.13346647 acc: 0.9433333333333334\n",
            "New set of weights found, iteration: 5724 loss: 0.13338915 acc: 0.9433333333333334\n",
            "New set of weights found, iteration: 5743 loss: 0.13331929 acc: 0.94\n",
            "New set of weights found, iteration: 5802 loss: 0.13327837 acc: 0.94\n",
            "New set of weights found, iteration: 5925 loss: 0.13315395 acc: 0.94\n",
            "New set of weights found, iteration: 5988 loss: 0.1329223 acc: 0.94\n",
            "New set of weights found, iteration: 6294 loss: 0.13287486 acc: 0.9366666666666666\n",
            "New set of weights found, iteration: 6301 loss: 0.13271876 acc: 0.9433333333333334\n",
            "New set of weights found, iteration: 6910 loss: 0.132702 acc: 0.9433333333333334\n",
            "New set of weights found, iteration: 7205 loss: 0.13261841 acc: 0.94\n",
            "New set of weights found, iteration: 7226 loss: 0.1325952 acc: 0.9433333333333334\n",
            "New set of weights found, iteration: 7330 loss: 0.13258275 acc: 0.94\n",
            "New set of weights found, iteration: 7347 loss: 0.13236 acc: 0.94\n",
            "New set of weights found, iteration: 7623 loss: 0.13233615 acc: 0.9433333333333334\n",
            "New set of weights found, iteration: 7825 loss: 0.13225725 acc: 0.94\n",
            "New set of weights found, iteration: 7980 loss: 0.13218153 acc: 0.9433333333333334\n",
            "New set of weights found, iteration: 8185 loss: 0.13214643 acc: 0.94\n",
            "New set of weights found, iteration: 8397 loss: 0.13208903 acc: 0.9433333333333334\n",
            "New set of weights found, iteration: 8489 loss: 0.13195354 acc: 0.94\n",
            "New set of weights found, iteration: 8836 loss: 0.13188124 acc: 0.9366666666666666\n",
            "New set of weights found, iteration: 8944 loss: 0.13186565 acc: 0.94\n",
            "New set of weights found, iteration: 9022 loss: 0.13179782 acc: 0.9433333333333334\n",
            "New set of weights found, iteration: 9053 loss: 0.13167004 acc: 0.9433333333333334\n"
          ],
          "name": "stdout"
        }
      ]
    },
    {
      "cell_type": "markdown",
      "metadata": {
        "id": "44O1hsiSYHOb"
      },
      "source": [
        "---"
      ]
    },
    {
      "cell_type": "markdown",
      "metadata": {
        "id": "fvMkYEduYK8R"
      },
      "source": [
        "**Backpropagation**"
      ]
    },
    {
      "cell_type": "code",
      "metadata": {
        "id": "4BaiU9KjIf_1"
      },
      "source": [
        "# Dense layer\n",
        "class Layer_Dense :\n",
        "  # Layer initialization\n",
        "  def __init__ ( self , n_inputs , n_neurons ):\n",
        "    # Initialize weights and biases\n",
        "    self.weights = 0.01 * np.random.randn(n_inputs, n_neurons)\n",
        "    self.biases = np.zeros(( 1 , n_neurons))\n",
        "    # Forward pass\n",
        "\n",
        "  def forward ( self , inputs ):\n",
        "    self.inputs = inputs\n",
        "    # Calculate output values from inputs, weights and biases\n",
        "    self.output = np.dot(inputs, self.weights) + self.biases\n",
        "  \n",
        "  # Backward pass\n",
        "  def backward ( self , dvalues ):\n",
        "    # Gradients on parameters\n",
        "    self.dweights = np.dot(self.inputs.T, dvalues)\n",
        "    self.dbiases = np.sum(dvalues, axis = 0 , keepdims = True )\n",
        "    \n",
        "    # Gradient on values\n",
        "    self.dinputs = np.dot(dvalues, self.weights.T)"
      ],
      "execution_count": 76,
      "outputs": []
    },
    {
      "cell_type": "code",
      "metadata": {
        "id": "4gnxrCSBZpuY"
      },
      "source": [
        "# ReLU activation\n",
        "class Activation_ReLU :\n",
        "  # Forward pass\n",
        "  def forward( self , inputs ):\n",
        "    # Remember input values\n",
        "    self.inputs = inputs\n",
        "    # Calculate output values from inputs\n",
        "    self.output = np.maximum( 0 , inputs)\n",
        "\n",
        "  # Backward pass\n",
        "  def backward( self , dvalues ):\n",
        "    # Since we need to modify the original variable,\n",
        "    # let's make a copy of the values first\n",
        "    self.dinputs = dvalues.copy()\n",
        "    # Zero gradient where input values were negative\n",
        "    self.dinputs[self.inputs <= 0 ] = 0"
      ],
      "execution_count": 77,
      "outputs": []
    },
    {
      "cell_type": "code",
      "metadata": {
        "id": "dT9fyCwqaR_K"
      },
      "source": [
        "# Cross-entropy loss\n",
        "class Loss_CategoricalCrossentropy ( Loss ):\n",
        "  # Forward pass\n",
        "  def forward( self , y_pred , y_true ):\n",
        "    # Number of samples in a batch\n",
        "    samples = len(y_pred)\n",
        "\n",
        "    # Clip data to prevent division by 0\n",
        "    # Clip both sides to not drag mean towards any value\n",
        "    y_pred_clipped = np.clip(y_pred, 1e-7 , 1 - 1e-7 )\n",
        "\n",
        "    # Probabilities for target values -\n",
        "    # only if categorical labels\n",
        "    if len(y_true.shape) == 1 :\n",
        "      correct_confidences = y_pred_clipped[range(samples),y_true]\n",
        "    elif len(y_true.shape) == 2 : # Mask values - only for one-hot encoded labels\n",
        "      correct_confidences = np.sum(y_pred_clipped * y_true, axis = 1)\n",
        "\n",
        "    # Losses\n",
        "    negative_log_likelihoods = - np.log(correct_confidences)\n",
        "\n",
        "    return negative_log_likelihoods\n",
        "\n",
        "  # Backward pass\n",
        "  def backward ( self , dvalues , y_true ):\n",
        "    # Number of samples\n",
        "    samples = len(dvalues)\n",
        "\n",
        "    # Number of labels in every sample\n",
        "    # We'll use the first sample to count them\n",
        "    labels = len(dvalues[ 0 ])\n",
        "\n",
        "    # If labels are sparse, turn them into one-hot vector\n",
        "    if len(y_true.shape) == 1 :\n",
        "      y_true = np.eye(labels)[y_true]\n",
        "\n",
        "    # Calculate gradient\n",
        "    self.dinputs = - y_true / dvalues\n",
        "\n",
        "    # Normalize gradient\n",
        "    self.dinputs = self.dinputs / samples"
      ],
      "execution_count": 83,
      "outputs": []
    },
    {
      "cell_type": "code",
      "metadata": {
        "id": "EWOX-Wi6dBoZ"
      },
      "source": [
        "# Softmax activation\n",
        "class Activation_Softmax :\n",
        "  # Forward pass\n",
        "  def forward ( self , inputs ):\n",
        "    # Get unnormalized probabilities\n",
        "    exp_values = np.exp(inputs - np.max(inputs, axis = 1 , keepdims = True ))\n",
        "\n",
        "    # Normalize them for each sample\n",
        "    probabilities = exp_values / np.sum(exp_values, axis = 1, keepdims = True )\n",
        "    \n",
        "    self.output = probabilities\n",
        "\n",
        "  # Backward pass\n",
        "  def backward ( self , dvalues ):\n",
        "    # Create uninitialized array\n",
        "    self.dinputs = np.empty_like(dvalues)\n",
        "\n",
        "    # Enumerate outputs and gradients\n",
        "    for index, (single_output, single_dvalues) in enumerate ( zip (self.output, dvalues)):\n",
        "      # Flatten output array\n",
        "      single_output = single_output.reshape( - 1 , 1 )\n",
        "\n",
        "      # Calculate Jacobian matrix of the output and\n",
        "      jacobian_matrix = np.diagflat(single_output) - np.dot(single_output, single_output.T)\n",
        "\n",
        "      # Calculate sample-wise gradient\n",
        "      # and add it to the array of sample gradients\n",
        "      self.dinputs[index] = np.dot(jacobian_matrix, single_dvalues)"
      ],
      "execution_count": 84,
      "outputs": []
    },
    {
      "cell_type": "code",
      "metadata": {
        "id": "sfhrYsPMdDOU"
      },
      "source": [
        "# Softmax classifier - combined Softmax activation\n",
        "# and cross-entropy loss for faster backward step\n",
        "class Activation_Softmax_Loss_CategoricalCrossentropy ():\n",
        "  # Creates activation and loss function objects\n",
        "  def __init__( self ):\n",
        "    self.activation = Activation_Softmax()\n",
        "    self.loss = Loss_CategoricalCrossentropy()\n",
        "\n",
        "  # Forward pass\n",
        "  def forward( self , inputs , y_true ):\n",
        "    # Output layer's activation function\n",
        "    self.activation.forward(inputs)\n",
        "    # Set the output\n",
        "    self.output = self.activation.output\n",
        "    # Calculate and return loss value\n",
        "    return self.loss.calculate(self.output, y_true)\n",
        "\n",
        "  # Backward pass\n",
        "  def backward( self , dvalues , y_true ):\n",
        "    # Number of samples\n",
        "    samples = len(dvalues)\n",
        "\n",
        "    # If labels are one-hot encoded,\n",
        "    # turn them into discrete values\n",
        "    if len(y_true.shape) == 2 :\n",
        "      y_true = np.argmax(y_true, axis = 1)\n",
        "\n",
        "    # Copy so we can safely modify\n",
        "    self.dinputs = dvalues.copy()\n",
        "\n",
        "    # Calculate gradient\n",
        "    self.dinputs[ range (samples), y_true] -= 1\n",
        "\n",
        "    # Normalize gradient\n",
        "    self.dinputs = self.dinputs / samples"
      ],
      "execution_count": 88,
      "outputs": []
    },
    {
      "cell_type": "markdown",
      "metadata": {
        "id": "QFE6-zlnjrMc"
      },
      "source": [
        "Test:"
      ]
    },
    {
      "cell_type": "code",
      "metadata": {
        "id": "HvTbelFMjS67"
      },
      "source": [
        "import numpy as np\n",
        "import nnfs\n",
        "\n",
        "nnfs.init()\n",
        "\n",
        "softmax_outputs = np.array([[ 0.7 , 0.1 , 0.2 ],\n",
        "                            [ 0.1 , 0.5 , 0.4 ],\n",
        "                            [ 0.02 , 0.9 , 0.08 ]])\n",
        "\n",
        "class_targets = np.array([ 0 , 1 , 1 ])"
      ],
      "execution_count": 90,
      "outputs": []
    },
    {
      "cell_type": "code",
      "metadata": {
        "id": "MJeu2f3jj-ut"
      },
      "source": [
        "\n",
        "softmax_loss = Activation_Softmax_Loss_CategoricalCrossentropy()\n",
        "\n",
        "softmax_loss.backward(softmax_outputs, class_targets)\n",
        "\n",
        "dvalues1 = softmax_loss.dinputs\n"
      ],
      "execution_count": 91,
      "outputs": []
    },
    {
      "cell_type": "code",
      "metadata": {
        "id": "jkPxQdMvlEoP"
      },
      "source": [
        "\n",
        "activation = Activation_Softmax()\n",
        "\n",
        "activation.output = softmax_outputs\n",
        "\n",
        "loss = Loss_CategoricalCrossentropy()\n",
        "\n",
        "loss.backward(softmax_outputs, class_targets)\n",
        "\n",
        "activation.backward(loss.dinputs)\n",
        "\n",
        "dvalues2 = activation.dinputs\n"
      ],
      "execution_count": 92,
      "outputs": []
    },
    {
      "cell_type": "code",
      "metadata": {
        "colab": {
          "base_uri": "https://localhost:8080/"
        },
        "id": "mSELdPMglGKL",
        "outputId": "22eb5229-1a69-4ed2-e4df-9325ce567342"
      },
      "source": [
        "print ( 'Gradients: combined loss and activation:' )\n",
        "print (dvalues1)\n",
        "print ( 'Gradients: separate loss and activation:' )\n",
        "print (dvalues2)"
      ],
      "execution_count": 93,
      "outputs": [
        {
          "output_type": "stream",
          "text": [
            "Gradients: combined loss and activation:\n",
            "[[-0.1         0.03333333  0.06666667]\n",
            " [ 0.03333333 -0.16666667  0.13333333]\n",
            " [ 0.00666667 -0.03333333  0.02666667]]\n",
            "Gradients: separate loss and activation:\n",
            "[[-0.09999999  0.03333334  0.06666667]\n",
            " [ 0.03333334 -0.16666667  0.13333334]\n",
            " [ 0.00666667 -0.03333333  0.02666667]]\n"
          ],
          "name": "stdout"
        }
      ]
    },
    {
      "cell_type": "markdown",
      "metadata": {
        "id": "Vv1WAl7GljMS"
      },
      "source": [
        "Full model:"
      ]
    },
    {
      "cell_type": "code",
      "metadata": {
        "colab": {
          "base_uri": "https://localhost:8080/"
        },
        "id": "s3IMJe_jlGus",
        "outputId": "74737247-47ad-4405-b7c6-101c80b04914"
      },
      "source": [
        "# Create dataset\n",
        "X, y = spiral_data( samples = 100 , classes = 3 )\n",
        "\n",
        "# Create Dense layer with 2 input features and 3 output values\n",
        "dense1 = Layer_Dense( 2 , 3 )\n",
        "\n",
        "# Create ReLU activation (to be used with Dense layer):\n",
        "activation1 = Activation_ReLU()\n",
        "\n",
        "# Create second Dense layer with 3 input features (as we take output\n",
        "# of previous layer here) and 3 output values (output values)\n",
        "dense2 = Layer_Dense( 3 , 3 )\n",
        "\n",
        "# Create Softmax classifier's combined loss and activation\n",
        "loss_activation = Activation_Softmax_Loss_CategoricalCrossentropy()\n",
        "\n",
        "# Perform a forward pass of our training data through this layer\n",
        "dense1.forward(X)\n",
        "\n",
        "# Perform a forward pass through activation function\n",
        "# takes the output of first dense layer here\n",
        "activation1.forward(dense1.output)\n",
        "\n",
        "# Perform a forward pass through second Dense layer\n",
        "# takes outputs of activation function of first layer as inputs\n",
        "dense2.forward(activation1.output)\n",
        "\n",
        "# Perform a forward pass through the activation/loss function\n",
        "# takes the output of second dense layer here and returns loss\n",
        "loss = loss_activation.forward(dense2.output, y)\n",
        "\n",
        "# Let's see output of the first few samples:\n",
        "print (loss_activation.output[: 5 ])\n",
        "\n",
        "# Print loss value\n",
        "print ( 'loss:' , loss)\n",
        "\n",
        "# Calculate accuracy from output of activation2 and targets\n",
        "# calculate values along first axis\n",
        "predictions = np.argmax(loss_activation.output, axis = 1 )\n",
        "\n",
        "if len (y.shape) == 2 :\n",
        "  y = np.argmax(y, axis = 1 )\n",
        "\n",
        "accuracy = np.mean(predictions == y)\n",
        "\n",
        "# Print accuracy\n",
        "print ( 'acc:' , accuracy)\n",
        "\n",
        "# Backward pass\n",
        "loss_activation.backward(loss_activation.output, y)\n",
        "dense2.backward(loss_activation.dinputs)\n",
        "activation1.backward(dense2.dinputs)\n",
        "dense1.backward(activation1.dinputs)\n",
        "\n",
        "# Print gradients\n",
        "print (dense1.dweights)\n",
        "print (dense1.dbiases)\n",
        "print (dense2.dweights)\n",
        "print (dense2.dbiases)"
      ],
      "execution_count": 94,
      "outputs": [
        {
          "output_type": "stream",
          "text": [
            "[[0.33333334 0.33333334 0.33333334]\n",
            " [0.3333332  0.3333332  0.33333364]\n",
            " [0.3333329  0.33333293 0.3333342 ]\n",
            " [0.3333326  0.33333263 0.33333477]\n",
            " [0.33333233 0.3333324  0.33333528]]\n",
            "loss: 1.0986104\n",
            "acc: 0.34\n",
            "[[ 1.5766357e-04  7.8368583e-05  4.7324400e-05]\n",
            " [ 1.8161038e-04  1.1045573e-05 -3.3096312e-05]]\n",
            "[[-3.60553473e-04  9.66117223e-05 -1.03671395e-04]]\n",
            "[[ 5.44109462e-05  1.07411419e-04 -1.61822361e-04]\n",
            " [-4.07913431e-05 -7.16780924e-05  1.12469446e-04]\n",
            " [-5.30112993e-05  8.58172934e-05 -3.28059905e-05]]\n",
            "[[-1.0729185e-05 -9.4610732e-06  2.0027859e-05]]\n"
          ],
          "name": "stdout"
        }
      ]
    },
    {
      "cell_type": "code",
      "metadata": {
        "id": "CYedrUdwl8wr"
      },
      "source": [
        ""
      ],
      "execution_count": null,
      "outputs": []
    }
  ]
}