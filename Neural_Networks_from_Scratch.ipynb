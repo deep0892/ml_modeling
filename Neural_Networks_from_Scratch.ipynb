{
  "nbformat": 4,
  "nbformat_minor": 0,
  "metadata": {
    "colab": {
      "name": "Neural_Networks_from_Scratch.ipynb",
      "provenance": []
    },
    "kernelspec": {
      "name": "python3",
      "display_name": "Python 3"
    },
    "language_info": {
      "name": "python"
    }
  },
  "cells": [
    {
      "cell_type": "code",
      "metadata": {
        "colab": {
          "base_uri": "https://localhost:8080/"
        },
        "id": "FbZy48Ocdxot",
        "outputId": "1b8d058c-8457-4849-8b19-1f7b982dc7bc"
      },
      "source": [
        "inputs = [ 1 , 2 , 3 , 2.5 ]\n",
        "\n",
        "weights = [[ 0.2 , 0.8 , - 0.5 , 1 ],\n",
        "           [ 0.5 , - 0.91 , 0.26 , - 0.5 ],\n",
        "           [ - 0.26 , - 0.27 , 0.17 , 0.87 ]]\n",
        "\n",
        "biases = [ 2 , 3 , 0.5 ]\n",
        "\n",
        "# Output of current layer\n",
        "layer_outputs = []\n",
        "\n",
        "# For each neuron\n",
        "for neuron_weights, neuron_bias in zip (weights, biases):\n",
        "  # Zeroed output of given neuron\n",
        "  neuron_output = 0\n",
        "  # For each input and weight to the neuron\n",
        "  for n_input, weight in zip (inputs, neuron_weights):\n",
        "    # Multiply this input by associated weight\n",
        "    # and add to the neuron’s output variable\n",
        "    neuron_output += n_input * weight\n",
        "  # Add bias\n",
        "  neuron_output += neuron_bias\n",
        "  # Put neuron’s result to the layer’s output list\n",
        "  layer_outputs.append(neuron_output)\n",
        "print (layer_outputs)"
      ],
      "execution_count": null,
      "outputs": [
        {
          "output_type": "stream",
          "text": [
            "[4.8, 1.21, 2.385]\n"
          ],
          "name": "stdout"
        }
      ]
    },
    {
      "cell_type": "markdown",
      "metadata": {
        "id": "pseRamnVyepV"
      },
      "source": [
        "---\n"
      ]
    },
    {
      "cell_type": "markdown",
      "metadata": {
        "id": "4a5yNphYpVL3"
      },
      "source": [
        "A Single Neuron with NumPy"
      ]
    },
    {
      "cell_type": "code",
      "metadata": {
        "colab": {
          "base_uri": "https://localhost:8080/"
        },
        "id": "bxSF2SeYePM4",
        "outputId": "bb74c131-00bf-4336-b66c-f5a0ef07b805"
      },
      "source": [
        "import numpy as np\n",
        "outputs = np.dot(weights, inputs) + bias\n",
        "print (outputs)"
      ],
      "execution_count": null,
      "outputs": [
        {
          "output_type": "stream",
          "text": [
            "[4.8   0.21  3.885]\n"
          ],
          "name": "stdout"
        }
      ]
    },
    {
      "cell_type": "markdown",
      "metadata": {
        "id": "tS9Gaygpyf5p"
      },
      "source": [
        "---"
      ]
    },
    {
      "cell_type": "markdown",
      "metadata": {
        "id": "zbv8QCOixm3Y"
      },
      "source": [
        "Multiple layers:"
      ]
    },
    {
      "cell_type": "code",
      "metadata": {
        "id": "TF3mfE9GpWwg"
      },
      "source": [
        "inputs = [[ 1 , 2 , 3 , 2.5 ],\n",
        "[ 2. , 5. , - 1. , 2 ],\n",
        "[ - 1.5 , 2.7 , 3.3 , - 0.8 ]]\n",
        "weights = [[ 0.2 , 0.8 , - 0.5 , 1 ],\n",
        "[ 0.5 , - 0.91 , 0.26 , - 0.5 ],\n",
        "[ - 0.26 , - 0.27 , 0.17 , 0.87 ]]\n",
        "biases = [ 2 , 3 , 0.5 ]\n",
        "weights2 = [[ 0.1 , - 0.14 , 0.5 ],\n",
        "[ - 0.5 , 0.12 , - 0.33 ],\n",
        "[ - 0.44 , 0.73 , - 0.13 ]]\n",
        "biases2 = [ - 1 , 2 , - 0.5 ]"
      ],
      "execution_count": null,
      "outputs": []
    },
    {
      "cell_type": "code",
      "metadata": {
        "colab": {
          "base_uri": "https://localhost:8080/"
        },
        "id": "ntNfB8Pjx4z7",
        "outputId": "66cf3954-893f-408b-b42a-bf5a588209bb"
      },
      "source": [
        "layer1_outputs = np.dot(inputs, np.array(weights).T) + biases\n",
        "layer1_outputs.shape"
      ],
      "execution_count": null,
      "outputs": [
        {
          "output_type": "execute_result",
          "data": {
            "text/plain": [
              "(3, 3)"
            ]
          },
          "metadata": {
            "tags": []
          },
          "execution_count": 7
        }
      ]
    },
    {
      "cell_type": "code",
      "metadata": {
        "colab": {
          "base_uri": "https://localhost:8080/"
        },
        "id": "2A4GUYIxx6es",
        "outputId": "4b284398-4767-4216-f604-8ce7564cb188"
      },
      "source": [
        "layer2_outputs = np.dot(layer1_outputs, np.array(weights2).T) + biases2\n",
        "layer2_outputs.shape"
      ],
      "execution_count": null,
      "outputs": [
        {
          "output_type": "execute_result",
          "data": {
            "text/plain": [
              "(3, 3)"
            ]
          },
          "metadata": {
            "tags": []
          },
          "execution_count": 8
        }
      ]
    },
    {
      "cell_type": "markdown",
      "metadata": {
        "id": "ok9HlVLVyc_c"
      },
      "source": [
        "---\n",
        "\n",
        "\n"
      ]
    },
    {
      "cell_type": "markdown",
      "metadata": {
        "id": "co3WxRLI05Rt"
      },
      "source": [
        "Training Data"
      ]
    },
    {
      "cell_type": "code",
      "metadata": {
        "colab": {
          "base_uri": "https://localhost:8080/"
        },
        "id": "6HiLYL0GyAxK",
        "outputId": "bf96c50b-782a-4310-a4e1-b88ff37b2e20"
      },
      "source": [
        "!pip install nnfs"
      ],
      "execution_count": null,
      "outputs": [
        {
          "output_type": "stream",
          "text": [
            "Collecting nnfs\n",
            "  Downloading https://files.pythonhosted.org/packages/06/8c/3003a41d5229e65da792331b060dcad8100a0a5b9760f8c2074cde864148/nnfs-0.5.1-py3-none-any.whl\n",
            "Requirement already satisfied: numpy in /usr/local/lib/python3.7/dist-packages (from nnfs) (1.19.5)\n",
            "Installing collected packages: nnfs\n",
            "Successfully installed nnfs-0.5.1\n"
          ],
          "name": "stdout"
        }
      ]
    },
    {
      "cell_type": "code",
      "metadata": {
        "id": "_O4RmX-E0-DV"
      },
      "source": [
        "import numpy as np\n",
        "import nnfs\n",
        "\n",
        "from nnfs.datasets import spiral_data\n",
        "nnfs.init()"
      ],
      "execution_count": null,
      "outputs": []
    },
    {
      "cell_type": "markdown",
      "metadata": {
        "id": "kb-fAk6f1P0X"
      },
      "source": [
        "The nnfs.init() does three things: it sets the random seed to 0 (by the default), creates a\n",
        "float32 dtype default, and overrides the original dot product from NumPy. All of these are meant\n",
        "to ensure repeatable results for following along."
      ]
    },
    {
      "cell_type": "code",
      "metadata": {
        "colab": {
          "base_uri": "https://localhost:8080/",
          "height": 265
        },
        "id": "wMXNYlUS0_49",
        "outputId": "afa108ef-f8a0-4222-bb38-1c4d3edda841"
      },
      "source": [
        "import matplotlib.pyplot as plt\n",
        "X, y = spiral_data( samples = 100 , classes = 3 )\n",
        "\n",
        "X.shape, y.shape\n",
        "\n",
        "plt.scatter(X[:, 0 ], X[:, 1 ], c = y, cmap = 'brg' )\n",
        "plt.show()"
      ],
      "execution_count": null,
      "outputs": [
        {
          "output_type": "display_data",
          "data": {
            "image/png": "[encoded data removed]",
            "text/plain": [
              "<Figure size 432x288 with 1 Axes>"
            ]
          },
          "metadata": {
            "tags": [],
            "needs_background": "light"
          }
        }
      ]
    },
    {
      "cell_type": "markdown",
      "metadata": {
        "id": "blgxY6zw16fW"
      },
      "source": [
        "---"
      ]
    },
    {
      "cell_type": "markdown",
      "metadata": {
        "id": "1Z71u9Ws1-bR"
      },
      "source": [
        "**Dense Layer Class**"
      ]
    },
    {
      "cell_type": "code",
      "metadata": {
        "id": "Nmdgqo-E1W9d"
      },
      "source": [
        "import numpy as np\n",
        "import nnfs\n",
        "from nnfs.datasets import spiral_data\n",
        "nnfs.init()\n",
        "# Dense layer\n",
        "class Layer_Dense :\n",
        "\n",
        "  # Layer initialization\n",
        "  def __init__ ( self , n_inputs , n_neurons ):\n",
        "    # Initialize weights and biases\n",
        "    self.weights = 0.01 * np.random.randn(n_inputs, n_neurons)\n",
        "    self.biases = np.zeros(( 1 , n_neurons))\n",
        "\n",
        "  # Forward pass\n",
        "  def forward ( self , inputs ):\n",
        "    # Calculate output values from inputs, weights and biases\n",
        "    self.output = np.dot(inputs, self.weights) + self.biases\n",
        "  "
      ],
      "execution_count": null,
      "outputs": []
    },
    {
      "cell_type": "code",
      "metadata": {
        "colab": {
          "base_uri": "https://localhost:8080/"
        },
        "id": "qcssT3XP41kG",
        "outputId": "713330d6-a2b4-46d2-e42d-23d5cff274db"
      },
      "source": [
        "# Create dataset\n",
        "X, y = spiral_data( samples = 100 , classes = 3 )\n",
        "print(X.shape, y.shape)\n",
        "\n",
        "# Create Dense layer with 2 input features and 3 output values\n",
        "dense1 = Layer_Dense( 2 , 3 )\n",
        "\n",
        "# Perform a forward pass of our training data through this layer\n",
        "dense1.forward(X)\n",
        "\n",
        "# Let's see output of the first few samples:\n",
        "print (dense1.output[: 5 ])"
      ],
      "execution_count": null,
      "outputs": [
        {
          "output_type": "stream",
          "text": [
            "(300, 2) (300,)\n",
            "[[ 0.0000000e+00  0.0000000e+00  0.0000000e+00]\n",
            " [-1.0475188e-04  1.1395361e-04 -4.7983500e-05]\n",
            " [-2.7414842e-04  3.1729150e-04 -8.6921798e-05]\n",
            " [-4.2188365e-04  5.2666257e-04 -5.5912682e-05]\n",
            " [-5.7707680e-04  7.1401405e-04 -8.9430439e-05]]\n"
          ],
          "name": "stdout"
        }
      ]
    },
    {
      "cell_type": "markdown",
      "metadata": {
        "id": "7UmUkPzoL5e3"
      },
      "source": [
        "---"
      ]
    },
    {
      "cell_type": "markdown",
      "metadata": {
        "id": "DZQHcYujL7-f"
      },
      "source": [
        "**ReLU Activation Function Code**"
      ]
    },
    {
      "cell_type": "code",
      "metadata": {
        "colab": {
          "base_uri": "https://localhost:8080/"
        },
        "id": "pCdR9ape49wt",
        "outputId": "096be044-f23f-4e0e-d774-3ebf5d54e089"
      },
      "source": [
        "inputs = [ 0 , 2 , - 1 , 3.3 , - 2.7 , 1.1 , 2.2 , - 100 ]\n",
        "output = []\n",
        "for i in inputs:\n",
        "  output.append( max ( 0 , i))\n",
        "print (output)"
      ],
      "execution_count": null,
      "outputs": [
        {
          "output_type": "stream",
          "text": [
            "[0, 2, 0, 3.3, 0, 1.1, 2.2, 0]\n"
          ],
          "name": "stdout"
        }
      ]
    },
    {
      "cell_type": "code",
      "metadata": {
        "colab": {
          "base_uri": "https://localhost:8080/"
        },
        "id": "8pPdCfzHMCxM",
        "outputId": "2103919d-c3a6-4b14-9e3d-66f60aa12682"
      },
      "source": [
        "import numpy as np\n",
        "inputs = [ 0 , 2 , - 1 , 3.3 , - 2.7 , 1.1 , 2.2 , - 100 ]\n",
        "output = np.maximum( 0 , inputs)\n",
        "print (output)"
      ],
      "execution_count": null,
      "outputs": [
        {
          "output_type": "stream",
          "text": [
            "[0.  2.  0.  3.3 0.  1.1 2.2 0. ]\n"
          ],
          "name": "stdout"
        }
      ]
    },
    {
      "cell_type": "code",
      "metadata": {
        "id": "iV-Zf7WKMTWV"
      },
      "source": [
        "# ReLU activation\n",
        "class Activation_ReLU :\n",
        "  \n",
        "  # Forward pass\n",
        "  def forward ( self , inputs ):\n",
        "    # Calculate output values from input\n",
        "    self.output = np.maximum( 0 , inputs)"
      ],
      "execution_count": null,
      "outputs": []
    },
    {
      "cell_type": "code",
      "metadata": {
        "colab": {
          "base_uri": "https://localhost:8080/"
        },
        "id": "1wlp-RuhMgEx",
        "outputId": "74c253f4-0d80-4115-ae0b-f0e1e154af99"
      },
      "source": [
        "# Create dataset\n",
        "X, y = spiral_data( samples = 100 , classes = 3 )\n",
        "\n",
        "# Create Dense layer with 2 input features and 3 output values\n",
        "dense1 = Layer_Dense( 2 , 3 )\n",
        "\n",
        "# Create ReLU activation (to be used with Dense layer):\n",
        "activation1 = Activation_ReLU()\n",
        "\n",
        "# Make a forward pass of our training data through this layer\n",
        "dense1.forward(X)\n",
        "\n",
        "# Forward pass through activation func.\n",
        "# Takes in output from previous layer\n",
        "activation1.forward(dense1.output)\n",
        "\n",
        "# Let's see output of the first few samples:\n",
        "print (activation1.output[: 5 ])"
      ],
      "execution_count": null,
      "outputs": [
        {
          "output_type": "stream",
          "text": [
            "[[0.         0.         0.        ]\n",
            " [0.00013767 0.         0.        ]\n",
            " [0.00022187 0.         0.        ]\n",
            " [0.0004077  0.         0.        ]\n",
            " [0.00054541 0.         0.        ]]\n"
          ],
          "name": "stdout"
        }
      ]
    },
    {
      "cell_type": "markdown",
      "metadata": {
        "id": "dktoRuWOEcpM"
      },
      "source": [
        "---"
      ]
    },
    {
      "cell_type": "markdown",
      "metadata": {
        "id": "JHdaM_ryB5kM"
      },
      "source": [
        "The Softmax Activation Function"
      ]
    },
    {
      "cell_type": "code",
      "metadata": {
        "id": "uljfUEnYMm6f",
        "colab": {
          "base_uri": "https://localhost:8080/"
        },
        "outputId": "eed9b3a0-1c3e-42d6-f480-6d6290e43ac0"
      },
      "source": [
        "import numpy as np\n",
        "\n",
        "# Values from the earlier previous when we described\n",
        "# what a neural network is\n",
        "layer_outputs = [ 4.8 , 1.21 , 2.385 ]\n",
        "\n",
        "# For each value in a vector, calculate the exponential value\n",
        "exp_values = np.exp(layer_outputs)\n",
        "print ( 'exponentiated values:' )\n",
        "print (exp_values)\n",
        "\n",
        "# Now normalize values\n",
        "norm_values = exp_values / np.sum(exp_values)\n",
        "print ( 'normalized exponentiated values:' )\n",
        "\n",
        "print (norm_values)\n",
        "print ( 'sum of normalized values:' , np.sum(norm_values))"
      ],
      "execution_count": 34,
      "outputs": [
        {
          "output_type": "stream",
          "text": [
            "exponentiated values:\n",
            "[121.51041752   3.35348465  10.85906266]\n",
            "normalized exponentiated values:\n",
            "[0.89528266 0.02470831 0.08000903]\n",
            "sum of normalized values: 0.9999999999999999\n"
          ],
          "name": "stdout"
        }
      ]
    },
    {
      "cell_type": "code",
      "metadata": {
        "id": "FscckQWVCEfE"
      },
      "source": [
        "# Softmax activation\n",
        "class Activation_Softmax :\n",
        "\n",
        "  # Forward pass\n",
        "  def forward ( self , inputs ):\n",
        "\n",
        "    # Get unnormalized probabilities\n",
        "    exp_values = np.exp(inputs - np.max(inputs, axis = 1 , keepdims = True ))\n",
        "\n",
        "    # Normalize them for each sample\n",
        "    probabilities = exp_values / np.sum(exp_values, axis = 1 , keepdims = True )\n",
        "    \n",
        "    self.output = probabilities"
      ],
      "execution_count": 35,
      "outputs": []
    },
    {
      "cell_type": "code",
      "metadata": {
        "colab": {
          "base_uri": "https://localhost:8080/"
        },
        "id": "ItYFuJcwEHKf",
        "outputId": "b4729b23-c120-493d-e1a0-54a398baf9b9"
      },
      "source": [
        "softmax = Activation_Softmax()\n",
        "softmax.forward([[ 1 , 2 , 3 ]])\n",
        "print (softmax.output)"
      ],
      "execution_count": 36,
      "outputs": [
        {
          "output_type": "stream",
          "text": [
            "[[0.09003057 0.24472847 0.66524096]]\n"
          ],
          "name": "stdout"
        }
      ]
    },
    {
      "cell_type": "code",
      "metadata": {
        "colab": {
          "base_uri": "https://localhost:8080/"
        },
        "id": "2RR_tv5DEN_X",
        "outputId": "64ce73ee-fca2-4887-c072-33232fa08792"
      },
      "source": [
        "softmax.forward([[ - 2 , - 1 , 0 ]]) # subtracted 3 - max from the list\n",
        "print (softmax.output)"
      ],
      "execution_count": 37,
      "outputs": [
        {
          "output_type": "stream",
          "text": [
            "[[0.09003057 0.24472847 0.66524096]]\n"
          ],
          "name": "stdout"
        }
      ]
    },
    {
      "cell_type": "markdown",
      "metadata": {
        "id": "Kx21Jto0Ef6U"
      },
      "source": [
        "---"
      ]
    },
    {
      "cell_type": "code",
      "metadata": {
        "colab": {
          "base_uri": "https://localhost:8080/"
        },
        "id": "Rb04iDBuEV8W",
        "outputId": "d9b24f3f-1e41-4faf-f0c5-465a0b4f7288"
      },
      "source": [
        "# Create dataset\n",
        "X, y = spiral_data( samples = 100 , classes = 3 )\n",
        "\n",
        "# Create Dense layer with 2 input features and 3 output values\n",
        "dense1 = Layer_Dense( 2 , 3 )\n",
        "\n",
        "# Create ReLU activation (to be used with Dense layer):\n",
        "activation1 = Activation_ReLU()\n",
        "\n",
        "# Create second Dense layer with 3 input features (as we take output\n",
        "# of previous layer here) and 3 output values\n",
        "dense2 = Layer_Dense( 3 , 3 )\n",
        "\n",
        "# Create Softmax activation (to be used with Dense layer):\n",
        "activation2 = Activation_Softmax()\n",
        "\n",
        "# Make a forward pass of our training data through this layer\n",
        "dense1.forward(X)\n",
        "print(dense1.output.shape)\n",
        "\n",
        "# Make a forward pass through activation function\n",
        "# it takes the output of first dense layer here\n",
        "activation1.forward(dense1.output)\n",
        "print(activation1.output.shape)\n",
        "\n",
        "# Make a forward pass through second Dense layer\n",
        "# it takes outputs of activation function of first layer as inputs\n",
        "dense2.forward(activation1.output)\n",
        "print(dense2.output.shape)\n",
        "\n",
        "# Make a forward pass through activation function\n",
        "# it takes the output of second dense layer here\n",
        "activation2.forward(dense2.output)\n",
        "print(activation2.output.shape)\n",
        "\n",
        "# Let's see output of the first few samples:\n",
        "print (activation2.output[: 5 ])"
      ],
      "execution_count": 40,
      "outputs": [
        {
          "output_type": "stream",
          "text": [
            "(300, 3)\n",
            "(300, 3)\n",
            "(300, 3)\n",
            "(300, 3)\n",
            "[[0.33333334 0.33333334 0.33333334]\n",
            " [0.3333336  0.33333313 0.3333333 ]\n",
            " [0.3333337  0.33333302 0.3333333 ]\n",
            " [0.33333385 0.33333287 0.33333328]\n",
            " [0.33333433 0.33333242 0.33333322]]\n"
          ],
          "name": "stdout"
        }
      ]
    },
    {
      "cell_type": "markdown",
      "metadata": {
        "id": "oSjutWNMJLYE"
      },
      "source": [
        "---"
      ]
    },
    {
      "cell_type": "markdown",
      "metadata": {
        "id": "UQ-GlFiaJOWi"
      },
      "source": [
        "Full Code for Dense Layer and Activation Functions"
      ]
    },
    {
      "cell_type": "code",
      "metadata": {
        "id": "AfNtfllzHlnm"
      },
      "source": [
        "import numpy as np\n",
        "import nnfs \n",
        "\n",
        "from nnfs.datasets import spiral_data\n",
        "nnfs.init()\n",
        "\n",
        "# Dense layer\n",
        "class Layer_Dense :\n",
        "  # Layer initialization\n",
        "  def __init__ ( self , n_inputs , n_neurons ):\n",
        "    # Initialize weights and biases\n",
        "    self.weights = 0.01 * np.random.randn(n_inputs, n_neurons)\n",
        "    self.biases = np.zeros(( 1 , n_neurons))\n",
        "    # Forward pass\n",
        "\n",
        "  def forward ( self , inputs ):\n",
        "    # Calculate output values from inputs, weights and biases\n",
        "    self.output = np.dot(inputs, self.weights) + self.biases\n",
        "\n",
        "# ReLU activation\n",
        "class Activation_ReLU :\n",
        "  # Forward pass\n",
        "  def forward ( self , inputs ):\n",
        "    # Calculate output values from inputs\n",
        "    self.output = np.maximum( 0 , inputs)\n",
        "\n",
        "# Softmax activation\n",
        "class Activation_Softmax :\n",
        "  # Forward pass\n",
        "  def forward ( self , inputs ):\n",
        "    # Get unnormalized probabilities\n",
        "    exp_values = np.exp(inputs - np.max(inputs, axis = 1 ,\n",
        "    keepdims = True ))\n",
        "    # Normalize them for each sample\n",
        "    probabilities = exp_values / np.sum(exp_values, axis = 1 ,\n",
        "    keepdims = True )\n",
        "    self.output = probabilities\n"
      ],
      "execution_count": 43,
      "outputs": []
    },
    {
      "cell_type": "code",
      "metadata": {
        "colab": {
          "base_uri": "https://localhost:8080/"
        },
        "id": "6u5LVyr-JYLn",
        "outputId": "91f69227-7c15-4b3a-dc2e-ec6fc460f03e"
      },
      "source": [
        "# Create dataset\n",
        "X, y = spiral_data( samples = 100 , classes = 3 )\n",
        "\n",
        "# Create Dense layer with 2 input features and 3 output values\n",
        "dense1 = Layer_Dense( 2 , 3 )\n",
        "\n",
        "# Create ReLU activation (to be used with Dense layer):\n",
        "activation1 = Activation_ReLU()\n",
        "\n",
        "# Create second Dense layer with 3 input features (as we take output\n",
        "# of previous layer here) and 3 output values (output values)\n",
        "dense2 = Layer_Dense( 3 , 3 )\n",
        "\n",
        "# Create Softmax activation (to be used with Dense layer):\n",
        "activation2 = Activation_Softmax()\n",
        "\n",
        "# Make a forward pass of our training data through this layer\n",
        "dense1.forward(X)\n",
        "\n",
        "# Make a forward pass through activation function\n",
        "# it takes the output of first dense layer here\n",
        "activation1.forward(dense1.output)\n",
        "\n",
        "# Make a forward pass through second Dense layer\n",
        "# it takes outputs of activation function of first layer as inputs\n",
        "dense2.forward(activation1.output)\n",
        "\n",
        "# Make a forward pass through activation function\n",
        "# it takes the output of second dense layer here\n",
        "activation2.forward(dense2.output)\n",
        "\n",
        "# Let's see output of the first few samples:\n",
        "print (activation2.output[: 5 ])"
      ],
      "execution_count": 44,
      "outputs": [
        {
          "output_type": "stream",
          "text": [
            "[[0.33333334 0.33333334 0.33333334]\n",
            " [0.3333332  0.3333332  0.33333364]\n",
            " [0.3333329  0.33333293 0.3333342 ]\n",
            " [0.3333326  0.33333263 0.33333477]\n",
            " [0.33333233 0.3333324  0.33333528]]\n"
          ],
          "name": "stdout"
        }
      ]
    },
    {
      "cell_type": "markdown",
      "metadata": {
        "id": "lkXJJ-zxME0Z"
      },
      "source": [
        "---"
      ]
    },
    {
      "cell_type": "markdown",
      "metadata": {
        "id": "F86HGLG2MHme"
      },
      "source": [
        "np.sum along different axis"
      ]
    },
    {
      "cell_type": "code",
      "metadata": {
        "colab": {
          "base_uri": "https://localhost:8080/"
        },
        "id": "Ql6V1DBKJ9QT",
        "outputId": "4976e28b-a090-4449-b11d-66b1929e7a69"
      },
      "source": [
        "layer_outputs = np.array([[ 4.8 , 1.21 , 2.385 ],\n",
        "[ 8.9 , - 1.81 , 0.2 ],\n",
        "[ 1.41 , 1.051 , 0.026 ]])\n",
        "print ( 'Another way to think of it w/ a matrix == axis 0: columns:' )\n",
        "print (np.sum(layer_outputs, axis = 0, keepdims=True ))\n",
        "print ( 'So we can sum axis 1, but note the current shape:' )\n",
        "print (np.sum(layer_outputs, axis = 1, keepdims=True ))"
      ],
      "execution_count": 47,
      "outputs": [
        {
          "output_type": "stream",
          "text": [
            "Another way to think of it w/ a matrix == axis 0: columns:\n",
            "[[15.11   0.451  2.611]]\n",
            "So we can sum axis 1, but note the current shape:\n",
            "[[8.395]\n",
            " [7.29 ]\n",
            " [2.487]]\n"
          ],
          "name": "stdout"
        }
      ]
    },
    {
      "cell_type": "markdown",
      "metadata": {
        "id": "2FDhLBuXMNc8"
      },
      "source": [
        "---"
      ]
    },
    {
      "cell_type": "markdown",
      "metadata": {
        "id": "eBy920b6yi3U"
      },
      "source": [
        "Categorical Cross-Entropy Loss"
      ]
    },
    {
      "cell_type": "code",
      "metadata": {
        "colab": {
          "base_uri": "https://localhost:8080/"
        },
        "id": "sBGUnYOxLsZ2",
        "outputId": "5fcbd5a5-e5db-4af9-da03-80961c6090c0"
      },
      "source": [
        "softmax_outputs =  np.array([[ 0.7 , 0.1 , 0.2 ],\n",
        "                   [ 0.1 , 0.5 , 0.4 ],\n",
        "                   [ 0.02 , 0.9 , 0.08 ]])\n",
        "class_targets = [ 0 , 1 , 1 ]\n",
        "neg_log = -1 * np.log( softmax_outputs[range(len(softmax_outputs)), class_targets])\n",
        "average_loss = np.mean(neg_log)\n",
        "print (average_loss)"
      ],
      "execution_count": 54,
      "outputs": [
        {
          "output_type": "stream",
          "text": [
            "0.38506088005216804\n"
          ],
          "name": "stdout"
        }
      ]
    },
    {
      "cell_type": "code",
      "metadata": {
        "id": "BX_uK5nEyyln"
      },
      "source": [
        "import numpy as np\n",
        "softmax_outputs = np.array([[ 0.7 , 0.1 , 0.2 ],\n",
        "                            [ 0.1 , 0.5 , 0.4 ],\n",
        "                            [ 0.02 , 0.9 , 0.08 ]])\n",
        "class_targets = np.array([[ 1 , 0 , 0 ],\n",
        "                          [ 0 , 1 , 0 ],\n",
        "                          [ 0 , 1 , 0 ]])\n"
      ],
      "execution_count": 56,
      "outputs": []
    },
    {
      "cell_type": "code",
      "metadata": {
        "colab": {
          "base_uri": "https://localhost:8080/"
        },
        "id": "H1Giv2w0zDZV",
        "outputId": "30b5364e-7c54-4c6a-9f71-28c82787f432"
      },
      "source": [
        "# Probabilities for target values -\n",
        "# only if categorical labels\n",
        "if len(class_targets.shape) == 1 :\n",
        "  correct_confidences = softmax_outputs[range(len(softmax_outputs)),class_targets]\n",
        "elif len(class_targets.shape) == 2 :\n",
        "  correct_confidences = np.sum(softmax_outputs * class_targets,axis = 1)\n",
        "\n",
        "print(correct_confidences)\n",
        "# Losses\n",
        "neg_log = - np.log(correct_confidences)\n",
        "\n",
        "average_loss = np.mean(neg_log)\n",
        "\n",
        "print (average_loss)"
      ],
      "execution_count": 57,
      "outputs": [
        {
          "output_type": "stream",
          "text": [
            "[0.7 0.5 0.9]\n",
            "0.38506088005216804\n"
          ],
          "name": "stdout"
        }
      ]
    },
    {
      "cell_type": "markdown",
      "metadata": {
        "id": "cBZuFZ4o3D2s"
      },
      "source": [
        "**Categorical Cross-Entropy Loss Class**"
      ]
    },
    {
      "cell_type": "code",
      "metadata": {
        "id": "NNrSFm_d0Unu"
      },
      "source": [
        "# Common loss class\n",
        "class Loss :\n",
        "  \n",
        "  # Calculates the data and regularization losses\n",
        "  # given model output and ground truth values\n",
        "  def calculate ( self , output , y ):\n",
        "    # Calculate sample losses\n",
        "    sample_losses = self.forward(output, y)\n",
        "\n",
        "    # Calculate mean loss\n",
        "    data_loss = np.mean(sample_losses)\n",
        "    \n",
        "    # Return loss\n",
        "    return data_loss"
      ],
      "execution_count": 58,
      "outputs": []
    },
    {
      "cell_type": "code",
      "metadata": {
        "id": "HNQGIKoi31tM"
      },
      "source": [
        "# Cross-entropy loss\n",
        "class Loss_CategoricalCrossentropy ( Loss ):\n",
        "  \n",
        "  # Forward pass\n",
        "  def forward( self , y_pred , y_true ):\n",
        "    # Number of samples in a batch\n",
        "    samples = len(y_pred)\n",
        "\n",
        "    # Clip data to prevent division by 0\n",
        "    # Clip both sides to not drag mean towards any value\n",
        "    y_pred_clipped = np.clip(y_pred, 1e-7 , 1 - 1e-7 )\n",
        "\n",
        "    # Probabilities for target values -\n",
        "    # only if categorical labels\n",
        "    if len(y_true.shape) == 1 :\n",
        "      correct_confidences = y_pred_clipped[range(samples),y_true]\n",
        "    elif len(y_true.shape) == 2 : # Mask values - only for one-hot encoded labels\n",
        "      correct_confidences = np.sum(y_pred_clipped * y_true, axis = 1)\n",
        "\n",
        "    # Losses\n",
        "    negative_log_likelihoods = - np.log(correct_confidences)\n",
        "\n",
        "    return negative_log_likelihoods"
      ],
      "execution_count": 60,
      "outputs": []
    },
    {
      "cell_type": "code",
      "metadata": {
        "colab": {
          "base_uri": "https://localhost:8080/"
        },
        "id": "MC8-UPsl6IoF",
        "outputId": "acf5f2d4-24db-497d-f3b1-7c60062b5dd8"
      },
      "source": [
        "softmax_outputs = np.array([[ 0.7 , 0.1 , 0.2 ],\n",
        "                            [ 0.1 , 0.5 , 0.4 ],\n",
        "                            [ 0.02 , 0.9 , 0.08 ]])\n",
        "class_targets = np.array([[ 1 , 0 , 0 ],\n",
        "                          [ 0 , 1 , 0 ],\n",
        "                          [ 0 , 1 , 0 ]])\n",
        "\n",
        "loss_function = Loss_CategoricalCrossentropy()\n",
        "\n",
        "loss = loss_function.calculate(softmax_outputs, class_targets)\n",
        "\n",
        "print (loss)"
      ],
      "execution_count": 61,
      "outputs": [
        {
          "output_type": "stream",
          "text": [
            "0.38506088005216804\n"
          ],
          "name": "stdout"
        }
      ]
    },
    {
      "cell_type": "markdown",
      "metadata": {
        "id": "NA1n7IeN8C2R"
      },
      "source": [
        "Summarize:"
      ]
    },
    {
      "cell_type": "code",
      "metadata": {
        "id": "Q-sPgvn171F-"
      },
      "source": [
        "import numpy as np\n",
        "import nnfs \n",
        "\n",
        "from nnfs.datasets import spiral_data\n",
        "nnfs.init()\n",
        "\n",
        "# Dense layer\n",
        "class Layer_Dense :\n",
        "  # Layer initialization\n",
        "  def __init__ ( self , n_inputs , n_neurons ):\n",
        "    # Initialize weights and biases\n",
        "    self.weights = 0.01 * np.random.randn(n_inputs, n_neurons)\n",
        "    self.biases = np.zeros(( 1 , n_neurons))\n",
        "    # Forward pass\n",
        "\n",
        "  def forward ( self , inputs ):\n",
        "    # Calculate output values from inputs, weights and biases\n",
        "    self.output = np.dot(inputs, self.weights) + self.biases\n",
        "\n",
        "# ReLU activation\n",
        "class Activation_ReLU :\n",
        "  # Forward pass\n",
        "  def forward ( self , inputs ):\n",
        "    # Calculate output values from inputs\n",
        "    self.output = np.maximum( 0 , inputs)\n",
        "\n",
        "# Softmax activation\n",
        "class Activation_Softmax :\n",
        "  # Forward pass\n",
        "  def forward ( self , inputs ):\n",
        "    # Get unnormalized probabilities\n",
        "    exp_values = np.exp(inputs - np.max(inputs, axis = 1 , keepdims = True ))\n",
        "\n",
        "    # Normalize them for each sample\n",
        "    probabilities = exp_values / np.sum(exp_values, axis = 1, keepdims = True )\n",
        "    \n",
        "    self.output = probabilities\n",
        "\n",
        "# Common loss class\n",
        "class Loss :  \n",
        "  # Calculates the data and regularization losses\n",
        "  # given model output and ground truth values\n",
        "  def calculate ( self , output , y ):\n",
        "    # Calculate sample losses\n",
        "    sample_losses = self.forward(output, y)\n",
        "\n",
        "    # Calculate mean loss\n",
        "    data_loss = np.mean(sample_losses)\n",
        "    \n",
        "    # Return loss\n",
        "    return data_loss\n",
        "\n",
        "# Cross-entropy loss\n",
        "class Loss_CategoricalCrossentropy ( Loss ):\n",
        "  # Forward pass\n",
        "  def forward( self , y_pred , y_true ):\n",
        "    # Number of samples in a batch\n",
        "    samples = len(y_pred)\n",
        "\n",
        "    # Clip data to prevent division by 0\n",
        "    # Clip both sides to not drag mean towards any value\n",
        "    y_pred_clipped = np.clip(y_pred, 1e-7 , 1 - 1e-7 )\n",
        "\n",
        "    # Probabilities for target values -\n",
        "    # only if categorical labels\n",
        "    if len(y_true.shape) == 1 :\n",
        "      correct_confidences = y_pred_clipped[range(samples),y_true]\n",
        "    elif len(y_true.shape) == 2 : # Mask values - only for one-hot encoded labels\n",
        "      correct_confidences = np.sum(y_pred_clipped * y_true, axis = 1)\n",
        "\n",
        "    # Losses\n",
        "    negative_log_likelihoods = - np.log(correct_confidences)\n",
        "\n",
        "    return negative_log_likelihoods"
      ],
      "execution_count": 63,
      "outputs": []
    },
    {
      "cell_type": "code",
      "metadata": {
        "colab": {
          "base_uri": "https://localhost:8080/"
        },
        "id": "SZ4TiHGQ8SBA",
        "outputId": "ec7ef307-0236-4c10-8ed9-1cd669d0d9e0"
      },
      "source": [
        "# Create dataset\n",
        "X, y = spiral_data( samples = 100 , classes = 3 )\n",
        "\n",
        "# Create Dense layer with 2 input features and 3 output values\n",
        "dense1 = Layer_Dense( 2 , 3 )\n",
        "\n",
        "# Create ReLU activation (to be used with Dense layer):\n",
        "activation1 = Activation_ReLU()\n",
        "\n",
        "# Create second Dense layer with 3 input features (as we take output\n",
        "# of previous layer here) and 3 output values\n",
        "dense2 = Layer_Dense( 3 , 3 )\n",
        "\n",
        "# Create Softmax activation (to be used with Dense layer):\n",
        "activation2 = Activation_Softmax()\n",
        "\n",
        "# Create loss function\n",
        "loss_function = Loss_CategoricalCrossentropy()\n",
        "\n",
        "# Perform a forward pass of our training data through this layer\n",
        "dense1.forward(X)\n",
        "\n",
        "# Perform a forward pass through activation function\n",
        "# it takes the output of first dense layer here\n",
        "activation1.forward(dense1.output)\n",
        "\n",
        "# Perform a forward pass through second Dense layer\n",
        "# it takes outputs of activation function of first layer as inputs\n",
        "dense2.forward(activation1.output)\n",
        "\n",
        "# Perform a forward pass through activation function\n",
        "# it takes the output of second dense layer here\n",
        "activation2.forward(dense2.output)\n",
        "\n",
        "# Let's see output of the first few samples:\n",
        "print (activation2.output[: 5 ])\n",
        "\n",
        "# Perform a forward pass through loss function\n",
        "# it takes the output of second dense layer here and returns loss\n",
        "loss = loss_function.calculate(activation2.output, y)\n",
        "\n",
        "# Print loss value\n",
        "print ( 'loss:' , loss)"
      ],
      "execution_count": 64,
      "outputs": [
        {
          "output_type": "stream",
          "text": [
            "[[0.33333334 0.33333334 0.33333334]\n",
            " [0.3333332  0.3333332  0.33333364]\n",
            " [0.3333329  0.33333293 0.3333342 ]\n",
            " [0.3333326  0.33333263 0.33333477]\n",
            " [0.33333233 0.3333324  0.33333528]]\n",
            "loss: 1.0986104\n"
          ],
          "name": "stdout"
        }
      ]
    },
    {
      "cell_type": "markdown",
      "metadata": {
        "id": "plON56MuBHX6"
      },
      "source": [
        "---"
      ]
    },
    {
      "cell_type": "markdown",
      "metadata": {
        "id": "ZxxNQSCEBJUL"
      },
      "source": [
        "**Accuracy Calculation**"
      ]
    },
    {
      "cell_type": "code",
      "metadata": {
        "colab": {
          "base_uri": "https://localhost:8080/"
        },
        "id": "t01WPKE5822X",
        "outputId": "215f3d35-bba3-491c-f845-e21d6db0c2f4"
      },
      "source": [
        "import numpy as np\n",
        "\n",
        "# Probabilities of 3 samples\n",
        "softmax_outputs = np.array([[ 0.7 , 0.2 , 0.1 ], \n",
        "                            [ 0.5 , 0.1 , 0.4 ], \n",
        "                            [ 0.02 , 0.9 , 0.08 ]])\n",
        "\n",
        "# Target (ground-truth) labels for 3 samples\n",
        "class_targets = np.array([ 0 , 1 , 1 ])\n",
        "\n",
        "# Calculate values along second axis (axis of index 1)\n",
        "predictions = np.argmax(softmax_outputs, axis = 1)\n",
        "\n",
        "# If targets are one-hot encoded - convert them\n",
        "if len (class_targets.shape) == 2 :\n",
        "  class_targets = np.argmax(class_targets, axis = 1 )\n",
        "\n",
        "# True evaluates to 1; False to 0\n",
        "accuracy = np.mean(predictions == class_targets)\n",
        "\n",
        "print ( 'acc:' , accuracy)"
      ],
      "execution_count": 65,
      "outputs": [
        {
          "output_type": "stream",
          "text": [
            "acc: 0.6666666666666666\n"
          ],
          "name": "stdout"
        }
      ]
    },
    {
      "cell_type": "code",
      "metadata": {
        "id": "kT3d2HDxBXOF"
      },
      "source": [
        ""
      ],
      "execution_count": null,
      "outputs": []
    }
  ]
}