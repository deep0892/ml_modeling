{
  "nbformat": 4,
  "nbformat_minor": 0,
  "metadata": {
    "colab": {
      "name": "Naive_Bayes_Algorithm_from_Scratch.ipynb",
      "provenance": []
    },
    "kernelspec": {
      "name": "python3",
      "display_name": "Python 3"
    },
    "language_info": {
      "name": "python"
    }
  },
  "cells": [
    {
      "cell_type": "markdown",
      "metadata": {
        "id": "Y31SkKY-hYOO"
      },
      "source": [
        "First we need to calculate mean and variance for each column and convert it to numPy array for future calculations:"
      ]
    },
    {
      "cell_type": "code",
      "metadata": {
        "id": "O0db7-WTUAqy"
      },
      "source": [
        "class GaussianNB_Scratch:\n",
        "  def calc_statistics(self, features, target):\n",
        "    '''\n",
        "    calculate mean, variance for each column and convert to numpy array\n",
        "    ''' \n",
        "    self.mean = features.groupby(target).apply(np.mean).to_numpy()\n",
        "    self.var = features.groupby(target).apply(np.var).to_numpy()\n",
        "          \n",
        "    return self.mean, self.var\n",
        "\n",
        "  def gaussian_density(self, class_idx, x):     \n",
        "    '''\n",
        "    calculate probability from gaussian density function (normally distributed)\n",
        "\n",
        "    '''\n",
        "    mean = self.mean[class_idx]\n",
        "    var = self.var[class_idx]\n",
        "    numerator = np.exp((-1/2)*((x-mean)**2) / (2 * var))\n",
        "    denominator = np.sqrt(2 * np.pi * var)\n",
        "    prob = numerator / denominator\n",
        "    return prob\n",
        "\n",
        "  # prior probabilities\n",
        "  def calc_prior(self, features, target):\n",
        "    self.prior = (features.groupby(target).apply(lambda x: len(x))/self.rows).to_numpy()\n",
        "    return self.prior\n",
        "      \n",
        "  # posterior probabilities\n",
        "  def calc_posterior(self, x):\n",
        "    posteriors = []\n",
        "    for i in range(self.count):\n",
        "        prior = np.log(self.prior[i]) \n",
        "        conditional = np.sum(np.log(self.gaussian_density(i, x)))\n",
        "        posterior = prior + conditional\n",
        "        posteriors.append(posterior)\n",
        "    return self.classes[np.argmax(posteriors)]\n",
        "\n",
        "  def fit(self, features, target):\n",
        "    # define class variables \n",
        "    self.classes = np.unique(target)\n",
        "    self.count = len(self.classes)\n",
        "    self.feature_nums = features.shape[1]\n",
        "    self.rows = features.shape[0]\n",
        "    \n",
        "    # calculate statistics    \n",
        "    self.calc_statistics(features, target)\n",
        "    self.calc_prior(features, target)\n",
        "        \n",
        "  def predict(self, features):\n",
        "    preds = [self.calc_posterior(f) for f in features.to_numpy()]\n",
        "    return preds\n"
      ],
      "execution_count": 36,
      "outputs": []
    },
    {
      "cell_type": "markdown",
      "metadata": {
        "id": "-1nKDKbOjwuM"
      },
      "source": [
        "Import Dataset"
      ]
    },
    {
      "cell_type": "code",
      "metadata": {
        "id": "QU2nVD4chjSB"
      },
      "source": [
        "import numpy as np\n",
        "import pandas as pd\n",
        "from sklearn import datasets\n",
        "from sklearn.model_selection import train_test_split\n",
        "from sklearn.metrics import confusion_matrix\n",
        "from sklearn.metrics import accuracy_score"
      ],
      "execution_count": 49,
      "outputs": []
    },
    {
      "cell_type": "code",
      "metadata": {
        "id": "trPgzfsfjz8v"
      },
      "source": [
        "# import some data to play with\n",
        "iris = datasets.load_iris()\n",
        "X = iris.data[:, :2]  # we only take the first two features.\n",
        "y = iris.target"
      ],
      "execution_count": 38,
      "outputs": []
    },
    {
      "cell_type": "code",
      "metadata": {
        "colab": {
          "base_uri": "https://localhost:8080/"
        },
        "id": "VRo_8Y4ijz51",
        "outputId": "db7cd47b-76b0-4ba9-c8ac-f041420a3ee1"
      },
      "source": [
        "X.shape, y.shape"
      ],
      "execution_count": 39,
      "outputs": [
        {
          "output_type": "execute_result",
          "data": {
            "text/plain": [
              "((150, 2), (150,))"
            ]
          },
          "metadata": {
            "tags": []
          },
          "execution_count": 39
        }
      ]
    },
    {
      "cell_type": "code",
      "metadata": {
        "id": "S0tf4Eidjz3n"
      },
      "source": [
        "X_train, X_test, y_train, y_test = train_test_split(X, y, test_size=0.20, random_state=42)"
      ],
      "execution_count": 40,
      "outputs": []
    },
    {
      "cell_type": "code",
      "metadata": {
        "id": "jW6G9O0ckJMw"
      },
      "source": [
        "nb_classifier = GaussianNB()"
      ],
      "execution_count": 41,
      "outputs": []
    },
    {
      "cell_type": "code",
      "metadata": {
        "id": "GVhRvEGjkeJX"
      },
      "source": [
        "nb_classifier.fit(pd.DataFrame(X_train), y_train)"
      ],
      "execution_count": 42,
      "outputs": []
    },
    {
      "cell_type": "code",
      "metadata": {
        "id": "bgZGpPImkrwp"
      },
      "source": [
        "pred = nb_classifier.predict(pd.DataFrame(X_test))"
      ],
      "execution_count": 50,
      "outputs": []
    },
    {
      "cell_type": "code",
      "metadata": {
        "colab": {
          "base_uri": "https://localhost:8080/"
        },
        "id": "VE40nQ0BlRZf",
        "outputId": "993d3749-d367-4c5e-87c8-7c1d1a55949f"
      },
      "source": [
        "confusion_matrix(y_test, pred)"
      ],
      "execution_count": 51,
      "outputs": [
        {
          "output_type": "execute_result",
          "data": {
            "text/plain": [
              "array([[10,  0,  0],\n",
              "       [ 0,  7,  2],\n",
              "       [ 0,  4,  7]])"
            ]
          },
          "metadata": {
            "tags": []
          },
          "execution_count": 51
        }
      ]
    },
    {
      "cell_type": "code",
      "metadata": {
        "colab": {
          "base_uri": "https://localhost:8080/"
        },
        "id": "fdDViM3Ltxme",
        "outputId": "67700e12-5f07-4238-de9e-266fd27e5c92"
      },
      "source": [
        "accuracy_score(y_test, pred)"
      ],
      "execution_count": 52,
      "outputs": [
        {
          "output_type": "execute_result",
          "data": {
            "text/plain": [
              "0.8"
            ]
          },
          "metadata": {
            "tags": []
          },
          "execution_count": 52
        }
      ]
    },
    {
      "cell_type": "code",
      "metadata": {
        "id": "HMqvdEJhntGu"
      },
      "source": [
        "from sklearn.naive_bayes import GaussianNB"
      ],
      "execution_count": 45,
      "outputs": []
    },
    {
      "cell_type": "code",
      "metadata": {
        "colab": {
          "base_uri": "https://localhost:8080/"
        },
        "id": "7-bRsJCcp0VZ",
        "outputId": "7b2ae6f0-b357-4afe-81aa-01f59877e285"
      },
      "source": [
        "clf = GaussianNB()\n",
        "clf.fit(pd.DataFrame(X_train), y_train)"
      ],
      "execution_count": 53,
      "outputs": [
        {
          "output_type": "execute_result",
          "data": {
            "text/plain": [
              "GaussianNB(priors=None, var_smoothing=1e-09)"
            ]
          },
          "metadata": {
            "tags": []
          },
          "execution_count": 53
        }
      ]
    },
    {
      "cell_type": "code",
      "metadata": {
        "id": "taPsTbM9p30_"
      },
      "source": [
        "pred_nb = clf.predict(X_test)"
      ],
      "execution_count": 54,
      "outputs": []
    },
    {
      "cell_type": "code",
      "metadata": {
        "colab": {
          "base_uri": "https://localhost:8080/"
        },
        "id": "Sya9zEX1p_8S",
        "outputId": "eac0543a-be8f-47ed-a503-cecf00f83fc7"
      },
      "source": [
        "confusion_matrix(y_test, pred_nb)"
      ],
      "execution_count": 55,
      "outputs": [
        {
          "output_type": "execute_result",
          "data": {
            "text/plain": [
              "array([[10,  0,  0],\n",
              "       [ 0,  7,  2],\n",
              "       [ 0,  1, 10]])"
            ]
          },
          "metadata": {
            "tags": []
          },
          "execution_count": 55
        }
      ]
    },
    {
      "cell_type": "code",
      "metadata": {
        "colab": {
          "base_uri": "https://localhost:8080/"
        },
        "id": "pY5ZnCOeqBOs",
        "outputId": "4bf4905f-31fc-427f-c7eb-9f8f51f8e165"
      },
      "source": [
        "accuracy_score(y_test, pred_nb)"
      ],
      "execution_count": 57,
      "outputs": [
        {
          "output_type": "execute_result",
          "data": {
            "text/plain": [
              "0.9"
            ]
          },
          "metadata": {
            "tags": []
          },
          "execution_count": 57
        }
      ]
    },
    {
      "cell_type": "code",
      "metadata": {
        "id": "lVfQM7Rot7rm"
      },
      "source": [
        ""
      ],
      "execution_count": null,
      "outputs": []
    }
  ]
}