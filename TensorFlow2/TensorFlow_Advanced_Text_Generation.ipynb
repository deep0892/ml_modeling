{
  "nbformat": 4,
  "nbformat_minor": 0,
  "metadata": {
    "colab": {
      "name": "TensorFlow_Advanced_Text_Generation.ipynb",
      "provenance": [],
      "toc_visible": true
    },
    "kernelspec": {
      "name": "python3",
      "display_name": "Python 3"
    },
    "language_info": {
      "name": "python"
    },
    "accelerator": "GPU"
  },
  "cells": [
    {
      "cell_type": "code",
      "metadata": {
        "id": "32c8WPWRxjGc"
      },
      "source": [
        "import sys\n",
        "import requests\n",
        "import numpy as np\n",
        "\n",
        "import tensorflow as tf\n",
        "from tensorflow.keras import Sequential\n",
        "from tensorflow.keras.callbacks import ModelCheckpoint\n",
        "from tensorflow.keras.layers import Dense, Activation, Dropout, LSTM"
      ],
      "execution_count": 1,
      "outputs": []
    },
    {
      "cell_type": "code",
      "metadata": {
        "id": "iEIb8b123FEo"
      },
      "source": [
        "r = requests.get(\"https://cs.stanford.edu/people/karpathy/char-rnn/warpeace_input.txt\")\n",
        "raw_txt = r.text"
      ],
      "execution_count": 2,
      "outputs": []
    },
    {
      "cell_type": "code",
      "metadata": {
        "colab": {
          "base_uri": "https://localhost:8080/"
        },
        "id": "1BezaqHk3X2K",
        "outputId": "c1ffc49b-b3c6-4e6a-ac90-6ba0bf00f91b"
      },
      "source": [
        "len(raw_txt)"
      ],
      "execution_count": 3,
      "outputs": [
        {
          "output_type": "execute_result",
          "data": {
            "text/plain": [
              "3258246"
            ]
          },
          "metadata": {
            "tags": []
          },
          "execution_count": 3
        }
      ]
    },
    {
      "cell_type": "code",
      "metadata": {
        "colab": {
          "base_uri": "https://localhost:8080/"
        },
        "id": "G7o7NqdA3ZsG",
        "outputId": "e67c2b40-34cf-4903-cfc3-cf8bc96bce61"
      },
      "source": [
        "chars = sorted(list(set(raw_txt)))\n",
        "print(\"Corpus: {}\".format(len(raw_txt)))\n",
        "print(\"Categories: {}\".format(len(chars)))"
      ],
      "execution_count": 4,
      "outputs": [
        {
          "output_type": "stream",
          "text": [
            "Corpus: 3258246\n",
            "Categories: 87\n"
          ],
          "name": "stdout"
        }
      ]
    },
    {
      "cell_type": "code",
      "metadata": {
        "id": "rg3CQmfs3fyg"
      },
      "source": [
        "ix_to_char = {ix:char for ix, char in enumerate(chars)}\n",
        "char_to_ix = {char:ix for ix, char in enumerate(chars)}"
      ],
      "execution_count": 5,
      "outputs": []
    },
    {
      "cell_type": "code",
      "metadata": {
        "colab": {
          "base_uri": "https://localhost:8080/"
        },
        "id": "qorTma0A3pq7",
        "outputId": "9df32eb5-3209-4667-d85c-0ebdbcb077c9"
      },
      "source": [
        "maxlen = 10\n",
        "x_data = []\n",
        "y_data = []\n",
        "for i in range(0, len(raw_txt) - maxlen, 1):\n",
        "  in_seq = raw_txt[i: i + maxlen]\n",
        "  out_seq = raw_txt[i + maxlen]\n",
        "\n",
        "  x_data.append([char_to_ix[char] for char in in_seq])\n",
        "  y_data.append([char_to_ix[out_seq]])\n",
        "\n",
        "nb_chars = len(x_data)\n",
        "print('Number of sequences:', int(len(x_data)/maxlen))"
      ],
      "execution_count": 6,
      "outputs": [
        {
          "output_type": "stream",
          "text": [
            "Number of sequences: 325823\n"
          ],
          "name": "stdout"
        }
      ]
    },
    {
      "cell_type": "code",
      "metadata": {
        "colab": {
          "base_uri": "https://localhost:8080/"
        },
        "id": "h_9tOcPE3z6o",
        "outputId": "40482f40-9ac6-4672-c87f-0aed381e694a"
      },
      "source": [
        "# scale and transform data\n",
        "x = np.reshape(x_data , (nb_chars , maxlen , 1))\n",
        "n_vocab = len(chars)\n",
        "x = x/float(n_vocab)\n",
        "x.shape"
      ],
      "execution_count": 7,
      "outputs": [
        {
          "output_type": "execute_result",
          "data": {
            "text/plain": [
              "(3258236, 10, 1)"
            ]
          },
          "metadata": {
            "tags": []
          },
          "execution_count": 7
        }
      ]
    },
    {
      "cell_type": "code",
      "metadata": {
        "colab": {
          "base_uri": "https://localhost:8080/"
        },
        "id": "FSa8FGOz35df",
        "outputId": "a13edd39-edd6-43fa-dc82-10d320204bca"
      },
      "source": [
        "y = tf.keras.utils.to_categorical(y_data)\n",
        "y.shape"
      ],
      "execution_count": 8,
      "outputs": [
        {
          "output_type": "execute_result",
          "data": {
            "text/plain": [
              "(3258236, 86)"
            ]
          },
          "metadata": {
            "tags": []
          },
          "execution_count": 8
        }
      ]
    },
    {
      "cell_type": "markdown",
      "metadata": {
        "id": "eOPWo-SY5yYc"
      },
      "source": [
        "**Defining Model**"
      ]
    },
    {
      "cell_type": "code",
      "metadata": {
        "id": "ZOU9Nwi85cBZ"
      },
      "source": [
        "Model = tf.keras.Sequential(\n",
        "    [\n",
        "     tf.keras.layers.LSTM(800 ,input_shape = (len(x[1]) , 1) ,return_sequences = True),\n",
        "     tf.keras.layers.Dropout(0.2),\n",
        "     tf.keras.layers.LSTM(800,return_sequences = True),\n",
        "     tf.keras.layers.Dropout(0.2),\n",
        "     tf.keras.layers.LSTM(800),\n",
        "     tf.keras.layers.Dropout(0.2),\n",
        "     tf.keras.layers.Dense(len(y[1]),activation = 'softmax')\n",
        "     ]\n",
        ")"
      ],
      "execution_count": 9,
      "outputs": []
    },
    {
      "cell_type": "code",
      "metadata": {
        "id": "LGIuDmIO5fzq"
      },
      "source": [
        "Model.compile(loss = 'categorical_crossentropy', optimizer = 'adam')"
      ],
      "execution_count": 10,
      "outputs": []
    },
    {
      "cell_type": "code",
      "metadata": {
        "colab": {
          "base_uri": "https://localhost:8080/"
        },
        "id": "KXtFmPpm6M76",
        "outputId": "a94875e2-c380-418c-bb85-2dced262b31a"
      },
      "source": [
        "Model.summary()"
      ],
      "execution_count": 11,
      "outputs": [
        {
          "output_type": "stream",
          "text": [
            "Model: \"sequential\"\n",
            "_________________________________________________________________\n",
            "Layer (type)                 Output Shape              Param #   \n",
            "=================================================================\n",
            "lstm (LSTM)                  (None, 10, 800)           2566400   \n",
            "_________________________________________________________________\n",
            "dropout (Dropout)            (None, 10, 800)           0         \n",
            "_________________________________________________________________\n",
            "lstm_1 (LSTM)                (None, 10, 800)           5123200   \n",
            "_________________________________________________________________\n",
            "dropout_1 (Dropout)          (None, 10, 800)           0         \n",
            "_________________________________________________________________\n",
            "lstm_2 (LSTM)                (None, 800)               5123200   \n",
            "_________________________________________________________________\n",
            "dropout_2 (Dropout)          (None, 800)               0         \n",
            "_________________________________________________________________\n",
            "dense (Dense)                (None, 86)                68886     \n",
            "=================================================================\n",
            "Total params: 12,881,686\n",
            "Trainable params: 12,881,686\n",
            "Non-trainable params: 0\n",
            "_________________________________________________________________\n"
          ],
          "name": "stdout"
        }
      ]
    },
    {
      "cell_type": "code",
      "metadata": {
        "colab": {
          "base_uri": "https://localhost:8080/",
          "height": 865
        },
        "id": "fm6Nu2e56OWt",
        "outputId": "e8b0ae8c-45b6-4dcb-cea1-d728d3cf984f"
      },
      "source": [
        "tf.keras.utils.plot_model(Model, 'multilayer_model.png', show_shapes=True, show_dtype=True, show_layer_names=True)"
      ],
      "execution_count": 12,
      "outputs": [
        {
          "output_type": "execute_result",
          "data": {
            "image/png": "[encoded data removed]",
            "text/plain": [
              "<IPython.core.display.Image object>"
            ]
          },
          "metadata": {
            "tags": []
          },
          "execution_count": 12
        }
      ]
    },
    {
      "cell_type": "markdown",
      "metadata": {
        "id": "fZRGK4jl6hQi"
      },
      "source": [
        "**Creating Checkpoints**"
      ]
    },
    {
      "cell_type": "code",
      "metadata": {
        "id": "vYH2DRZ16UQX"
      },
      "source": [
        "filepath = \"/content/drive/MyDrive/Dataset/TensorFlow_Advanced_Text_Generation/model_weights_saved.hdf5\""
      ],
      "execution_count": 13,
      "outputs": []
    },
    {
      "cell_type": "code",
      "metadata": {
        "id": "znCE8gsa6l8Z"
      },
      "source": [
        "checkpoint = ModelCheckpoint(filepath, monitor = 'loss', verbose = 1, save_best_only = True, mode = 'min')"
      ],
      "execution_count": 14,
      "outputs": []
    },
    {
      "cell_type": "code",
      "metadata": {
        "id": "eL3PA35H6rkq"
      },
      "source": [
        "model_callbacks = [checkpoint]"
      ],
      "execution_count": 15,
      "outputs": []
    },
    {
      "cell_type": "markdown",
      "metadata": {
        "id": "49cs6vGd6xk-"
      },
      "source": [
        "**CustomCallback Class**"
      ]
    },
    {
      "cell_type": "code",
      "metadata": {
        "id": "eYtM67h46u9s"
      },
      "source": [
        "epoch_number = 0\n",
        "filename = '/content/drive/MyDrive/Dataset/TensorFlow_Advanced_Text_Generation/predictions.txt'\n",
        "file = open(filename , 'w')\n",
        "file.truncate()\n",
        "file.close()"
      ],
      "execution_count": 16,
      "outputs": []
    },
    {
      "cell_type": "code",
      "metadata": {
        "id": "G_c_BmhF7DZw"
      },
      "source": [
        "class CustomCallback(tf.keras.callbacks.Callback):\n",
        "  def on_epoch_end(self , epoch , logs = None):\n",
        "    global epoch_number\n",
        "    epoch_number = epoch_number + 1\n",
        "    filename = '/content/drive/MyDrive/Dataset/TensorFlow_Advanced_Text_Generation/predictions.txt'\n",
        "    file = open(filename , 'a')\n",
        "    seed = \"looking fo\"\n",
        "    pattern = []\n",
        "    for i in seed:\n",
        "      value = char_to_ix[i]\n",
        "      pattern.append(value)\n",
        "    file.seek(0)\n",
        "    file.write(\"\\n\\n Epoch number :{}\\n\\n\".format(epoch_number))\n",
        "    for i in range(100):\n",
        "      X = np.reshape(pattern ,(1, len(pattern) , 1))\n",
        "      X = X/float(n_vocab)\n",
        "      int_prediction = Model.predict(X, verbose = 0)\n",
        "      index = np.argmax(int_prediction)\n",
        "      prediction = ix_to_char[index]\n",
        "      file.write(prediction)\n",
        "      pattern.append(index)\n",
        "      pattern = pattern[1:len(pattern)]\n",
        "      file.close()"
      ],
      "execution_count": 17,
      "outputs": []
    },
    {
      "cell_type": "code",
      "metadata": {
        "colab": {
          "base_uri": "https://localhost:8080/"
        },
        "id": "RiRRtClW8HA5",
        "outputId": "798a2915-237d-43ec-c059-6489d16a875f"
      },
      "source": [
        "Model.fit(x, y , batch_size = 200, epochs = 20, callbacks = [CustomCallback(), model_callbacks])"
      ],
      "execution_count": null,
      "outputs": [
        {
          "output_type": "stream",
          "text": [
            "Epoch 1/20\n",
            "  537/16292 [..............................] - ETA: 9:25 - loss: 3.0535"
          ],
          "name": "stdout"
        }
      ]
    },
    {
      "cell_type": "markdown",
      "metadata": {
        "id": "WvRtClEW8j2b"
      },
      "source": [
        "**Training Continuation**"
      ]
    },
    {
      "cell_type": "code",
      "metadata": {
        "id": "wBRp1_Mz8N4i"
      },
      "source": [
        "try:\n",
        "  Model.load_weights(filepath)\n",
        "except Exception as error:\n",
        "  print(\"Error loading in model : {}\".format(error))"
      ],
      "execution_count": null,
      "outputs": []
    },
    {
      "cell_type": "code",
      "metadata": {
        "id": "HfGARsTi8pEF"
      },
      "source": [
        "Model.fit(x, y, batch_size = 200, epochs = 10, callbacks = [CustomCallback(), model_callbacks])"
      ],
      "execution_count": null,
      "outputs": []
    },
    {
      "cell_type": "code",
      "metadata": {
        "id": "zqqh1etdAk5S"
      },
      "source": [
        ""
      ],
      "execution_count": null,
      "outputs": []
    },
    {
      "cell_type": "code",
      "metadata": {
        "id": "M-TdyzdWAk2w"
      },
      "source": [
        ""
      ],
      "execution_count": null,
      "outputs": []
    },
    {
      "cell_type": "code",
      "metadata": {
        "id": "-xCXkgy4Ak0X"
      },
      "source": [
        ""
      ],
      "execution_count": null,
      "outputs": []
    },
    {
      "cell_type": "code",
      "metadata": {
        "id": "spG7Xi47Akx0"
      },
      "source": [
        ""
      ],
      "execution_count": null,
      "outputs": []
    },
    {
      "cell_type": "code",
      "metadata": {
        "id": "XfYCVCzzAkvT"
      },
      "source": [
        ""
      ],
      "execution_count": null,
      "outputs": []
    },
    {
      "cell_type": "code",
      "metadata": {
        "id": "WI5yPPKwAks-"
      },
      "source": [
        ""
      ],
      "execution_count": null,
      "outputs": []
    },
    {
      "cell_type": "code",
      "metadata": {
        "id": "VDo0VRQqAkqj"
      },
      "source": [
        ""
      ],
      "execution_count": null,
      "outputs": []
    },
    {
      "cell_type": "code",
      "metadata": {
        "id": "0YmicUcDAke9"
      },
      "source": [
        ""
      ],
      "execution_count": null,
      "outputs": []
    }
  ]
}