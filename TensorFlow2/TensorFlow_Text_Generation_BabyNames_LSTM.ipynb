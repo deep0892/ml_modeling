{
  "nbformat": 4,
  "nbformat_minor": 0,
  "metadata": {
    "colab": {
      "name": "TensorFlow_Text_Generation_BabyNames_LSTM.ipynb",
      "provenance": []
    },
    "kernelspec": {
      "name": "python3",
      "display_name": "Python 3"
    },
    "language_info": {
      "name": "python"
    }
  },
  "cells": [
    {
      "cell_type": "markdown",
      "metadata": {
        "id": "sXZlruIIcvwz"
      },
      "source": [
        "**Generating Baby Names**"
      ]
    },
    {
      "cell_type": "code",
      "metadata": {
        "id": "1qUQ5UCv-a0i"
      },
      "source": [
        "import sys\n",
        "import re\n",
        "import requests\n",
        "import numpy as np\n",
        "\n",
        "import tensorflow as tf\n",
        "from tensorflow.keras import Sequential\n",
        "from tensorflow.keras.callbacks import ModelCheckpoint\n",
        "from tensorflow.keras.layers import Dense, Activation, Dropout, LSTM\n",
        "from tensorflow.keras.models import load_model"
      ],
      "execution_count": 21,
      "outputs": []
    },
    {
      "cell_type": "code",
      "metadata": {
        "colab": {
          "base_uri": "https://localhost:8080/"
        },
        "id": "YoTAF46vdRdv",
        "outputId": "b5bf4815-f3db-4618-ae41-ba26a7be4931"
      },
      "source": [
        "r = requests.get('https://cs.stanford.edu/people/karpathy/namesGenUnique.txt')\n",
        "raw_txt = r.text\n",
        "print(raw_txt[:100])"
      ],
      "execution_count": 22,
      "outputs": [
        {
          "output_type": "stream",
          "text": [
            "jka\n",
            "Dillie\n",
            "Ryine\n",
            "Cherita\n",
            "Dasher\n",
            "Chailine\n",
            "Frennide\n",
            "Gremaley\n",
            "Patj\n",
            "Handi\n",
            "Gully\n",
            "Wennie\n",
            "Ferentra\n",
            "Jixandli\n"
          ],
          "name": "stdout"
        }
      ]
    },
    {
      "cell_type": "code",
      "metadata": {
        "colab": {
          "base_uri": "https://localhost:8080/"
        },
        "id": "1jmkftiFdXl4",
        "outputId": "e57feaea-3938-40ba-eefd-454aa557088c"
      },
      "source": [
        "len(raw_txt)"
      ],
      "execution_count": 23,
      "outputs": [
        {
          "output_type": "execute_result",
          "data": {
            "text/plain": [
              "52127"
            ]
          },
          "metadata": {
            "tags": []
          },
          "execution_count": 23
        }
      ]
    },
    {
      "cell_type": "markdown",
      "metadata": {
        "id": "OAK634Q2dwtE"
      },
      "source": [
        "**Processing Text**"
      ]
    },
    {
      "cell_type": "code",
      "metadata": {
        "id": "gdYdD-FBdgjM"
      },
      "source": [
        "raw_txt = raw_txt.replace('\\n' , ' ')"
      ],
      "execution_count": 24,
      "outputs": []
    },
    {
      "cell_type": "code",
      "metadata": {
        "id": "GY4yKd1ad1i1"
      },
      "source": [
        "raw_txt = re.sub('[-.0-9:]' , '' , raw_txt)"
      ],
      "execution_count": 25,
      "outputs": []
    },
    {
      "cell_type": "code",
      "metadata": {
        "id": "LDiFpnXYeFsL"
      },
      "source": [
        "raw_txt1 = raw_txt.lower()"
      ],
      "execution_count": 26,
      "outputs": []
    },
    {
      "cell_type": "code",
      "metadata": {
        "colab": {
          "base_uri": "https://localhost:8080/"
        },
        "id": "A5j35_LVeImI",
        "outputId": "91071262-39ee-4ce5-d191-37eeeb18b7ef"
      },
      "source": [
        "set(raw_txt1)"
      ],
      "execution_count": 27,
      "outputs": [
        {
          "output_type": "execute_result",
          "data": {
            "text/plain": [
              "{' ',\n",
              " 'a',\n",
              " 'b',\n",
              " 'c',\n",
              " 'd',\n",
              " 'e',\n",
              " 'f',\n",
              " 'g',\n",
              " 'h',\n",
              " 'i',\n",
              " 'j',\n",
              " 'k',\n",
              " 'l',\n",
              " 'm',\n",
              " 'n',\n",
              " 'o',\n",
              " 'p',\n",
              " 'q',\n",
              " 'r',\n",
              " 's',\n",
              " 't',\n",
              " 'u',\n",
              " 'v',\n",
              " 'w',\n",
              " 'x',\n",
              " 'y',\n",
              " 'z'}"
            ]
          },
          "metadata": {
            "tags": []
          },
          "execution_count": 27
        }
      ]
    },
    {
      "cell_type": "code",
      "metadata": {
        "colab": {
          "base_uri": "https://localhost:8080/"
        },
        "id": "v4EbDwROeI9e",
        "outputId": "584b875e-701b-4184-ccb9-121e854aa8c6"
      },
      "source": [
        "len1 = len(set(raw_txt1))\n",
        "print (len1)"
      ],
      "execution_count": 28,
      "outputs": [
        {
          "output_type": "stream",
          "text": [
            "27\n"
          ],
          "name": "stdout"
        }
      ]
    },
    {
      "cell_type": "code",
      "metadata": {
        "id": "fI4a1hyVe1zS"
      },
      "source": [
        "chars = sorted(list(set(raw_txt1)))"
      ],
      "execution_count": 29,
      "outputs": []
    },
    {
      "cell_type": "code",
      "metadata": {
        "id": "6tzaoq3ifB3t"
      },
      "source": [
        "arr = np.arange(0, len1)"
      ],
      "execution_count": 30,
      "outputs": []
    },
    {
      "cell_type": "code",
      "metadata": {
        "id": "Zm4Qa1cBfDp7"
      },
      "source": [
        "char_to_ix = {}\n",
        "ix_to_char = {}\n",
        "for i in range(len1):\n",
        "  char_to_ix[chars[i]] = arr[i]\n",
        "  ix_to_char[arr[i]] = chars[i]"
      ],
      "execution_count": 31,
      "outputs": []
    },
    {
      "cell_type": "code",
      "metadata": {
        "colab": {
          "base_uri": "https://localhost:8080/"
        },
        "id": "1utjTtYXfNx9",
        "outputId": "56b53966-9aa5-4b5a-ed76-ac095faf26f5"
      },
      "source": [
        "maxlen = 5\n",
        "x_data = []\n",
        "y_data = []\n",
        "for i in range(0, len(raw_txt1) - maxlen, 1):\n",
        "  in_seq = raw_txt1[i: i + maxlen]\n",
        "  out_seq = raw_txt1[i + maxlen]\n",
        "  x_data.append([char_to_ix[char] for char in in_seq])\n",
        "  y_data.append([char_to_ix[out_seq]])\n",
        "nb_chars = len(x_data)\n",
        "print('Text corpus: {}'.format(nb_chars))\n",
        "print('Sequences # ', int(len(x_data) / maxlen))"
      ],
      "execution_count": 32,
      "outputs": [
        {
          "output_type": "stream",
          "text": [
            "Text corpus: 52038\n",
            "Sequences #  10407\n"
          ],
          "name": "stdout"
        }
      ]
    },
    {
      "cell_type": "code",
      "metadata": {
        "colab": {
          "base_uri": "https://localhost:8080/"
        },
        "id": "KTaPo_4agN1V",
        "outputId": "7aa18b1e-b72a-4bcc-a895-215aa9b35d74"
      },
      "source": [
        "x = np.reshape(x_data, (nb_chars , maxlen , 1))\n",
        "x = x/float(len(chars))\n",
        "x.shape"
      ],
      "execution_count": 33,
      "outputs": [
        {
          "output_type": "execute_result",
          "data": {
            "text/plain": [
              "(52038, 5, 1)"
            ]
          },
          "metadata": {
            "tags": []
          },
          "execution_count": 33
        }
      ]
    },
    {
      "cell_type": "markdown",
      "metadata": {
        "id": "MeDpHIs7hJIh"
      },
      "source": [
        "We convert the target sequence into categorical columns"
      ]
    },
    {
      "cell_type": "code",
      "metadata": {
        "colab": {
          "base_uri": "https://localhost:8080/"
        },
        "id": "-QSTyMyKhCWP",
        "outputId": "a8828d0b-3c37-4681-d39e-c3d5b8f200cb"
      },
      "source": [
        "y = tf.keras.utils.to_categorical(y_data)\n",
        "y.shape"
      ],
      "execution_count": 34,
      "outputs": [
        {
          "output_type": "execute_result",
          "data": {
            "text/plain": [
              "(52038, 27)"
            ]
          },
          "metadata": {
            "tags": []
          },
          "execution_count": 34
        }
      ]
    },
    {
      "cell_type": "markdown",
      "metadata": {
        "id": "JcsvSIPuhixG"
      },
      "source": [
        "**Defining Model**"
      ]
    },
    {
      "cell_type": "code",
      "metadata": {
        "id": "JKd6LDXNhC7i"
      },
      "source": [
        "model = tf.keras.Sequential(\n",
        "    [\n",
        "     tf.keras.layers.LSTM(256,input_shape = (maxlen, 1),return_sequences = True),\n",
        "     tf.keras.layers.LSTM(256,return_sequences = True),\n",
        "     tf.keras.layers.Dropout(0.2),\n",
        "     tf.keras.layers.LSTM(64),\n",
        "     tf.keras.layers.Dropout(0.2),\n",
        "     tf.keras.layers.Dense(len(y[1]),activation='softmax')\n",
        "    ]\n",
        ")"
      ],
      "execution_count": 35,
      "outputs": []
    },
    {
      "cell_type": "code",
      "metadata": {
        "colab": {
          "base_uri": "https://localhost:8080/"
        },
        "id": "euhhRh0HiGuP",
        "outputId": "f0f1c29c-6b8b-4c07-a2de-861ea46c4109"
      },
      "source": [
        "model.summary()"
      ],
      "execution_count": 36,
      "outputs": [
        {
          "output_type": "stream",
          "text": [
            "Model: \"sequential_1\"\n",
            "_________________________________________________________________\n",
            "Layer (type)                 Output Shape              Param #   \n",
            "=================================================================\n",
            "lstm_3 (LSTM)                (None, 5, 256)            264192    \n",
            "_________________________________________________________________\n",
            "lstm_4 (LSTM)                (None, 5, 256)            525312    \n",
            "_________________________________________________________________\n",
            "dropout_2 (Dropout)          (None, 5, 256)            0         \n",
            "_________________________________________________________________\n",
            "lstm_5 (LSTM)                (None, 64)                82176     \n",
            "_________________________________________________________________\n",
            "dropout_3 (Dropout)          (None, 64)                0         \n",
            "_________________________________________________________________\n",
            "dense_1 (Dense)              (None, 27)                1755      \n",
            "=================================================================\n",
            "Total params: 873,435\n",
            "Trainable params: 873,435\n",
            "Non-trainable params: 0\n",
            "_________________________________________________________________\n"
          ],
          "name": "stdout"
        }
      ]
    },
    {
      "cell_type": "code",
      "metadata": {
        "id": "dnbQEZJjjegU"
      },
      "source": [
        "model.compile(loss = 'categorical_crossentropy', optimizer = 'adam')"
      ],
      "execution_count": 37,
      "outputs": []
    },
    {
      "cell_type": "markdown",
      "metadata": {
        "id": "wuGXksSro26W"
      },
      "source": [
        "**Creating Checkpoints**"
      ]
    },
    {
      "cell_type": "code",
      "metadata": {
        "id": "yV5pa08vki6q"
      },
      "source": [
        "filepath = \"model_weights_babynames.hdf5\"\n",
        "checkpoint = ModelCheckpoint(filepath, monitor = 'loss', verbose = 1, save_best_only = True, mode = 'min')\n",
        "model_callbacks = [checkpoint]"
      ],
      "execution_count": 38,
      "outputs": []
    },
    {
      "cell_type": "markdown",
      "metadata": {
        "id": "7VDelYTFqHAZ"
      },
      "source": [
        "**Training**"
      ]
    },
    {
      "cell_type": "code",
      "metadata": {
        "colab": {
          "base_uri": "https://localhost:8080/",
          "height": 1000
        },
        "id": "cVXTF3Ccp6Tv",
        "outputId": "2955068f-821d-4658-e83b-5e00df59a5f0"
      },
      "source": [
        "model.fit(x, y, epochs = 100, batch_size = 32 , callbacks = model_callbacks)"
      ],
      "execution_count": 39,
      "outputs": [
        {
          "output_type": "stream",
          "text": [
            "Epoch 1/100\n",
            "1627/1627 [==============================] - 98s 57ms/step - loss: 2.7783\n",
            "\n",
            "Epoch 00001: loss improved from inf to 2.77826, saving model to model_weights_babynames.hdf5\n",
            "Epoch 2/100\n",
            "1627/1627 [==============================] - 95s 58ms/step - loss: 2.5695\n",
            "\n",
            "Epoch 00002: loss improved from 2.77826 to 2.56952, saving model to model_weights_babynames.hdf5\n",
            "Epoch 3/100\n",
            "1627/1627 [==============================] - 95s 58ms/step - loss: 2.5041\n",
            "\n",
            "Epoch 00003: loss improved from 2.56952 to 2.50411, saving model to model_weights_babynames.hdf5\n",
            "Epoch 4/100\n",
            "1627/1627 [==============================] - 95s 59ms/step - loss: 2.4685\n",
            "\n",
            "Epoch 00004: loss improved from 2.50411 to 2.46852, saving model to model_weights_babynames.hdf5\n",
            "Epoch 5/100\n",
            "1627/1627 [==============================] - 96s 59ms/step - loss: 2.4372\n",
            "\n",
            "Epoch 00005: loss improved from 2.46852 to 2.43723, saving model to model_weights_babynames.hdf5\n",
            "Epoch 6/100\n",
            "1627/1627 [==============================] - 96s 59ms/step - loss: 2.4177\n",
            "\n",
            "Epoch 00006: loss improved from 2.43723 to 2.41767, saving model to model_weights_babynames.hdf5\n",
            "Epoch 7/100\n",
            "1627/1627 [==============================] - 96s 59ms/step - loss: 2.4012\n",
            "\n",
            "Epoch 00007: loss improved from 2.41767 to 2.40122, saving model to model_weights_babynames.hdf5\n",
            "Epoch 8/100\n",
            "1627/1627 [==============================] - 96s 59ms/step - loss: 2.3851\n",
            "\n",
            "Epoch 00008: loss improved from 2.40122 to 2.38512, saving model to model_weights_babynames.hdf5\n",
            "Epoch 9/100\n",
            "1627/1627 [==============================] - 96s 59ms/step - loss: 2.3696\n",
            "\n",
            "Epoch 00009: loss improved from 2.38512 to 2.36958, saving model to model_weights_babynames.hdf5\n",
            "Epoch 10/100\n",
            "1627/1627 [==============================] - 94s 58ms/step - loss: 2.3505\n",
            "\n",
            "Epoch 00010: loss improved from 2.36958 to 2.35051, saving model to model_weights_babynames.hdf5\n",
            "Epoch 11/100\n",
            "1627/1627 [==============================] - 93s 57ms/step - loss: 2.3363\n",
            "\n",
            "Epoch 00011: loss improved from 2.35051 to 2.33633, saving model to model_weights_babynames.hdf5\n",
            "Epoch 12/100\n",
            "1627/1627 [==============================] - 96s 59ms/step - loss: 2.3233\n",
            "\n",
            "Epoch 00012: loss improved from 2.33633 to 2.32330, saving model to model_weights_babynames.hdf5\n",
            "Epoch 13/100\n",
            "1627/1627 [==============================] - 97s 60ms/step - loss: 2.3074\n",
            "\n",
            "Epoch 00013: loss improved from 2.32330 to 2.30738, saving model to model_weights_babynames.hdf5\n",
            "Epoch 14/100\n",
            "1627/1627 [==============================] - 97s 59ms/step - loss: 2.2976\n",
            "\n",
            "Epoch 00014: loss improved from 2.30738 to 2.29758, saving model to model_weights_babynames.hdf5\n",
            "Epoch 15/100\n",
            "1627/1627 [==============================] - 97s 59ms/step - loss: 2.2855\n",
            "\n",
            "Epoch 00015: loss improved from 2.29758 to 2.28547, saving model to model_weights_babynames.hdf5\n",
            "Epoch 16/100\n",
            "1627/1627 [==============================] - 96s 59ms/step - loss: 2.2738\n",
            "\n",
            "Epoch 00016: loss improved from 2.28547 to 2.27384, saving model to model_weights_babynames.hdf5\n",
            "Epoch 17/100\n",
            "1627/1627 [==============================] - 96s 59ms/step - loss: 2.2650\n",
            "\n",
            "Epoch 00017: loss improved from 2.27384 to 2.26500, saving model to model_weights_babynames.hdf5\n",
            "Epoch 18/100\n",
            "1627/1627 [==============================] - 96s 59ms/step - loss: 2.2550\n",
            "\n",
            "Epoch 00018: loss improved from 2.26500 to 2.25496, saving model to model_weights_babynames.hdf5\n",
            "Epoch 19/100\n",
            "1627/1627 [==============================] - 95s 58ms/step - loss: 2.2476\n",
            "\n",
            "Epoch 00019: loss improved from 2.25496 to 2.24762, saving model to model_weights_babynames.hdf5\n",
            "Epoch 20/100\n",
            "1627/1627 [==============================] - 95s 58ms/step - loss: 2.2349\n",
            "\n",
            "Epoch 00020: loss improved from 2.24762 to 2.23492, saving model to model_weights_babynames.hdf5\n",
            "Epoch 21/100\n",
            "1627/1627 [==============================] - 96s 59ms/step - loss: 2.2268\n",
            "\n",
            "Epoch 00021: loss improved from 2.23492 to 2.22683, saving model to model_weights_babynames.hdf5\n",
            "Epoch 22/100\n",
            "  98/1627 [>.............................] - ETA: 1:31 - loss: 2.2005"
          ],
          "name": "stdout"
        },
        {
          "output_type": "error",
          "ename": "KeyboardInterrupt",
          "evalue": "ignored",
          "traceback": [
            "\u001b[0;31m---------------------------------------------------------------------------\u001b[0m",
            "\u001b[0;31mKeyboardInterrupt\u001b[0m                         Traceback (most recent call last)",
            "\u001b[0;32m<ipython-input-39-22e431c5dad8>\u001b[0m in \u001b[0;36m<module>\u001b[0;34m()\u001b[0m\n\u001b[0;32m----> 1\u001b[0;31m \u001b[0mmodel\u001b[0m\u001b[0;34m.\u001b[0m\u001b[0mfit\u001b[0m\u001b[0;34m(\u001b[0m\u001b[0mx\u001b[0m\u001b[0;34m,\u001b[0m \u001b[0my\u001b[0m\u001b[0;34m,\u001b[0m \u001b[0mepochs\u001b[0m \u001b[0;34m=\u001b[0m \u001b[0;36m100\u001b[0m\u001b[0;34m,\u001b[0m \u001b[0mbatch_size\u001b[0m \u001b[0;34m=\u001b[0m \u001b[0;36m32\u001b[0m \u001b[0;34m,\u001b[0m \u001b[0mcallbacks\u001b[0m \u001b[0;34m=\u001b[0m \u001b[0mmodel_callbacks\u001b[0m\u001b[0;34m)\u001b[0m\u001b[0;34m\u001b[0m\u001b[0;34m\u001b[0m\u001b[0m\n\u001b[0m",
            "\u001b[0;32m/usr/local/lib/python3.7/dist-packages/tensorflow/python/keras/engine/training.py\u001b[0m in \u001b[0;36mfit\u001b[0;34m(self, x, y, batch_size, epochs, verbose, callbacks, validation_split, validation_data, shuffle, class_weight, sample_weight, initial_epoch, steps_per_epoch, validation_steps, validation_batch_size, validation_freq, max_queue_size, workers, use_multiprocessing)\u001b[0m\n\u001b[1;32m   1181\u001b[0m                 _r=1):\n\u001b[1;32m   1182\u001b[0m               \u001b[0mcallbacks\u001b[0m\u001b[0;34m.\u001b[0m\u001b[0mon_train_batch_begin\u001b[0m\u001b[0;34m(\u001b[0m\u001b[0mstep\u001b[0m\u001b[0;34m)\u001b[0m\u001b[0;34m\u001b[0m\u001b[0;34m\u001b[0m\u001b[0m\n\u001b[0;32m-> 1183\u001b[0;31m               \u001b[0mtmp_logs\u001b[0m \u001b[0;34m=\u001b[0m \u001b[0mself\u001b[0m\u001b[0;34m.\u001b[0m\u001b[0mtrain_function\u001b[0m\u001b[0;34m(\u001b[0m\u001b[0miterator\u001b[0m\u001b[0;34m)\u001b[0m\u001b[0;34m\u001b[0m\u001b[0;34m\u001b[0m\u001b[0m\n\u001b[0m\u001b[1;32m   1184\u001b[0m               \u001b[0;32mif\u001b[0m \u001b[0mdata_handler\u001b[0m\u001b[0;34m.\u001b[0m\u001b[0mshould_sync\u001b[0m\u001b[0;34m:\u001b[0m\u001b[0;34m\u001b[0m\u001b[0;34m\u001b[0m\u001b[0m\n\u001b[1;32m   1185\u001b[0m                 \u001b[0mcontext\u001b[0m\u001b[0;34m.\u001b[0m\u001b[0masync_wait\u001b[0m\u001b[0;34m(\u001b[0m\u001b[0;34m)\u001b[0m\u001b[0;34m\u001b[0m\u001b[0;34m\u001b[0m\u001b[0m\n",
            "\u001b[0;32m/usr/local/lib/python3.7/dist-packages/tensorflow/python/eager/def_function.py\u001b[0m in \u001b[0;36m__call__\u001b[0;34m(self, *args, **kwds)\u001b[0m\n\u001b[1;32m    887\u001b[0m \u001b[0;34m\u001b[0m\u001b[0m\n\u001b[1;32m    888\u001b[0m       \u001b[0;32mwith\u001b[0m \u001b[0mOptionalXlaContext\u001b[0m\u001b[0;34m(\u001b[0m\u001b[0mself\u001b[0m\u001b[0;34m.\u001b[0m\u001b[0m_jit_compile\u001b[0m\u001b[0;34m)\u001b[0m\u001b[0;34m:\u001b[0m\u001b[0;34m\u001b[0m\u001b[0;34m\u001b[0m\u001b[0m\n\u001b[0;32m--> 889\u001b[0;31m         \u001b[0mresult\u001b[0m \u001b[0;34m=\u001b[0m \u001b[0mself\u001b[0m\u001b[0;34m.\u001b[0m\u001b[0m_call\u001b[0m\u001b[0;34m(\u001b[0m\u001b[0;34m*\u001b[0m\u001b[0margs\u001b[0m\u001b[0;34m,\u001b[0m \u001b[0;34m**\u001b[0m\u001b[0mkwds\u001b[0m\u001b[0;34m)\u001b[0m\u001b[0;34m\u001b[0m\u001b[0;34m\u001b[0m\u001b[0m\n\u001b[0m\u001b[1;32m    890\u001b[0m \u001b[0;34m\u001b[0m\u001b[0m\n\u001b[1;32m    891\u001b[0m       \u001b[0mnew_tracing_count\u001b[0m \u001b[0;34m=\u001b[0m \u001b[0mself\u001b[0m\u001b[0;34m.\u001b[0m\u001b[0mexperimental_get_tracing_count\u001b[0m\u001b[0;34m(\u001b[0m\u001b[0;34m)\u001b[0m\u001b[0;34m\u001b[0m\u001b[0;34m\u001b[0m\u001b[0m\n",
            "\u001b[0;32m/usr/local/lib/python3.7/dist-packages/tensorflow/python/eager/def_function.py\u001b[0m in \u001b[0;36m_call\u001b[0;34m(self, *args, **kwds)\u001b[0m\n\u001b[1;32m    915\u001b[0m       \u001b[0;31m# In this case we have created variables on the first call, so we run the\u001b[0m\u001b[0;34m\u001b[0m\u001b[0;34m\u001b[0m\u001b[0;34m\u001b[0m\u001b[0m\n\u001b[1;32m    916\u001b[0m       \u001b[0;31m# defunned version which is guaranteed to never create variables.\u001b[0m\u001b[0;34m\u001b[0m\u001b[0;34m\u001b[0m\u001b[0;34m\u001b[0m\u001b[0m\n\u001b[0;32m--> 917\u001b[0;31m       \u001b[0;32mreturn\u001b[0m \u001b[0mself\u001b[0m\u001b[0;34m.\u001b[0m\u001b[0m_stateless_fn\u001b[0m\u001b[0;34m(\u001b[0m\u001b[0;34m*\u001b[0m\u001b[0margs\u001b[0m\u001b[0;34m,\u001b[0m \u001b[0;34m**\u001b[0m\u001b[0mkwds\u001b[0m\u001b[0;34m)\u001b[0m  \u001b[0;31m# pylint: disable=not-callable\u001b[0m\u001b[0;34m\u001b[0m\u001b[0;34m\u001b[0m\u001b[0m\n\u001b[0m\u001b[1;32m    918\u001b[0m     \u001b[0;32melif\u001b[0m \u001b[0mself\u001b[0m\u001b[0;34m.\u001b[0m\u001b[0m_stateful_fn\u001b[0m \u001b[0;32mis\u001b[0m \u001b[0;32mnot\u001b[0m \u001b[0;32mNone\u001b[0m\u001b[0;34m:\u001b[0m\u001b[0;34m\u001b[0m\u001b[0;34m\u001b[0m\u001b[0m\n\u001b[1;32m    919\u001b[0m       \u001b[0;31m# Release the lock early so that multiple threads can perform the call\u001b[0m\u001b[0;34m\u001b[0m\u001b[0;34m\u001b[0m\u001b[0;34m\u001b[0m\u001b[0m\n",
            "\u001b[0;32m/usr/local/lib/python3.7/dist-packages/tensorflow/python/eager/function.py\u001b[0m in \u001b[0;36m__call__\u001b[0;34m(self, *args, **kwargs)\u001b[0m\n\u001b[1;32m   3022\u001b[0m        filtered_flat_args) = self._maybe_define_function(args, kwargs)\n\u001b[1;32m   3023\u001b[0m     return graph_function._call_flat(\n\u001b[0;32m-> 3024\u001b[0;31m         filtered_flat_args, captured_inputs=graph_function.captured_inputs)  # pylint: disable=protected-access\n\u001b[0m\u001b[1;32m   3025\u001b[0m \u001b[0;34m\u001b[0m\u001b[0m\n\u001b[1;32m   3026\u001b[0m   \u001b[0;34m@\u001b[0m\u001b[0mproperty\u001b[0m\u001b[0;34m\u001b[0m\u001b[0;34m\u001b[0m\u001b[0m\n",
            "\u001b[0;32m/usr/local/lib/python3.7/dist-packages/tensorflow/python/eager/function.py\u001b[0m in \u001b[0;36m_call_flat\u001b[0;34m(self, args, captured_inputs, cancellation_manager)\u001b[0m\n\u001b[1;32m   1959\u001b[0m       \u001b[0;31m# No tape is watching; skip to running the function.\u001b[0m\u001b[0;34m\u001b[0m\u001b[0;34m\u001b[0m\u001b[0;34m\u001b[0m\u001b[0m\n\u001b[1;32m   1960\u001b[0m       return self._build_call_outputs(self._inference_function.call(\n\u001b[0;32m-> 1961\u001b[0;31m           ctx, args, cancellation_manager=cancellation_manager))\n\u001b[0m\u001b[1;32m   1962\u001b[0m     forward_backward = self._select_forward_and_backward_functions(\n\u001b[1;32m   1963\u001b[0m         \u001b[0margs\u001b[0m\u001b[0;34m,\u001b[0m\u001b[0;34m\u001b[0m\u001b[0;34m\u001b[0m\u001b[0m\n",
            "\u001b[0;32m/usr/local/lib/python3.7/dist-packages/tensorflow/python/eager/function.py\u001b[0m in \u001b[0;36mcall\u001b[0;34m(self, ctx, args, cancellation_manager)\u001b[0m\n\u001b[1;32m    594\u001b[0m               \u001b[0minputs\u001b[0m\u001b[0;34m=\u001b[0m\u001b[0margs\u001b[0m\u001b[0;34m,\u001b[0m\u001b[0;34m\u001b[0m\u001b[0;34m\u001b[0m\u001b[0m\n\u001b[1;32m    595\u001b[0m               \u001b[0mattrs\u001b[0m\u001b[0;34m=\u001b[0m\u001b[0mattrs\u001b[0m\u001b[0;34m,\u001b[0m\u001b[0;34m\u001b[0m\u001b[0;34m\u001b[0m\u001b[0m\n\u001b[0;32m--> 596\u001b[0;31m               ctx=ctx)\n\u001b[0m\u001b[1;32m    597\u001b[0m         \u001b[0;32melse\u001b[0m\u001b[0;34m:\u001b[0m\u001b[0;34m\u001b[0m\u001b[0;34m\u001b[0m\u001b[0m\n\u001b[1;32m    598\u001b[0m           outputs = execute.execute_with_cancellation(\n",
            "\u001b[0;32m/usr/local/lib/python3.7/dist-packages/tensorflow/python/eager/execute.py\u001b[0m in \u001b[0;36mquick_execute\u001b[0;34m(op_name, num_outputs, inputs, attrs, ctx, name)\u001b[0m\n\u001b[1;32m     58\u001b[0m     \u001b[0mctx\u001b[0m\u001b[0;34m.\u001b[0m\u001b[0mensure_initialized\u001b[0m\u001b[0;34m(\u001b[0m\u001b[0;34m)\u001b[0m\u001b[0;34m\u001b[0m\u001b[0;34m\u001b[0m\u001b[0m\n\u001b[1;32m     59\u001b[0m     tensors = pywrap_tfe.TFE_Py_Execute(ctx._handle, device_name, op_name,\n\u001b[0;32m---> 60\u001b[0;31m                                         inputs, attrs, num_outputs)\n\u001b[0m\u001b[1;32m     61\u001b[0m   \u001b[0;32mexcept\u001b[0m \u001b[0mcore\u001b[0m\u001b[0;34m.\u001b[0m\u001b[0m_NotOkStatusException\u001b[0m \u001b[0;32mas\u001b[0m \u001b[0me\u001b[0m\u001b[0;34m:\u001b[0m\u001b[0;34m\u001b[0m\u001b[0;34m\u001b[0m\u001b[0m\n\u001b[1;32m     62\u001b[0m     \u001b[0;32mif\u001b[0m \u001b[0mname\u001b[0m \u001b[0;32mis\u001b[0m \u001b[0;32mnot\u001b[0m \u001b[0;32mNone\u001b[0m\u001b[0;34m:\u001b[0m\u001b[0;34m\u001b[0m\u001b[0;34m\u001b[0m\u001b[0m\n",
            "\u001b[0;31mKeyboardInterrupt\u001b[0m: "
          ]
        }
      ]
    },
    {
      "cell_type": "markdown",
      "metadata": {
        "id": "sNwJU_T_tO9W"
      },
      "source": [
        "**Prediction**"
      ]
    },
    {
      "cell_type": "code",
      "metadata": {
        "id": "yL7xz_uFqNrN"
      },
      "source": [
        "pattern = []\n",
        "seed = 'handi'\n",
        "for i in seed:\n",
        "  value = char_to_ix[i]\n",
        "  pattern.append(value)"
      ],
      "execution_count": 40,
      "outputs": []
    },
    {
      "cell_type": "code",
      "metadata": {
        "colab": {
          "base_uri": "https://localhost:8080/"
        },
        "id": "l9fu0cCstkBX",
        "outputId": "3a88451c-b66c-421c-b7d5-58847d5d7137"
      },
      "source": [
        "print(seed)\n",
        "n_vocab = len(chars)"
      ],
      "execution_count": 41,
      "outputs": [
        {
          "output_type": "stream",
          "text": [
            "handi\n"
          ],
          "name": "stdout"
        }
      ]
    },
    {
      "cell_type": "code",
      "metadata": {
        "colab": {
          "base_uri": "https://localhost:8080/"
        },
        "id": "f_7rWkY3tsZh",
        "outputId": "adfe3b31-3adb-49ca-ba6a-2c235a7df57a"
      },
      "source": [
        "print(seed)\n",
        "n_vocab = len(chars)\n",
        "for i in range(100):\n",
        "  X = np.reshape(pattern , (1, len(pattern) , 1))\n",
        "  X = X/float(n_vocab)\n",
        "  int_prediction = model.predict(X , verbose = 0)\n",
        "  index = np.argmax(int_prediction)\n",
        "  prediction = ix_to_char[index]\n",
        "  print(prediction)\n",
        "  pattern.append(index)\n",
        "  pattern = pattern[1:len(pattern)]"
      ],
      "execution_count": 42,
      "outputs": [
        {
          "output_type": "stream",
          "text": [
            "handi\n",
            "e\n",
            " \n",
            "s\n",
            "h\n",
            "e\n",
            "r\n",
            "r\n",
            "a\n",
            " \n",
            "m\n",
            "a\n",
            "r\n",
            "t\n",
            "i\n",
            "n\n",
            "a\n",
            " \n",
            "a\n",
            "l\n",
            "e\n",
            "g\n",
            "e\n",
            " \n",
            "s\n",
            "h\n",
            "e\n",
            "r\n",
            "r\n",
            "a\n",
            " \n",
            "m\n",
            "a\n",
            "r\n",
            "t\n",
            "i\n",
            "n\n",
            "a\n",
            " \n",
            "a\n",
            "l\n",
            "e\n",
            "g\n",
            "e\n",
            " \n",
            "s\n",
            "h\n",
            "e\n",
            "r\n",
            "r\n",
            "a\n",
            " \n",
            "m\n",
            "a\n",
            "r\n",
            "t\n",
            "i\n",
            "n\n",
            "a\n",
            " \n",
            "a\n",
            "l\n",
            "e\n",
            "g\n",
            "e\n",
            " \n",
            "s\n",
            "h\n",
            "e\n",
            "r\n",
            "r\n",
            "a\n",
            " \n",
            "m\n",
            "a\n",
            "r\n",
            "t\n",
            "i\n",
            "n\n",
            "a\n",
            " \n",
            "a\n",
            "l\n",
            "e\n",
            "g\n",
            "e\n",
            " \n",
            "s\n",
            "h\n",
            "e\n",
            "r\n",
            "r\n",
            "a\n",
            " \n",
            "m\n",
            "a\n",
            "r\n",
            "t\n",
            "i\n",
            "n\n",
            "a\n"
          ],
          "name": "stdout"
        }
      ]
    },
    {
      "cell_type": "markdown",
      "metadata": {
        "id": "jLS2cIwiwZl_"
      },
      "source": [
        "**Saving/Reusing Model**"
      ]
    },
    {
      "cell_type": "code",
      "metadata": {
        "id": "iAF4Lol2uoi2"
      },
      "source": [
        "model.save('baby_names_model.h5')"
      ],
      "execution_count": 43,
      "outputs": []
    },
    {
      "cell_type": "code",
      "metadata": {
        "id": "DZo1d8nXxOpN"
      },
      "source": [
        "saved_model = load_model('baby_names_model.h5')"
      ],
      "execution_count": 44,
      "outputs": []
    },
    {
      "cell_type": "code",
      "metadata": {
        "id": "t6fI9Odv87Vl"
      },
      "source": [
        ""
      ],
      "execution_count": null,
      "outputs": []
    }
  ]
}