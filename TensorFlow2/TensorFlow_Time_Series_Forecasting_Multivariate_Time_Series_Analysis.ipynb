{
  "nbformat": 4,
  "nbformat_minor": 0,
  "metadata": {
    "colab": {
      "name": "TensorFlow_Time_Series_Forecasting_Multivariate_Time_Series_Analysis.ipynb",
      "provenance": [],
      "collapsed_sections": []
    },
    "kernelspec": {
      "name": "python3",
      "display_name": "Python 3"
    },
    "language_info": {
      "name": "python"
    }
  },
  "cells": [
    {
      "cell_type": "code",
      "metadata": {
        "id": "8YBAYFvO4Cwq"
      },
      "source": [
        "import numpy as np\n",
        "import pandas as pd\n",
        "\n",
        "import matplotlib.pyplot as plt\n",
        "import seaborn as sns\n",
        "\n",
        "import sklearn.preprocessing\n",
        "from sklearn.metrics import r2_score\n",
        "from sklearn.preprocessing import MinMaxScaler\n",
        "\n",
        "import tensorflow as tf\n",
        "from tensorflow import keras\n",
        "from tensorflow.keras import layers"
      ],
      "execution_count": 8,
      "outputs": []
    },
    {
      "cell_type": "markdown",
      "metadata": {
        "id": "9wIqkfbv6keR"
      },
      "source": [
        "**Preparing Data**"
      ]
    },
    {
      "cell_type": "code",
      "metadata": {
        "colab": {
          "base_uri": "https://localhost:8080/",
          "height": 450
        },
        "id": "kLERX_tR6irA",
        "outputId": "a189e8ce-7753-480e-c979-95d19c6e37d7"
      },
      "source": [
        "df = pd.read_csv(\n",
        "    '/content/drive/MyDrive/Dataset/london-bike-sharing-dataset/london_merged.csv',\n",
        "    parse_dates=['timestamp'], \n",
        "    index_col = \"timestamp\"\n",
        ")\n",
        "df"
      ],
      "execution_count": 9,
      "outputs": [
        {
          "output_type": "execute_result",
          "data": {
            "text/html": [
              "<div>\n",
              "<style scoped>\n",
              "    .dataframe tbody tr th:only-of-type {\n",
              "        vertical-align: middle;\n",
              "    }\n",
              "\n",
              "    .dataframe tbody tr th {\n",
              "        vertical-align: top;\n",
              "    }\n",
              "\n",
              "    .dataframe thead th {\n",
              "        text-align: right;\n",
              "    }\n",
              "</style>\n",
              "<table border=\"1\" class=\"dataframe\">\n",
              "  <thead>\n",
              "    <tr style=\"text-align: right;\">\n",
              "      <th></th>\n",
              "      <th>cnt</th>\n",
              "      <th>t1</th>\n",
              "      <th>t2</th>\n",
              "      <th>hum</th>\n",
              "      <th>wind_speed</th>\n",
              "      <th>weather_code</th>\n",
              "      <th>is_holiday</th>\n",
              "      <th>is_weekend</th>\n",
              "      <th>season</th>\n",
              "    </tr>\n",
              "    <tr>\n",
              "      <th>timestamp</th>\n",
              "      <th></th>\n",
              "      <th></th>\n",
              "      <th></th>\n",
              "      <th></th>\n",
              "      <th></th>\n",
              "      <th></th>\n",
              "      <th></th>\n",
              "      <th></th>\n",
              "      <th></th>\n",
              "    </tr>\n",
              "  </thead>\n",
              "  <tbody>\n",
              "    <tr>\n",
              "      <th>2015-01-04 00:00:00</th>\n",
              "      <td>182</td>\n",
              "      <td>3.0</td>\n",
              "      <td>2.0</td>\n",
              "      <td>93.0</td>\n",
              "      <td>6.0</td>\n",
              "      <td>3.0</td>\n",
              "      <td>0.0</td>\n",
              "      <td>1.0</td>\n",
              "      <td>3.0</td>\n",
              "    </tr>\n",
              "    <tr>\n",
              "      <th>2015-01-04 01:00:00</th>\n",
              "      <td>138</td>\n",
              "      <td>3.0</td>\n",
              "      <td>2.5</td>\n",
              "      <td>93.0</td>\n",
              "      <td>5.0</td>\n",
              "      <td>1.0</td>\n",
              "      <td>0.0</td>\n",
              "      <td>1.0</td>\n",
              "      <td>3.0</td>\n",
              "    </tr>\n",
              "    <tr>\n",
              "      <th>2015-01-04 02:00:00</th>\n",
              "      <td>134</td>\n",
              "      <td>2.5</td>\n",
              "      <td>2.5</td>\n",
              "      <td>96.5</td>\n",
              "      <td>0.0</td>\n",
              "      <td>1.0</td>\n",
              "      <td>0.0</td>\n",
              "      <td>1.0</td>\n",
              "      <td>3.0</td>\n",
              "    </tr>\n",
              "    <tr>\n",
              "      <th>2015-01-04 03:00:00</th>\n",
              "      <td>72</td>\n",
              "      <td>2.0</td>\n",
              "      <td>2.0</td>\n",
              "      <td>100.0</td>\n",
              "      <td>0.0</td>\n",
              "      <td>1.0</td>\n",
              "      <td>0.0</td>\n",
              "      <td>1.0</td>\n",
              "      <td>3.0</td>\n",
              "    </tr>\n",
              "    <tr>\n",
              "      <th>2015-01-04 04:00:00</th>\n",
              "      <td>47</td>\n",
              "      <td>2.0</td>\n",
              "      <td>0.0</td>\n",
              "      <td>93.0</td>\n",
              "      <td>6.5</td>\n",
              "      <td>1.0</td>\n",
              "      <td>0.0</td>\n",
              "      <td>1.0</td>\n",
              "      <td>3.0</td>\n",
              "    </tr>\n",
              "    <tr>\n",
              "      <th>...</th>\n",
              "      <td>...</td>\n",
              "      <td>...</td>\n",
              "      <td>...</td>\n",
              "      <td>...</td>\n",
              "      <td>...</td>\n",
              "      <td>...</td>\n",
              "      <td>...</td>\n",
              "      <td>...</td>\n",
              "      <td>...</td>\n",
              "    </tr>\n",
              "    <tr>\n",
              "      <th>2017-01-03 19:00:00</th>\n",
              "      <td>1042</td>\n",
              "      <td>5.0</td>\n",
              "      <td>1.0</td>\n",
              "      <td>81.0</td>\n",
              "      <td>19.0</td>\n",
              "      <td>3.0</td>\n",
              "      <td>0.0</td>\n",
              "      <td>0.0</td>\n",
              "      <td>3.0</td>\n",
              "    </tr>\n",
              "    <tr>\n",
              "      <th>2017-01-03 20:00:00</th>\n",
              "      <td>541</td>\n",
              "      <td>5.0</td>\n",
              "      <td>1.0</td>\n",
              "      <td>81.0</td>\n",
              "      <td>21.0</td>\n",
              "      <td>4.0</td>\n",
              "      <td>0.0</td>\n",
              "      <td>0.0</td>\n",
              "      <td>3.0</td>\n",
              "    </tr>\n",
              "    <tr>\n",
              "      <th>2017-01-03 21:00:00</th>\n",
              "      <td>337</td>\n",
              "      <td>5.5</td>\n",
              "      <td>1.5</td>\n",
              "      <td>78.5</td>\n",
              "      <td>24.0</td>\n",
              "      <td>4.0</td>\n",
              "      <td>0.0</td>\n",
              "      <td>0.0</td>\n",
              "      <td>3.0</td>\n",
              "    </tr>\n",
              "    <tr>\n",
              "      <th>2017-01-03 22:00:00</th>\n",
              "      <td>224</td>\n",
              "      <td>5.5</td>\n",
              "      <td>1.5</td>\n",
              "      <td>76.0</td>\n",
              "      <td>23.0</td>\n",
              "      <td>4.0</td>\n",
              "      <td>0.0</td>\n",
              "      <td>0.0</td>\n",
              "      <td>3.0</td>\n",
              "    </tr>\n",
              "    <tr>\n",
              "      <th>2017-01-03 23:00:00</th>\n",
              "      <td>139</td>\n",
              "      <td>5.0</td>\n",
              "      <td>1.0</td>\n",
              "      <td>76.0</td>\n",
              "      <td>22.0</td>\n",
              "      <td>2.0</td>\n",
              "      <td>0.0</td>\n",
              "      <td>0.0</td>\n",
              "      <td>3.0</td>\n",
              "    </tr>\n",
              "  </tbody>\n",
              "</table>\n",
              "<p>17414 rows × 9 columns</p>\n",
              "</div>"
            ],
            "text/plain": [
              "                      cnt   t1   t2  ...  is_holiday  is_weekend  season\n",
              "timestamp                            ...                                \n",
              "2015-01-04 00:00:00   182  3.0  2.0  ...         0.0         1.0     3.0\n",
              "2015-01-04 01:00:00   138  3.0  2.5  ...         0.0         1.0     3.0\n",
              "2015-01-04 02:00:00   134  2.5  2.5  ...         0.0         1.0     3.0\n",
              "2015-01-04 03:00:00    72  2.0  2.0  ...         0.0         1.0     3.0\n",
              "2015-01-04 04:00:00    47  2.0  0.0  ...         0.0         1.0     3.0\n",
              "...                   ...  ...  ...  ...         ...         ...     ...\n",
              "2017-01-03 19:00:00  1042  5.0  1.0  ...         0.0         0.0     3.0\n",
              "2017-01-03 20:00:00   541  5.0  1.0  ...         0.0         0.0     3.0\n",
              "2017-01-03 21:00:00   337  5.5  1.5  ...         0.0         0.0     3.0\n",
              "2017-01-03 22:00:00   224  5.5  1.5  ...         0.0         0.0     3.0\n",
              "2017-01-03 23:00:00   139  5.0  1.0  ...         0.0         0.0     3.0\n",
              "\n",
              "[17414 rows x 9 columns]"
            ]
          },
          "metadata": {
            "tags": []
          },
          "execution_count": 9
        }
      ]
    },
    {
      "cell_type": "code",
      "metadata": {
        "colab": {
          "base_uri": "https://localhost:8080/"
        },
        "id": "LjXSBhIu6vsC",
        "outputId": "5192754a-8ea7-460e-e906-3daa47f99eaa"
      },
      "source": [
        "df.dtypes"
      ],
      "execution_count": 10,
      "outputs": [
        {
          "output_type": "execute_result",
          "data": {
            "text/plain": [
              "cnt               int64\n",
              "t1              float64\n",
              "t2              float64\n",
              "hum             float64\n",
              "wind_speed      float64\n",
              "weather_code    float64\n",
              "is_holiday      float64\n",
              "is_weekend      float64\n",
              "season          float64\n",
              "dtype: object"
            ]
          },
          "metadata": {
            "tags": []
          },
          "execution_count": 10
        }
      ]
    },
    {
      "cell_type": "markdown",
      "metadata": {
        "id": "pwyIUYR67LXF"
      },
      "source": [
        "**Checking for Stationarity**"
      ]
    },
    {
      "cell_type": "markdown",
      "metadata": {
        "id": "mZUhwUoOPP5I"
      },
      "source": [
        "A stationary series is one in which the properties – mean, variance, and covariance – do not vary with time.\n",
        "<br>\n",
        "For a series to be stationary, the eigenvalues should be less than one in modulus. \n",
        "<br>\n",
        "The Johansen test can be used to check for cointegration between a maximum of 12 time series.\n",
        "<br>"
      ]
    },
    {
      "cell_type": "code",
      "metadata": {
        "colab": {
          "base_uri": "https://localhost:8080/"
        },
        "id": "qL5e8Ehh7Dsa",
        "outputId": "f6f8b708-2cae-4be0-eed7-173f64201d3d"
      },
      "source": [
        "#checking stationarity\n",
        "import pandas.util.testing as tm\n",
        "from statsmodels.tsa.vector_ar.vecm import coint_johansen\n",
        "johan_test_temp = df\n",
        "coint_johansen(johan_test_temp,-1,1).eig"
      ],
      "execution_count": 12,
      "outputs": [
        {
          "output_type": "execute_result",
          "data": {
            "text/plain": [
              "array([2.61219379e-01, 1.31970167e-01, 5.22046139e-02, 4.19830465e-02,\n",
              "       2.10126207e-02, 1.75450605e-02, 1.36518877e-02, 6.26085775e-04,\n",
              "       7.56291478e-05])"
            ]
          },
          "metadata": {
            "tags": []
          },
          "execution_count": 12
        }
      ]
    },
    {
      "cell_type": "markdown",
      "metadata": {
        "id": "YA5gLkeOQTms"
      },
      "source": [
        "All eigenvalues are under one, implying that all time series under test are stationary."
      ]
    },
    {
      "cell_type": "markdown",
      "metadata": {
        "id": "d-5SWj2BQfZo"
      },
      "source": [
        "**Exploring Data**"
      ]
    },
    {
      "cell_type": "markdown",
      "metadata": {
        "id": "loeXhxiKQuEl"
      },
      "source": [
        "*plot the cnt distribution*"
      ]
    },
    {
      "cell_type": "code",
      "metadata": {
        "colab": {
          "base_uri": "https://localhost:8080/",
          "height": 265
        },
        "id": "7dTg0Jk2QFyg",
        "outputId": "8a583a2e-b7ea-42cc-d681-f0d790cc6f48"
      },
      "source": [
        "plt.figure(figsize = (16,4))\n",
        "plt.plot(df.index, df[\"cnt\"]);"
      ],
      "execution_count": 13,
      "outputs": [
        {
          "output_type": "display_data",
          "data": {
            "image/png": "[encoded data removed]",
            "text/plain": [
              "<Figure size 1152x288 with 1 Axes>"
            ]
          },
          "metadata": {
            "tags": [],
            "needs_background": "light"
          }
        }
      ]
    },
    {
      "cell_type": "markdown",
      "metadata": {
        "id": "UhdR2KW_Q-84"
      },
      "source": [
        "Inference: \n",
        "<br>\n",
        "It looks like the demand is evenly distributed throughout the entire period."
      ]
    },
    {
      "cell_type": "markdown",
      "metadata": {
        "id": "cKOsIvRSRCvo"
      },
      "source": [
        "Let us examine if there are any seasonal changes in the demand distribution."
      ]
    },
    {
      "cell_type": "code",
      "metadata": {
        "colab": {
          "base_uri": "https://localhost:8080/",
          "height": 235
        },
        "id": "0Ixtn4QfQwIF",
        "outputId": "119e0aca-5d13-497a-cf91-3703b1148f09"
      },
      "source": [
        "# create indexes\n",
        "df['hour'] = df.index.hour\n",
        "df['month'] = df.index.month\n",
        "df.head()"
      ],
      "execution_count": 15,
      "outputs": [
        {
          "output_type": "execute_result",
          "data": {
            "text/html": [
              "<div>\n",
              "<style scoped>\n",
              "    .dataframe tbody tr th:only-of-type {\n",
              "        vertical-align: middle;\n",
              "    }\n",
              "\n",
              "    .dataframe tbody tr th {\n",
              "        vertical-align: top;\n",
              "    }\n",
              "\n",
              "    .dataframe thead th {\n",
              "        text-align: right;\n",
              "    }\n",
              "</style>\n",
              "<table border=\"1\" class=\"dataframe\">\n",
              "  <thead>\n",
              "    <tr style=\"text-align: right;\">\n",
              "      <th></th>\n",
              "      <th>cnt</th>\n",
              "      <th>t1</th>\n",
              "      <th>t2</th>\n",
              "      <th>hum</th>\n",
              "      <th>wind_speed</th>\n",
              "      <th>weather_code</th>\n",
              "      <th>is_holiday</th>\n",
              "      <th>is_weekend</th>\n",
              "      <th>season</th>\n",
              "      <th>hour</th>\n",
              "      <th>month</th>\n",
              "    </tr>\n",
              "    <tr>\n",
              "      <th>timestamp</th>\n",
              "      <th></th>\n",
              "      <th></th>\n",
              "      <th></th>\n",
              "      <th></th>\n",
              "      <th></th>\n",
              "      <th></th>\n",
              "      <th></th>\n",
              "      <th></th>\n",
              "      <th></th>\n",
              "      <th></th>\n",
              "      <th></th>\n",
              "    </tr>\n",
              "  </thead>\n",
              "  <tbody>\n",
              "    <tr>\n",
              "      <th>2015-01-04 00:00:00</th>\n",
              "      <td>182</td>\n",
              "      <td>3.0</td>\n",
              "      <td>2.0</td>\n",
              "      <td>93.0</td>\n",
              "      <td>6.0</td>\n",
              "      <td>3.0</td>\n",
              "      <td>0.0</td>\n",
              "      <td>1.0</td>\n",
              "      <td>3.0</td>\n",
              "      <td>0</td>\n",
              "      <td>1</td>\n",
              "    </tr>\n",
              "    <tr>\n",
              "      <th>2015-01-04 01:00:00</th>\n",
              "      <td>138</td>\n",
              "      <td>3.0</td>\n",
              "      <td>2.5</td>\n",
              "      <td>93.0</td>\n",
              "      <td>5.0</td>\n",
              "      <td>1.0</td>\n",
              "      <td>0.0</td>\n",
              "      <td>1.0</td>\n",
              "      <td>3.0</td>\n",
              "      <td>1</td>\n",
              "      <td>1</td>\n",
              "    </tr>\n",
              "    <tr>\n",
              "      <th>2015-01-04 02:00:00</th>\n",
              "      <td>134</td>\n",
              "      <td>2.5</td>\n",
              "      <td>2.5</td>\n",
              "      <td>96.5</td>\n",
              "      <td>0.0</td>\n",
              "      <td>1.0</td>\n",
              "      <td>0.0</td>\n",
              "      <td>1.0</td>\n",
              "      <td>3.0</td>\n",
              "      <td>2</td>\n",
              "      <td>1</td>\n",
              "    </tr>\n",
              "    <tr>\n",
              "      <th>2015-01-04 03:00:00</th>\n",
              "      <td>72</td>\n",
              "      <td>2.0</td>\n",
              "      <td>2.0</td>\n",
              "      <td>100.0</td>\n",
              "      <td>0.0</td>\n",
              "      <td>1.0</td>\n",
              "      <td>0.0</td>\n",
              "      <td>1.0</td>\n",
              "      <td>3.0</td>\n",
              "      <td>3</td>\n",
              "      <td>1</td>\n",
              "    </tr>\n",
              "    <tr>\n",
              "      <th>2015-01-04 04:00:00</th>\n",
              "      <td>47</td>\n",
              "      <td>2.0</td>\n",
              "      <td>0.0</td>\n",
              "      <td>93.0</td>\n",
              "      <td>6.5</td>\n",
              "      <td>1.0</td>\n",
              "      <td>0.0</td>\n",
              "      <td>1.0</td>\n",
              "      <td>3.0</td>\n",
              "      <td>4</td>\n",
              "      <td>1</td>\n",
              "    </tr>\n",
              "  </tbody>\n",
              "</table>\n",
              "</div>"
            ],
            "text/plain": [
              "                     cnt   t1   t2    hum  ...  is_weekend  season  hour  month\n",
              "timestamp                                  ...                                 \n",
              "2015-01-04 00:00:00  182  3.0  2.0   93.0  ...         1.0     3.0     0      1\n",
              "2015-01-04 01:00:00  138  3.0  2.5   93.0  ...         1.0     3.0     1      1\n",
              "2015-01-04 02:00:00  134  2.5  2.5   96.5  ...         1.0     3.0     2      1\n",
              "2015-01-04 03:00:00   72  2.0  2.0  100.0  ...         1.0     3.0     3      1\n",
              "2015-01-04 04:00:00   47  2.0  0.0   93.0  ...         1.0     3.0     4      1\n",
              "\n",
              "[5 rows x 11 columns]"
            ]
          },
          "metadata": {
            "tags": []
          },
          "execution_count": 15
        }
      ]
    },
    {
      "cell_type": "code",
      "metadata": {
        "colab": {
          "base_uri": "https://localhost:8080/",
          "height": 623
        },
        "id": "LvcwRmTXRI-L",
        "outputId": "3238e74c-87fe-46e3-ec0b-a6077936f5d5"
      },
      "source": [
        "fig,(ax1, ax2, ax3)= plt.subplots(nrows = 3)\n",
        "\n",
        "fig.set_size_inches(16, 10)\n",
        "\n",
        "sns.pointplot(data = df, x = 'month', y = 'cnt', hue = 'is_weekend', ax = ax1)\n",
        "sns.pointplot(data = df, x = 'hour', y = 'cnt', hue = 'season', ax = ax2);\n",
        "sns.pointplot(data = df, x = 'month', y = 'cnt', ax = ax3)"
      ],
      "execution_count": 16,
      "outputs": [
        {
          "output_type": "execute_result",
          "data": {
            "text/plain": [
              "<matplotlib.axes._subplots.AxesSubplot at 0x7f701fa94310>"
            ]
          },
          "metadata": {
            "tags": []
          },
          "execution_count": 16
        },
        {
          "output_type": "display_data",
          "data": {
            "image/png": "[encoded data removed]",
            "text/plain": [
              "<Figure size 1152x720 with 3 Axes>"
            ]
          },
          "metadata": {
            "tags": [],
            "needs_background": "light"
          }
        }
      ]
    },
    {
      "cell_type": "markdown",
      "metadata": {
        "id": "Ti55qtFYSrNH"
      },
      "source": [
        "**Preparing Data**"
      ]
    },
    {
      "cell_type": "code",
      "metadata": {
        "id": "1OKsC3LiRbpD"
      },
      "source": [
        "# scaling numeric columns\n",
        "scaler = sklearn.preprocessing.MinMaxScaler()\n",
        "\n",
        "df['t1'] = scaler.fit_transform(df['t1'].values.reshape(-1,1))\n",
        "df['t2'] = scaler.fit_transform(df['t2'].values.reshape(-1,1))\n",
        "df['hum'] = scaler.fit_transform(df['hum'].values.reshape(-1,1))\n",
        "df['wind_speed'] = scaler.fit_transform(df['wind_speed'].values.reshape(-1,1))\n",
        "df['cnt'] = scaler.fit_transform(df['cnt'].values.reshape(-1,1))"
      ],
      "execution_count": 17,
      "outputs": []
    },
    {
      "cell_type": "code",
      "metadata": {
        "id": "kitifb2gTjQ-"
      },
      "source": [
        "# use 90% for training\n",
        "train_size = int(len(df) * 0.9)\n",
        "test_size = len(df) - train_size\n",
        "train, test = df.iloc[0:train_size],df.iloc[train_size:len(df)]"
      ],
      "execution_count": 18,
      "outputs": []
    },
    {
      "cell_type": "code",
      "metadata": {
        "id": "7yiSvbU8UHX_"
      },
      "source": [
        "def create_dataset(X, y, time_steps = 1):\n",
        "  Xs, ys = [], []\n",
        "  for i in range(len(X) - time_steps):\n",
        "    v = X.iloc[i:(i + time_steps)].values\n",
        "    Xs.append(v)\n",
        "    ys.append(y.iloc[i + time_steps])\n",
        "  return np.array(Xs), np.array(ys)"
      ],
      "execution_count": 19,
      "outputs": []
    },
    {
      "cell_type": "code",
      "metadata": {
        "id": "GNrTR1mnUapA"
      },
      "source": [
        "time_steps = 10\n",
        "X_train, y_train = create_dataset(train, train.cnt, time_steps)\n",
        "X_test, y_test = create_dataset(test, test.cnt, time_steps)"
      ],
      "execution_count": 20,
      "outputs": []
    },
    {
      "cell_type": "code",
      "metadata": {
        "id": "qhzdbXpxUfmT"
      },
      "source": [
        "batch_size = 256\n",
        "buffer_size = 1000"
      ],
      "execution_count": 21,
      "outputs": []
    },
    {
      "cell_type": "code",
      "metadata": {
        "id": "URuk3dKfUl3e"
      },
      "source": [
        "train_data = tf.data.Dataset.from_tensor_slices((X_train , y_train))\n",
        "train_data = train_data.cache().shuffle(buffer_size).batch(batch_size).repeat()\n",
        "test_data = tf.data.Dataset.from_tensor_slices((X_test , y_test))\n",
        "test_data = test_data.batch(batch_size).repeat()"
      ],
      "execution_count": 22,
      "outputs": []
    },
    {
      "cell_type": "markdown",
      "metadata": {
        "id": "51N-ZYF6Uvv2"
      },
      "source": [
        "**Creating Model**"
      ]
    },
    {
      "cell_type": "code",
      "metadata": {
        "id": "Yjky2G4pUuGl"
      },
      "source": [
        "simple_lstm_model = tf.keras.models.Sequential(\n",
        "    [\n",
        "     tf.keras.layers.LSTM(8, input_shape = X_train.shape[-2:]),\n",
        "     tf.keras.layers.Dense(1)\n",
        "     ]\n",
        ")\n",
        "simple_lstm_model.compile(optimizer = 'adam', loss = 'mae')"
      ],
      "execution_count": 23,
      "outputs": []
    },
    {
      "cell_type": "code",
      "metadata": {
        "colab": {
          "base_uri": "https://localhost:8080/",
          "height": 312
        },
        "id": "x7LdztAqU5Pw",
        "outputId": "7c12ffd1-2b25-4996-d243-2d468d50bc17"
      },
      "source": [
        "tf.keras.utils.plot_model(simple_lstm_model, show_shapes=True, show_dtype=True)"
      ],
      "execution_count": 25,
      "outputs": [
        {
          "output_type": "execute_result",
          "data": {
            "image/png": "[encoded data removed]",
            "text/plain": [
              "<IPython.core.display.Image object>"
            ]
          },
          "metadata": {
            "tags": []
          },
          "execution_count": 25
        }
      ]
    },
    {
      "cell_type": "markdown",
      "metadata": {
        "id": "ajWxUvzmVRk_"
      },
      "source": [
        "**Training**"
      ]
    },
    {
      "cell_type": "code",
      "metadata": {
        "id": "w1fC3mtTVHIE"
      },
      "source": [
        "EVALUATION_INTERVAL = 200\n",
        "EPOCHS = 10"
      ],
      "execution_count": 26,
      "outputs": []
    },
    {
      "cell_type": "code",
      "metadata": {
        "colab": {
          "base_uri": "https://localhost:8080/"
        },
        "id": "djOdPRNaVVsK",
        "outputId": "bde1029c-ee84-4767-9b9f-5093925d4b97"
      },
      "source": [
        "history = simple_lstm_model.fit(\n",
        "    train_data,\n",
        "    epochs = EPOCHS,\n",
        "    steps_per_epoch = EVALUATION_INTERVAL,\n",
        "    validation_data = test_data,\n",
        "    validation_steps = 50\n",
        ")"
      ],
      "execution_count": 27,
      "outputs": [
        {
          "output_type": "stream",
          "text": [
            "Epoch 1/10\n",
            "200/200 [==============================] - 4s 10ms/step - loss: 0.3018 - val_loss: 0.1220\n",
            "Epoch 2/10\n",
            "200/200 [==============================] - 2s 7ms/step - loss: 0.0862 - val_loss: 0.0733\n",
            "Epoch 3/10\n",
            "200/200 [==============================] - 1s 7ms/step - loss: 0.0671 - val_loss: 0.0569\n",
            "Epoch 4/10\n",
            "200/200 [==============================] - 1s 7ms/step - loss: 0.0589 - val_loss: 0.0538\n",
            "Epoch 5/10\n",
            "200/200 [==============================] - 1s 7ms/step - loss: 0.0534 - val_loss: 0.0554\n",
            "Epoch 6/10\n",
            "200/200 [==============================] - 1s 7ms/step - loss: 0.0499 - val_loss: 0.0495\n",
            "Epoch 7/10\n",
            "200/200 [==============================] - 1s 7ms/step - loss: 0.0469 - val_loss: 0.0444\n",
            "Epoch 8/10\n",
            "200/200 [==============================] - 1s 7ms/step - loss: 0.0440 - val_loss: 0.0426\n",
            "Epoch 9/10\n",
            "200/200 [==============================] - 1s 7ms/step - loss: 0.0414 - val_loss: 0.0396\n",
            "Epoch 10/10\n",
            "200/200 [==============================] - 1s 7ms/step - loss: 0.0386 - val_loss: 0.0398\n"
          ],
          "name": "stdout"
        }
      ]
    },
    {
      "cell_type": "code",
      "metadata": {
        "colab": {
          "base_uri": "https://localhost:8080/",
          "height": 296
        },
        "id": "mvxhno9KVdyO",
        "outputId": "fc8ea22c-c76c-4be9-dd16-af5a73d078b7"
      },
      "source": [
        "# plot losses\n",
        "plt.plot(history.history['loss'], label = 'train loss')\n",
        "plt.plot(history.history['val_loss'], label = 'validation loss')\n",
        "\n",
        "plt.xlabel(\"Epochs\")\n",
        "plt.ylabel(\"Loss\")\n",
        "plt.legend()"
      ],
      "execution_count": 28,
      "outputs": [
        {
          "output_type": "execute_result",
          "data": {
            "text/plain": [
              "<matplotlib.legend.Legend at 0x7f701cc2b910>"
            ]
          },
          "metadata": {
            "tags": []
          },
          "execution_count": 28
        },
        {
          "output_type": "display_data",
          "data": {
            "image/png": "[encoded data removed]",
            "text/plain": [
              "<Figure size 432x288 with 1 Axes>"
            ]
          },
          "metadata": {
            "tags": [],
            "needs_background": "light"
          }
        }
      ]
    },
    {
      "cell_type": "markdown",
      "metadata": {
        "id": "0itlmtjLVs4y"
      },
      "source": [
        "**Evaluation**"
      ]
    },
    {
      "cell_type": "code",
      "metadata": {
        "id": "B2p0fYR4Vlnb"
      },
      "source": [
        "X_test,y_test = create_dataset(df,df.cnt,10)\n",
        "y_pred = simple_lstm_model.predict(X_test)"
      ],
      "execution_count": 31,
      "outputs": []
    },
    {
      "cell_type": "code",
      "metadata": {
        "id": "bNg3LrqDV1B8"
      },
      "source": [
        "def create_time_steps(length):\n",
        "  return list(range(-length, 0))"
      ],
      "execution_count": 32,
      "outputs": []
    },
    {
      "cell_type": "code",
      "metadata": {
        "colab": {
          "base_uri": "https://localhost:8080/",
          "height": 279
        },
        "id": "YTZuUzWVXSSp",
        "outputId": "305e152e-45fd-4933-c957-29ae139e3461"
      },
      "source": [
        "plt.figure(figsize = (16,4))\n",
        "\n",
        "num_in = create_time_steps(91)\n",
        "num_out = 28\n",
        "\n",
        "plt.plot(num_in, y_train[15571:],label = 'history')\n",
        "plt.plot(np.arange(num_out), y_test[15661:15689], 'b',label='Actual')\n",
        "plt.plot(np.arange(num_out), y_pred[15661:15689], 'r',label = 'Predicted')\n",
        "\n",
        "plt.xlabel(\"Time\")\n",
        "plt.ylabel(\"bike shares (Normalized Value)\")\n",
        "plt.legend()\n",
        "plt.show()"
      ],
      "execution_count": 42,
      "outputs": [
        {
          "output_type": "display_data",
          "data": {
            "image/png": "[encoded data removed]",
            "text/plain": [
              "<Figure size 1152x288 with 1 Axes>"
            ]
          },
          "metadata": {
            "tags": [],
            "needs_background": "light"
          }
        }
      ]
    },
    {
      "cell_type": "markdown",
      "metadata": {
        "id": "rM3uF6f-a5IX"
      },
      "source": [
        "**Predicting Future Point**"
      ]
    },
    {
      "cell_type": "code",
      "metadata": {
        "colab": {
          "base_uri": "https://localhost:8080/"
        },
        "id": "QMLubhtDXkUX",
        "outputId": "2cb72101-3e53-490d-9c01-03d81a007424"
      },
      "source": [
        "y_pred = simple_lstm_model.predict(X_test[-1:])\n",
        "y_pred"
      ],
      "execution_count": 44,
      "outputs": [
        {
          "output_type": "execute_result",
          "data": {
            "text/plain": [
              "array([[0.04635212]], dtype=float32)"
            ]
          },
          "metadata": {
            "tags": []
          },
          "execution_count": 44
        }
      ]
    },
    {
      "cell_type": "code",
      "metadata": {
        "colab": {
          "base_uri": "https://localhost:8080/",
          "height": 279
        },
        "id": "Y6hBef71bL8L",
        "outputId": "305ac242-34fe-46a8-e6ed-460902af20b0"
      },
      "source": [
        "# plot prediction\n",
        "plt.figure(figsize = (16,4))\n",
        "\n",
        "num_in = create_time_steps(100)\n",
        "num_out = 1\n",
        "\n",
        "plt.plot(num_in,y_test[-100:])\n",
        "plt.plot(np.arange(num_out),y_pred, 'ro',label = 'Predicted')\n",
        "\n",
        "plt.xlabel(\"Time\")\n",
        "plt.ylabel(\"bike shares (Normalized Value)\")\n",
        "plt.legend()\n",
        "plt.show()"
      ],
      "execution_count": 45,
      "outputs": [
        {
          "output_type": "display_data",
          "data": {
            "image/png": "[encoded data removed]",
            "text/plain": [
              "<Figure size 1152x288 with 1 Axes>"
            ]
          },
          "metadata": {
            "tags": [],
            "needs_background": "light"
          }
        }
      ]
    },
    {
      "cell_type": "markdown",
      "metadata": {
        "id": "jfOEh8qDbfbf"
      },
      "source": [
        "**Predicting Range of Data Points**"
      ]
    },
    {
      "cell_type": "code",
      "metadata": {
        "colab": {
          "base_uri": "https://localhost:8080/",
          "height": 390
        },
        "id": "EHKxxKRMbXhG",
        "outputId": "300b37db-6346-4588-d58f-0eebd2580b38"
      },
      "source": [
        "df2 = df['2017-01-03 14:00:00':'2017-01-03 23:00:00']\n",
        "df2"
      ],
      "execution_count": 47,
      "outputs": [
        {
          "output_type": "execute_result",
          "data": {
            "text/html": [
              "<div>\n",
              "<style scoped>\n",
              "    .dataframe tbody tr th:only-of-type {\n",
              "        vertical-align: middle;\n",
              "    }\n",
              "\n",
              "    .dataframe tbody tr th {\n",
              "        vertical-align: top;\n",
              "    }\n",
              "\n",
              "    .dataframe thead th {\n",
              "        text-align: right;\n",
              "    }\n",
              "</style>\n",
              "<table border=\"1\" class=\"dataframe\">\n",
              "  <thead>\n",
              "    <tr style=\"text-align: right;\">\n",
              "      <th></th>\n",
              "      <th>cnt</th>\n",
              "      <th>t1</th>\n",
              "      <th>t2</th>\n",
              "      <th>hum</th>\n",
              "      <th>wind_speed</th>\n",
              "      <th>weather_code</th>\n",
              "      <th>is_holiday</th>\n",
              "      <th>is_weekend</th>\n",
              "      <th>season</th>\n",
              "      <th>hour</th>\n",
              "      <th>month</th>\n",
              "    </tr>\n",
              "    <tr>\n",
              "      <th>timestamp</th>\n",
              "      <th></th>\n",
              "      <th></th>\n",
              "      <th></th>\n",
              "      <th></th>\n",
              "      <th></th>\n",
              "      <th></th>\n",
              "      <th></th>\n",
              "      <th></th>\n",
              "      <th></th>\n",
              "      <th></th>\n",
              "      <th></th>\n",
              "    </tr>\n",
              "  </thead>\n",
              "  <tbody>\n",
              "    <tr>\n",
              "      <th>2017-01-03 14:00:00</th>\n",
              "      <td>0.097328</td>\n",
              "      <td>0.211268</td>\n",
              "      <td>0.2000</td>\n",
              "      <td>0.666667</td>\n",
              "      <td>0.389381</td>\n",
              "      <td>3.0</td>\n",
              "      <td>0.0</td>\n",
              "      <td>0.0</td>\n",
              "      <td>3.0</td>\n",
              "      <td>14</td>\n",
              "      <td>1</td>\n",
              "    </tr>\n",
              "    <tr>\n",
              "      <th>2017-01-03 15:00:00</th>\n",
              "      <td>0.107506</td>\n",
              "      <td>0.211268</td>\n",
              "      <td>0.2000</td>\n",
              "      <td>0.635220</td>\n",
              "      <td>0.477876</td>\n",
              "      <td>4.0</td>\n",
              "      <td>0.0</td>\n",
              "      <td>0.0</td>\n",
              "      <td>3.0</td>\n",
              "      <td>15</td>\n",
              "      <td>1</td>\n",
              "    </tr>\n",
              "    <tr>\n",
              "      <th>2017-01-03 16:00:00</th>\n",
              "      <td>0.152799</td>\n",
              "      <td>0.211268</td>\n",
              "      <td>0.2000</td>\n",
              "      <td>0.635220</td>\n",
              "      <td>0.460177</td>\n",
              "      <td>4.0</td>\n",
              "      <td>0.0</td>\n",
              "      <td>0.0</td>\n",
              "      <td>3.0</td>\n",
              "      <td>16</td>\n",
              "      <td>1</td>\n",
              "    </tr>\n",
              "    <tr>\n",
              "      <th>2017-01-03 17:00:00</th>\n",
              "      <td>0.348855</td>\n",
              "      <td>0.211268</td>\n",
              "      <td>0.2000</td>\n",
              "      <td>0.666667</td>\n",
              "      <td>0.371681</td>\n",
              "      <td>3.0</td>\n",
              "      <td>0.0</td>\n",
              "      <td>0.0</td>\n",
              "      <td>3.0</td>\n",
              "      <td>17</td>\n",
              "      <td>1</td>\n",
              "    </tr>\n",
              "    <tr>\n",
              "      <th>2017-01-03 18:00:00</th>\n",
              "      <td>0.282443</td>\n",
              "      <td>0.183099</td>\n",
              "      <td>0.1750</td>\n",
              "      <td>0.761006</td>\n",
              "      <td>0.389381</td>\n",
              "      <td>2.0</td>\n",
              "      <td>0.0</td>\n",
              "      <td>0.0</td>\n",
              "      <td>3.0</td>\n",
              "      <td>18</td>\n",
              "      <td>1</td>\n",
              "    </tr>\n",
              "    <tr>\n",
              "      <th>2017-01-03 19:00:00</th>\n",
              "      <td>0.132570</td>\n",
              "      <td>0.183099</td>\n",
              "      <td>0.1750</td>\n",
              "      <td>0.761006</td>\n",
              "      <td>0.336283</td>\n",
              "      <td>3.0</td>\n",
              "      <td>0.0</td>\n",
              "      <td>0.0</td>\n",
              "      <td>3.0</td>\n",
              "      <td>19</td>\n",
              "      <td>1</td>\n",
              "    </tr>\n",
              "    <tr>\n",
              "      <th>2017-01-03 20:00:00</th>\n",
              "      <td>0.068830</td>\n",
              "      <td>0.183099</td>\n",
              "      <td>0.1750</td>\n",
              "      <td>0.761006</td>\n",
              "      <td>0.371681</td>\n",
              "      <td>4.0</td>\n",
              "      <td>0.0</td>\n",
              "      <td>0.0</td>\n",
              "      <td>3.0</td>\n",
              "      <td>20</td>\n",
              "      <td>1</td>\n",
              "    </tr>\n",
              "    <tr>\n",
              "      <th>2017-01-03 21:00:00</th>\n",
              "      <td>0.042875</td>\n",
              "      <td>0.197183</td>\n",
              "      <td>0.1875</td>\n",
              "      <td>0.729560</td>\n",
              "      <td>0.424779</td>\n",
              "      <td>4.0</td>\n",
              "      <td>0.0</td>\n",
              "      <td>0.0</td>\n",
              "      <td>3.0</td>\n",
              "      <td>21</td>\n",
              "      <td>1</td>\n",
              "    </tr>\n",
              "    <tr>\n",
              "      <th>2017-01-03 22:00:00</th>\n",
              "      <td>0.028499</td>\n",
              "      <td>0.197183</td>\n",
              "      <td>0.1875</td>\n",
              "      <td>0.698113</td>\n",
              "      <td>0.407080</td>\n",
              "      <td>4.0</td>\n",
              "      <td>0.0</td>\n",
              "      <td>0.0</td>\n",
              "      <td>3.0</td>\n",
              "      <td>22</td>\n",
              "      <td>1</td>\n",
              "    </tr>\n",
              "    <tr>\n",
              "      <th>2017-01-03 23:00:00</th>\n",
              "      <td>0.017684</td>\n",
              "      <td>0.183099</td>\n",
              "      <td>0.1750</td>\n",
              "      <td>0.698113</td>\n",
              "      <td>0.389381</td>\n",
              "      <td>2.0</td>\n",
              "      <td>0.0</td>\n",
              "      <td>0.0</td>\n",
              "      <td>3.0</td>\n",
              "      <td>23</td>\n",
              "      <td>1</td>\n",
              "    </tr>\n",
              "  </tbody>\n",
              "</table>\n",
              "</div>"
            ],
            "text/plain": [
              "                          cnt        t1      t2  ...  season  hour  month\n",
              "timestamp                                        ...                     \n",
              "2017-01-03 14:00:00  0.097328  0.211268  0.2000  ...     3.0    14      1\n",
              "2017-01-03 15:00:00  0.107506  0.211268  0.2000  ...     3.0    15      1\n",
              "2017-01-03 16:00:00  0.152799  0.211268  0.2000  ...     3.0    16      1\n",
              "2017-01-03 17:00:00  0.348855  0.211268  0.2000  ...     3.0    17      1\n",
              "2017-01-03 18:00:00  0.282443  0.183099  0.1750  ...     3.0    18      1\n",
              "2017-01-03 19:00:00  0.132570  0.183099  0.1750  ...     3.0    19      1\n",
              "2017-01-03 20:00:00  0.068830  0.183099  0.1750  ...     3.0    20      1\n",
              "2017-01-03 21:00:00  0.042875  0.197183  0.1875  ...     3.0    21      1\n",
              "2017-01-03 22:00:00  0.028499  0.197183  0.1875  ...     3.0    22      1\n",
              "2017-01-03 23:00:00  0.017684  0.183099  0.1750  ...     3.0    23      1\n",
              "\n",
              "[10 rows x 11 columns]"
            ]
          },
          "metadata": {
            "tags": []
          },
          "execution_count": 47
        }
      ]
    },
    {
      "cell_type": "code",
      "metadata": {
        "colab": {
          "base_uri": "https://localhost:8080/",
          "height": 450
        },
        "id": "p7zLFCVZbYtq",
        "outputId": "090a386b-9eb2-40bb-c62b-3e51daa00951"
      },
      "source": [
        "df1 = df['2016-01-04 00:00:00':'2016-01-06 23:00:00']\n",
        "df1"
      ],
      "execution_count": 48,
      "outputs": [
        {
          "output_type": "execute_result",
          "data": {
            "text/html": [
              "<div>\n",
              "<style scoped>\n",
              "    .dataframe tbody tr th:only-of-type {\n",
              "        vertical-align: middle;\n",
              "    }\n",
              "\n",
              "    .dataframe tbody tr th {\n",
              "        vertical-align: top;\n",
              "    }\n",
              "\n",
              "    .dataframe thead th {\n",
              "        text-align: right;\n",
              "    }\n",
              "</style>\n",
              "<table border=\"1\" class=\"dataframe\">\n",
              "  <thead>\n",
              "    <tr style=\"text-align: right;\">\n",
              "      <th></th>\n",
              "      <th>cnt</th>\n",
              "      <th>t1</th>\n",
              "      <th>t2</th>\n",
              "      <th>hum</th>\n",
              "      <th>wind_speed</th>\n",
              "      <th>weather_code</th>\n",
              "      <th>is_holiday</th>\n",
              "      <th>is_weekend</th>\n",
              "      <th>season</th>\n",
              "      <th>hour</th>\n",
              "      <th>month</th>\n",
              "    </tr>\n",
              "    <tr>\n",
              "      <th>timestamp</th>\n",
              "      <th></th>\n",
              "      <th></th>\n",
              "      <th></th>\n",
              "      <th></th>\n",
              "      <th></th>\n",
              "      <th></th>\n",
              "      <th></th>\n",
              "      <th></th>\n",
              "      <th></th>\n",
              "      <th></th>\n",
              "      <th></th>\n",
              "    </tr>\n",
              "  </thead>\n",
              "  <tbody>\n",
              "    <tr>\n",
              "      <th>2016-01-04 00:00:00</th>\n",
              "      <td>0.010305</td>\n",
              "      <td>0.267606</td>\n",
              "      <td>0.3000</td>\n",
              "      <td>0.836478</td>\n",
              "      <td>0.176991</td>\n",
              "      <td>1.0</td>\n",
              "      <td>0.0</td>\n",
              "      <td>0.0</td>\n",
              "      <td>3.0</td>\n",
              "      <td>0</td>\n",
              "      <td>1</td>\n",
              "    </tr>\n",
              "    <tr>\n",
              "      <th>2016-01-04 01:00:00</th>\n",
              "      <td>0.007506</td>\n",
              "      <td>0.267606</td>\n",
              "      <td>0.3000</td>\n",
              "      <td>0.805031</td>\n",
              "      <td>0.230088</td>\n",
              "      <td>1.0</td>\n",
              "      <td>0.0</td>\n",
              "      <td>0.0</td>\n",
              "      <td>3.0</td>\n",
              "      <td>1</td>\n",
              "      <td>1</td>\n",
              "    </tr>\n",
              "    <tr>\n",
              "      <th>2016-01-04 02:00:00</th>\n",
              "      <td>0.004326</td>\n",
              "      <td>0.267606</td>\n",
              "      <td>0.3000</td>\n",
              "      <td>0.773585</td>\n",
              "      <td>0.194690</td>\n",
              "      <td>1.0</td>\n",
              "      <td>0.0</td>\n",
              "      <td>0.0</td>\n",
              "      <td>3.0</td>\n",
              "      <td>2</td>\n",
              "      <td>1</td>\n",
              "    </tr>\n",
              "    <tr>\n",
              "      <th>2016-01-04 03:00:00</th>\n",
              "      <td>0.003181</td>\n",
              "      <td>0.267606</td>\n",
              "      <td>0.3000</td>\n",
              "      <td>0.773585</td>\n",
              "      <td>0.212389</td>\n",
              "      <td>2.0</td>\n",
              "      <td>0.0</td>\n",
              "      <td>0.0</td>\n",
              "      <td>3.0</td>\n",
              "      <td>3</td>\n",
              "      <td>1</td>\n",
              "    </tr>\n",
              "    <tr>\n",
              "      <th>2016-01-04 04:00:00</th>\n",
              "      <td>0.004707</td>\n",
              "      <td>0.267606</td>\n",
              "      <td>0.3000</td>\n",
              "      <td>0.773585</td>\n",
              "      <td>0.176991</td>\n",
              "      <td>2.0</td>\n",
              "      <td>0.0</td>\n",
              "      <td>0.0</td>\n",
              "      <td>3.0</td>\n",
              "      <td>4</td>\n",
              "      <td>1</td>\n",
              "    </tr>\n",
              "    <tr>\n",
              "      <th>...</th>\n",
              "      <td>...</td>\n",
              "      <td>...</td>\n",
              "      <td>...</td>\n",
              "      <td>...</td>\n",
              "      <td>...</td>\n",
              "      <td>...</td>\n",
              "      <td>...</td>\n",
              "      <td>...</td>\n",
              "      <td>...</td>\n",
              "      <td>...</td>\n",
              "      <td>...</td>\n",
              "    </tr>\n",
              "    <tr>\n",
              "      <th>2016-01-06 19:00:00</th>\n",
              "      <td>0.191476</td>\n",
              "      <td>0.239437</td>\n",
              "      <td>0.3000</td>\n",
              "      <td>0.874214</td>\n",
              "      <td>0.123894</td>\n",
              "      <td>2.0</td>\n",
              "      <td>0.0</td>\n",
              "      <td>0.0</td>\n",
              "      <td>3.0</td>\n",
              "      <td>19</td>\n",
              "      <td>1</td>\n",
              "    </tr>\n",
              "    <tr>\n",
              "      <th>2016-01-06 20:00:00</th>\n",
              "      <td>0.106107</td>\n",
              "      <td>0.239437</td>\n",
              "      <td>0.3000</td>\n",
              "      <td>0.836478</td>\n",
              "      <td>0.115044</td>\n",
              "      <td>2.0</td>\n",
              "      <td>0.0</td>\n",
              "      <td>0.0</td>\n",
              "      <td>3.0</td>\n",
              "      <td>20</td>\n",
              "      <td>1</td>\n",
              "    </tr>\n",
              "    <tr>\n",
              "      <th>2016-01-06 21:00:00</th>\n",
              "      <td>0.069720</td>\n",
              "      <td>0.211268</td>\n",
              "      <td>0.2625</td>\n",
              "      <td>0.911950</td>\n",
              "      <td>0.115044</td>\n",
              "      <td>2.0</td>\n",
              "      <td>0.0</td>\n",
              "      <td>0.0</td>\n",
              "      <td>3.0</td>\n",
              "      <td>21</td>\n",
              "      <td>1</td>\n",
              "    </tr>\n",
              "    <tr>\n",
              "      <th>2016-01-06 22:00:00</th>\n",
              "      <td>0.050000</td>\n",
              "      <td>0.211268</td>\n",
              "      <td>0.2500</td>\n",
              "      <td>0.911950</td>\n",
              "      <td>0.159292</td>\n",
              "      <td>2.0</td>\n",
              "      <td>0.0</td>\n",
              "      <td>0.0</td>\n",
              "      <td>3.0</td>\n",
              "      <td>22</td>\n",
              "      <td>1</td>\n",
              "    </tr>\n",
              "    <tr>\n",
              "      <th>2016-01-06 23:00:00</th>\n",
              "      <td>0.031934</td>\n",
              "      <td>0.225352</td>\n",
              "      <td>0.2500</td>\n",
              "      <td>0.874214</td>\n",
              "      <td>0.212389</td>\n",
              "      <td>2.0</td>\n",
              "      <td>0.0</td>\n",
              "      <td>0.0</td>\n",
              "      <td>3.0</td>\n",
              "      <td>23</td>\n",
              "      <td>1</td>\n",
              "    </tr>\n",
              "  </tbody>\n",
              "</table>\n",
              "<p>72 rows × 11 columns</p>\n",
              "</div>"
            ],
            "text/plain": [
              "                          cnt        t1      t2  ...  season  hour  month\n",
              "timestamp                                        ...                     \n",
              "2016-01-04 00:00:00  0.010305  0.267606  0.3000  ...     3.0     0      1\n",
              "2016-01-04 01:00:00  0.007506  0.267606  0.3000  ...     3.0     1      1\n",
              "2016-01-04 02:00:00  0.004326  0.267606  0.3000  ...     3.0     2      1\n",
              "2016-01-04 03:00:00  0.003181  0.267606  0.3000  ...     3.0     3      1\n",
              "2016-01-04 04:00:00  0.004707  0.267606  0.3000  ...     3.0     4      1\n",
              "...                       ...       ...     ...  ...     ...   ...    ...\n",
              "2016-01-06 19:00:00  0.191476  0.239437  0.3000  ...     3.0    19      1\n",
              "2016-01-06 20:00:00  0.106107  0.239437  0.3000  ...     3.0    20      1\n",
              "2016-01-06 21:00:00  0.069720  0.211268  0.2625  ...     3.0    21      1\n",
              "2016-01-06 22:00:00  0.050000  0.211268  0.2500  ...     3.0    22      1\n",
              "2016-01-06 23:00:00  0.031934  0.225352  0.2500  ...     3.0    23      1\n",
              "\n",
              "[72 rows x 11 columns]"
            ]
          },
          "metadata": {
            "tags": []
          },
          "execution_count": 48
        }
      ]
    },
    {
      "cell_type": "code",
      "metadata": {
        "colab": {
          "base_uri": "https://localhost:8080/",
          "height": 572
        },
        "id": "f3xtiYKVbYrT",
        "outputId": "e2d4d750-c2c8-43a0-d690-7e3821836cae"
      },
      "source": [
        "df1['cnt'] = 0\n",
        "df1"
      ],
      "execution_count": 50,
      "outputs": [
        {
          "output_type": "stream",
          "text": [
            "/usr/local/lib/python3.7/dist-packages/ipykernel_launcher.py:1: SettingWithCopyWarning: \n",
            "A value is trying to be set on a copy of a slice from a DataFrame.\n",
            "Try using .loc[row_indexer,col_indexer] = value instead\n",
            "\n",
            "See the caveats in the documentation: https://pandas.pydata.org/pandas-docs/stable/user_guide/indexing.html#returning-a-view-versus-a-copy\n",
            "  \"\"\"Entry point for launching an IPython kernel.\n"
          ],
          "name": "stderr"
        },
        {
          "output_type": "execute_result",
          "data": {
            "text/html": [
              "<div>\n",
              "<style scoped>\n",
              "    .dataframe tbody tr th:only-of-type {\n",
              "        vertical-align: middle;\n",
              "    }\n",
              "\n",
              "    .dataframe tbody tr th {\n",
              "        vertical-align: top;\n",
              "    }\n",
              "\n",
              "    .dataframe thead th {\n",
              "        text-align: right;\n",
              "    }\n",
              "</style>\n",
              "<table border=\"1\" class=\"dataframe\">\n",
              "  <thead>\n",
              "    <tr style=\"text-align: right;\">\n",
              "      <th></th>\n",
              "      <th>cnt</th>\n",
              "      <th>t1</th>\n",
              "      <th>t2</th>\n",
              "      <th>hum</th>\n",
              "      <th>wind_speed</th>\n",
              "      <th>weather_code</th>\n",
              "      <th>is_holiday</th>\n",
              "      <th>is_weekend</th>\n",
              "      <th>season</th>\n",
              "      <th>hour</th>\n",
              "      <th>month</th>\n",
              "    </tr>\n",
              "    <tr>\n",
              "      <th>timestamp</th>\n",
              "      <th></th>\n",
              "      <th></th>\n",
              "      <th></th>\n",
              "      <th></th>\n",
              "      <th></th>\n",
              "      <th></th>\n",
              "      <th></th>\n",
              "      <th></th>\n",
              "      <th></th>\n",
              "      <th></th>\n",
              "      <th></th>\n",
              "    </tr>\n",
              "  </thead>\n",
              "  <tbody>\n",
              "    <tr>\n",
              "      <th>2016-01-04 00:00:00</th>\n",
              "      <td>0</td>\n",
              "      <td>0.267606</td>\n",
              "      <td>0.3000</td>\n",
              "      <td>0.836478</td>\n",
              "      <td>0.176991</td>\n",
              "      <td>1.0</td>\n",
              "      <td>0.0</td>\n",
              "      <td>0.0</td>\n",
              "      <td>3.0</td>\n",
              "      <td>0</td>\n",
              "      <td>1</td>\n",
              "    </tr>\n",
              "    <tr>\n",
              "      <th>2016-01-04 01:00:00</th>\n",
              "      <td>0</td>\n",
              "      <td>0.267606</td>\n",
              "      <td>0.3000</td>\n",
              "      <td>0.805031</td>\n",
              "      <td>0.230088</td>\n",
              "      <td>1.0</td>\n",
              "      <td>0.0</td>\n",
              "      <td>0.0</td>\n",
              "      <td>3.0</td>\n",
              "      <td>1</td>\n",
              "      <td>1</td>\n",
              "    </tr>\n",
              "    <tr>\n",
              "      <th>2016-01-04 02:00:00</th>\n",
              "      <td>0</td>\n",
              "      <td>0.267606</td>\n",
              "      <td>0.3000</td>\n",
              "      <td>0.773585</td>\n",
              "      <td>0.194690</td>\n",
              "      <td>1.0</td>\n",
              "      <td>0.0</td>\n",
              "      <td>0.0</td>\n",
              "      <td>3.0</td>\n",
              "      <td>2</td>\n",
              "      <td>1</td>\n",
              "    </tr>\n",
              "    <tr>\n",
              "      <th>2016-01-04 03:00:00</th>\n",
              "      <td>0</td>\n",
              "      <td>0.267606</td>\n",
              "      <td>0.3000</td>\n",
              "      <td>0.773585</td>\n",
              "      <td>0.212389</td>\n",
              "      <td>2.0</td>\n",
              "      <td>0.0</td>\n",
              "      <td>0.0</td>\n",
              "      <td>3.0</td>\n",
              "      <td>3</td>\n",
              "      <td>1</td>\n",
              "    </tr>\n",
              "    <tr>\n",
              "      <th>2016-01-04 04:00:00</th>\n",
              "      <td>0</td>\n",
              "      <td>0.267606</td>\n",
              "      <td>0.3000</td>\n",
              "      <td>0.773585</td>\n",
              "      <td>0.176991</td>\n",
              "      <td>2.0</td>\n",
              "      <td>0.0</td>\n",
              "      <td>0.0</td>\n",
              "      <td>3.0</td>\n",
              "      <td>4</td>\n",
              "      <td>1</td>\n",
              "    </tr>\n",
              "    <tr>\n",
              "      <th>...</th>\n",
              "      <td>...</td>\n",
              "      <td>...</td>\n",
              "      <td>...</td>\n",
              "      <td>...</td>\n",
              "      <td>...</td>\n",
              "      <td>...</td>\n",
              "      <td>...</td>\n",
              "      <td>...</td>\n",
              "      <td>...</td>\n",
              "      <td>...</td>\n",
              "      <td>...</td>\n",
              "    </tr>\n",
              "    <tr>\n",
              "      <th>2016-01-06 19:00:00</th>\n",
              "      <td>0</td>\n",
              "      <td>0.239437</td>\n",
              "      <td>0.3000</td>\n",
              "      <td>0.874214</td>\n",
              "      <td>0.123894</td>\n",
              "      <td>2.0</td>\n",
              "      <td>0.0</td>\n",
              "      <td>0.0</td>\n",
              "      <td>3.0</td>\n",
              "      <td>19</td>\n",
              "      <td>1</td>\n",
              "    </tr>\n",
              "    <tr>\n",
              "      <th>2016-01-06 20:00:00</th>\n",
              "      <td>0</td>\n",
              "      <td>0.239437</td>\n",
              "      <td>0.3000</td>\n",
              "      <td>0.836478</td>\n",
              "      <td>0.115044</td>\n",
              "      <td>2.0</td>\n",
              "      <td>0.0</td>\n",
              "      <td>0.0</td>\n",
              "      <td>3.0</td>\n",
              "      <td>20</td>\n",
              "      <td>1</td>\n",
              "    </tr>\n",
              "    <tr>\n",
              "      <th>2016-01-06 21:00:00</th>\n",
              "      <td>0</td>\n",
              "      <td>0.211268</td>\n",
              "      <td>0.2625</td>\n",
              "      <td>0.911950</td>\n",
              "      <td>0.115044</td>\n",
              "      <td>2.0</td>\n",
              "      <td>0.0</td>\n",
              "      <td>0.0</td>\n",
              "      <td>3.0</td>\n",
              "      <td>21</td>\n",
              "      <td>1</td>\n",
              "    </tr>\n",
              "    <tr>\n",
              "      <th>2016-01-06 22:00:00</th>\n",
              "      <td>0</td>\n",
              "      <td>0.211268</td>\n",
              "      <td>0.2500</td>\n",
              "      <td>0.911950</td>\n",
              "      <td>0.159292</td>\n",
              "      <td>2.0</td>\n",
              "      <td>0.0</td>\n",
              "      <td>0.0</td>\n",
              "      <td>3.0</td>\n",
              "      <td>22</td>\n",
              "      <td>1</td>\n",
              "    </tr>\n",
              "    <tr>\n",
              "      <th>2016-01-06 23:00:00</th>\n",
              "      <td>0</td>\n",
              "      <td>0.225352</td>\n",
              "      <td>0.2500</td>\n",
              "      <td>0.874214</td>\n",
              "      <td>0.212389</td>\n",
              "      <td>2.0</td>\n",
              "      <td>0.0</td>\n",
              "      <td>0.0</td>\n",
              "      <td>3.0</td>\n",
              "      <td>23</td>\n",
              "      <td>1</td>\n",
              "    </tr>\n",
              "  </tbody>\n",
              "</table>\n",
              "<p>72 rows × 11 columns</p>\n",
              "</div>"
            ],
            "text/plain": [
              "                     cnt        t1      t2  ...  season  hour  month\n",
              "timestamp                                   ...                     \n",
              "2016-01-04 00:00:00    0  0.267606  0.3000  ...     3.0     0      1\n",
              "2016-01-04 01:00:00    0  0.267606  0.3000  ...     3.0     1      1\n",
              "2016-01-04 02:00:00    0  0.267606  0.3000  ...     3.0     2      1\n",
              "2016-01-04 03:00:00    0  0.267606  0.3000  ...     3.0     3      1\n",
              "2016-01-04 04:00:00    0  0.267606  0.3000  ...     3.0     4      1\n",
              "...                  ...       ...     ...  ...     ...   ...    ...\n",
              "2016-01-06 19:00:00    0  0.239437  0.3000  ...     3.0    19      1\n",
              "2016-01-06 20:00:00    0  0.239437  0.3000  ...     3.0    20      1\n",
              "2016-01-06 21:00:00    0  0.211268  0.2625  ...     3.0    21      1\n",
              "2016-01-06 22:00:00    0  0.211268  0.2500  ...     3.0    22      1\n",
              "2016-01-06 23:00:00    0  0.225352  0.2500  ...     3.0    23      1\n",
              "\n",
              "[72 rows x 11 columns]"
            ]
          },
          "metadata": {
            "tags": []
          },
          "execution_count": 50
        }
      ]
    },
    {
      "cell_type": "code",
      "metadata": {
        "id": "P_CMJjYVbYpQ"
      },
      "source": [
        "df_future = df2.append(df1, sort = False)"
      ],
      "execution_count": 52,
      "outputs": []
    },
    {
      "cell_type": "code",
      "metadata": {
        "colab": {
          "base_uri": "https://localhost:8080/",
          "height": 450
        },
        "id": "b_5-tJnJcVM3",
        "outputId": "40dd0b05-9dec-46a9-c922-3effa39269b4"
      },
      "source": [
        "df_future"
      ],
      "execution_count": 53,
      "outputs": [
        {
          "output_type": "execute_result",
          "data": {
            "text/html": [
              "<div>\n",
              "<style scoped>\n",
              "    .dataframe tbody tr th:only-of-type {\n",
              "        vertical-align: middle;\n",
              "    }\n",
              "\n",
              "    .dataframe tbody tr th {\n",
              "        vertical-align: top;\n",
              "    }\n",
              "\n",
              "    .dataframe thead th {\n",
              "        text-align: right;\n",
              "    }\n",
              "</style>\n",
              "<table border=\"1\" class=\"dataframe\">\n",
              "  <thead>\n",
              "    <tr style=\"text-align: right;\">\n",
              "      <th></th>\n",
              "      <th>cnt</th>\n",
              "      <th>t1</th>\n",
              "      <th>t2</th>\n",
              "      <th>hum</th>\n",
              "      <th>wind_speed</th>\n",
              "      <th>weather_code</th>\n",
              "      <th>is_holiday</th>\n",
              "      <th>is_weekend</th>\n",
              "      <th>season</th>\n",
              "      <th>hour</th>\n",
              "      <th>month</th>\n",
              "    </tr>\n",
              "    <tr>\n",
              "      <th>timestamp</th>\n",
              "      <th></th>\n",
              "      <th></th>\n",
              "      <th></th>\n",
              "      <th></th>\n",
              "      <th></th>\n",
              "      <th></th>\n",
              "      <th></th>\n",
              "      <th></th>\n",
              "      <th></th>\n",
              "      <th></th>\n",
              "      <th></th>\n",
              "    </tr>\n",
              "  </thead>\n",
              "  <tbody>\n",
              "    <tr>\n",
              "      <th>2017-01-03 14:00:00</th>\n",
              "      <td>0.097328</td>\n",
              "      <td>0.211268</td>\n",
              "      <td>0.2000</td>\n",
              "      <td>0.666667</td>\n",
              "      <td>0.389381</td>\n",
              "      <td>3.0</td>\n",
              "      <td>0.0</td>\n",
              "      <td>0.0</td>\n",
              "      <td>3.0</td>\n",
              "      <td>14</td>\n",
              "      <td>1</td>\n",
              "    </tr>\n",
              "    <tr>\n",
              "      <th>2017-01-03 15:00:00</th>\n",
              "      <td>0.107506</td>\n",
              "      <td>0.211268</td>\n",
              "      <td>0.2000</td>\n",
              "      <td>0.635220</td>\n",
              "      <td>0.477876</td>\n",
              "      <td>4.0</td>\n",
              "      <td>0.0</td>\n",
              "      <td>0.0</td>\n",
              "      <td>3.0</td>\n",
              "      <td>15</td>\n",
              "      <td>1</td>\n",
              "    </tr>\n",
              "    <tr>\n",
              "      <th>2017-01-03 16:00:00</th>\n",
              "      <td>0.152799</td>\n",
              "      <td>0.211268</td>\n",
              "      <td>0.2000</td>\n",
              "      <td>0.635220</td>\n",
              "      <td>0.460177</td>\n",
              "      <td>4.0</td>\n",
              "      <td>0.0</td>\n",
              "      <td>0.0</td>\n",
              "      <td>3.0</td>\n",
              "      <td>16</td>\n",
              "      <td>1</td>\n",
              "    </tr>\n",
              "    <tr>\n",
              "      <th>2017-01-03 17:00:00</th>\n",
              "      <td>0.348855</td>\n",
              "      <td>0.211268</td>\n",
              "      <td>0.2000</td>\n",
              "      <td>0.666667</td>\n",
              "      <td>0.371681</td>\n",
              "      <td>3.0</td>\n",
              "      <td>0.0</td>\n",
              "      <td>0.0</td>\n",
              "      <td>3.0</td>\n",
              "      <td>17</td>\n",
              "      <td>1</td>\n",
              "    </tr>\n",
              "    <tr>\n",
              "      <th>2017-01-03 18:00:00</th>\n",
              "      <td>0.282443</td>\n",
              "      <td>0.183099</td>\n",
              "      <td>0.1750</td>\n",
              "      <td>0.761006</td>\n",
              "      <td>0.389381</td>\n",
              "      <td>2.0</td>\n",
              "      <td>0.0</td>\n",
              "      <td>0.0</td>\n",
              "      <td>3.0</td>\n",
              "      <td>18</td>\n",
              "      <td>1</td>\n",
              "    </tr>\n",
              "    <tr>\n",
              "      <th>...</th>\n",
              "      <td>...</td>\n",
              "      <td>...</td>\n",
              "      <td>...</td>\n",
              "      <td>...</td>\n",
              "      <td>...</td>\n",
              "      <td>...</td>\n",
              "      <td>...</td>\n",
              "      <td>...</td>\n",
              "      <td>...</td>\n",
              "      <td>...</td>\n",
              "      <td>...</td>\n",
              "    </tr>\n",
              "    <tr>\n",
              "      <th>2016-01-06 19:00:00</th>\n",
              "      <td>0.000000</td>\n",
              "      <td>0.239437</td>\n",
              "      <td>0.3000</td>\n",
              "      <td>0.874214</td>\n",
              "      <td>0.123894</td>\n",
              "      <td>2.0</td>\n",
              "      <td>0.0</td>\n",
              "      <td>0.0</td>\n",
              "      <td>3.0</td>\n",
              "      <td>19</td>\n",
              "      <td>1</td>\n",
              "    </tr>\n",
              "    <tr>\n",
              "      <th>2016-01-06 20:00:00</th>\n",
              "      <td>0.000000</td>\n",
              "      <td>0.239437</td>\n",
              "      <td>0.3000</td>\n",
              "      <td>0.836478</td>\n",
              "      <td>0.115044</td>\n",
              "      <td>2.0</td>\n",
              "      <td>0.0</td>\n",
              "      <td>0.0</td>\n",
              "      <td>3.0</td>\n",
              "      <td>20</td>\n",
              "      <td>1</td>\n",
              "    </tr>\n",
              "    <tr>\n",
              "      <th>2016-01-06 21:00:00</th>\n",
              "      <td>0.000000</td>\n",
              "      <td>0.211268</td>\n",
              "      <td>0.2625</td>\n",
              "      <td>0.911950</td>\n",
              "      <td>0.115044</td>\n",
              "      <td>2.0</td>\n",
              "      <td>0.0</td>\n",
              "      <td>0.0</td>\n",
              "      <td>3.0</td>\n",
              "      <td>21</td>\n",
              "      <td>1</td>\n",
              "    </tr>\n",
              "    <tr>\n",
              "      <th>2016-01-06 22:00:00</th>\n",
              "      <td>0.000000</td>\n",
              "      <td>0.211268</td>\n",
              "      <td>0.2500</td>\n",
              "      <td>0.911950</td>\n",
              "      <td>0.159292</td>\n",
              "      <td>2.0</td>\n",
              "      <td>0.0</td>\n",
              "      <td>0.0</td>\n",
              "      <td>3.0</td>\n",
              "      <td>22</td>\n",
              "      <td>1</td>\n",
              "    </tr>\n",
              "    <tr>\n",
              "      <th>2016-01-06 23:00:00</th>\n",
              "      <td>0.000000</td>\n",
              "      <td>0.225352</td>\n",
              "      <td>0.2500</td>\n",
              "      <td>0.874214</td>\n",
              "      <td>0.212389</td>\n",
              "      <td>2.0</td>\n",
              "      <td>0.0</td>\n",
              "      <td>0.0</td>\n",
              "      <td>3.0</td>\n",
              "      <td>23</td>\n",
              "      <td>1</td>\n",
              "    </tr>\n",
              "  </tbody>\n",
              "</table>\n",
              "<p>82 rows × 11 columns</p>\n",
              "</div>"
            ],
            "text/plain": [
              "                          cnt        t1      t2  ...  season  hour  month\n",
              "timestamp                                        ...                     \n",
              "2017-01-03 14:00:00  0.097328  0.211268  0.2000  ...     3.0    14      1\n",
              "2017-01-03 15:00:00  0.107506  0.211268  0.2000  ...     3.0    15      1\n",
              "2017-01-03 16:00:00  0.152799  0.211268  0.2000  ...     3.0    16      1\n",
              "2017-01-03 17:00:00  0.348855  0.211268  0.2000  ...     3.0    17      1\n",
              "2017-01-03 18:00:00  0.282443  0.183099  0.1750  ...     3.0    18      1\n",
              "...                       ...       ...     ...  ...     ...   ...    ...\n",
              "2016-01-06 19:00:00  0.000000  0.239437  0.3000  ...     3.0    19      1\n",
              "2016-01-06 20:00:00  0.000000  0.239437  0.3000  ...     3.0    20      1\n",
              "2016-01-06 21:00:00  0.000000  0.211268  0.2625  ...     3.0    21      1\n",
              "2016-01-06 22:00:00  0.000000  0.211268  0.2500  ...     3.0    22      1\n",
              "2016-01-06 23:00:00  0.000000  0.225352  0.2500  ...     3.0    23      1\n",
              "\n",
              "[82 rows x 11 columns]"
            ]
          },
          "metadata": {
            "tags": []
          },
          "execution_count": 53
        }
      ]
    },
    {
      "cell_type": "code",
      "metadata": {
        "colab": {
          "base_uri": "https://localhost:8080/"
        },
        "id": "WHBt0NDbbYm4",
        "outputId": "aff3c03f-56b7-43f8-e934-ec68a803ebbc"
      },
      "source": [
        "predictions = []\n",
        "\n",
        "# make prediction in a loop every time adding the last prediction\n",
        "for i in range(50):\n",
        "  X_f, y_f = create_dataset(df_future, df_future.cnt, time_steps)\n",
        "  y_pred = simple_lstm_model.predict(X_f[i:i+1])\n",
        "  df_future['cnt'][i+10] = y_pred\n",
        "  predictions.append(float(y_pred[0][0]))"
      ],
      "execution_count": 54,
      "outputs": [
        {
          "output_type": "stream",
          "text": [
            "/usr/local/lib/python3.7/dist-packages/ipykernel_launcher.py:7: SettingWithCopyWarning: \n",
            "A value is trying to be set on a copy of a slice from a DataFrame\n",
            "\n",
            "See the caveats in the documentation: https://pandas.pydata.org/pandas-docs/stable/user_guide/indexing.html#returning-a-view-versus-a-copy\n",
            "  import sys\n"
          ],
          "name": "stderr"
        }
      ]
    },
    {
      "cell_type": "code",
      "metadata": {
        "colab": {
          "base_uri": "https://localhost:8080/",
          "height": 279
        },
        "id": "H-r-Tca7bYk6",
        "outputId": "065b83bd-4665-4401-9254-ca0b41357f74"
      },
      "source": [
        "plt.figure(figsize = (16,4))\n",
        "\n",
        "num_in = create_time_steps(100)\n",
        "num_out = 50\n",
        "\n",
        "plt.plot(num_in,y_test[-100:],label = 'History')\n",
        "plt.plot(np.arange(num_out), predictions, 'r',label = 'Predicted')\n",
        "\n",
        "plt.xlabel(\"Time\")\n",
        "plt.ylabel(\"bike shares (Normalized Value)\")\n",
        "plt.legend()\n",
        "plt.show()"
      ],
      "execution_count": 55,
      "outputs": [
        {
          "output_type": "display_data",
          "data": {
            "image/png": "[encoded data removed]",
            "text/plain": [
              "<Figure size 1152x288 with 1 Axes>"
            ]
          },
          "metadata": {
            "tags": [],
            "needs_background": "light"
          }
        }
      ]
    },
    {
      "cell_type": "markdown",
      "metadata": {
        "id": "fuoYPbEDg05Z"
      },
      "source": [
        "---"
      ]
    },
    {
      "cell_type": "code",
      "metadata": {
        "id": "DYTyfG_NgZhH"
      },
      "source": [
        ""
      ],
      "execution_count": null,
      "outputs": []
    }
  ]
}