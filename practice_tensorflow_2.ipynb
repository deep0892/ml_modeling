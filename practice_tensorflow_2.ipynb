{
  "nbformat": 4,
  "nbformat_minor": 0,
  "metadata": {
    "colab": {
      "name": "practice_tensorflow_2.ipynb",
      "provenance": []
    },
    "kernelspec": {
      "name": "python3",
      "display_name": "Python 3"
    },
    "language_info": {
      "name": "python"
    }
  },
  "cells": [
    {
      "cell_type": "markdown",
      "metadata": {
        "id": "Vt8PDfJdOOe9"
      },
      "source": [
        "Tensor Flow model structure for a basic regression problem:"
      ]
    },
    {
      "cell_type": "code",
      "metadata": {
        "id": "Q5YCDfoLFZ2E"
      },
      "source": [
        "import numpy as np\n",
        "import matplotlib.pyplot as plt\n",
        "\n",
        "import tensorflow as tf\n",
        "from tensorflow import keras\n",
        "from tensorflow.keras.callbacks import History"
      ],
      "execution_count": 20,
      "outputs": []
    },
    {
      "cell_type": "code",
      "metadata": {
        "colab": {
          "base_uri": "https://localhost:8080/"
        },
        "id": "8Dc_WoRQFr9m",
        "outputId": "131044c7-760f-44fc-8201-e92335778e4c"
      },
      "source": [
        "number_of_datapoints = 100\n",
        "# generate random x values in the range -5 to +5\n",
        "x = np.random.uniform(low = -5 , high = 5 , size = (number_of_datapoints, 1))\n",
        "x.shape"
      ],
      "execution_count": 8,
      "outputs": [
        {
          "output_type": "execute_result",
          "data": {
            "text/plain": [
              "(100, 1)"
            ]
          },
          "metadata": {
            "tags": []
          },
          "execution_count": 8
        }
      ]
    },
    {
      "cell_type": "code",
      "metadata": {
        "colab": {
          "base_uri": "https://localhost:8080/"
        },
        "id": "wHG69RXEGEG0",
        "outputId": "3ba0ed0b-5f01-4c97-b8e2-dc68e472b55d"
      },
      "source": [
        "x[:5,:].round(2)"
      ],
      "execution_count": 9,
      "outputs": [
        {
          "output_type": "execute_result",
          "data": {
            "text/plain": [
              "array([[-0.73],\n",
              "       [ 2.39],\n",
              "       [-1.03],\n",
              "       [-2.65],\n",
              "       [-3.51]])"
            ]
          },
          "metadata": {
            "tags": []
          },
          "execution_count": 9
        }
      ]
    },
    {
      "cell_type": "code",
      "metadata": {
        "id": "Vbxdsgc-Ge54"
      },
      "source": [
        "y = np.random.uniform(-5 , 5 , size = (number_of_datapoints , 1))\n",
        "z = 7 * x + 6 * y + 5"
      ],
      "execution_count": 12,
      "outputs": []
    },
    {
      "cell_type": "code",
      "metadata": {
        "colab": {
          "base_uri": "https://localhost:8080/"
        },
        "id": "GkQFeKMZGsc3",
        "outputId": "8ad504c5-ae1d-4dd6-8c4b-300bf7669be3"
      },
      "source": [
        "noise = np.random.uniform(low =-1 , high =1, size = (number_of_datapoints, 1))\n",
        "z = 7 * x + 6 * y + 5 + noise\n",
        "z.shape"
      ],
      "execution_count": 30,
      "outputs": [
        {
          "output_type": "execute_result",
          "data": {
            "text/plain": [
              "(100, 1)"
            ]
          },
          "metadata": {
            "tags": []
          },
          "execution_count": 30
        }
      ]
    },
    {
      "cell_type": "code",
      "metadata": {
        "colab": {
          "base_uri": "https://localhost:8080/"
        },
        "id": "Nec605GlGxSX",
        "outputId": "901bb956-13bb-4b71-e2cf-4135c4c47009"
      },
      "source": [
        "input = np.column_stack((x,y))\n",
        "input.shape"
      ],
      "execution_count": 31,
      "outputs": [
        {
          "output_type": "execute_result",
          "data": {
            "text/plain": [
              "(100, 2)"
            ]
          },
          "metadata": {
            "tags": []
          },
          "execution_count": 31
        }
      ]
    },
    {
      "cell_type": "markdown",
      "metadata": {
        "id": "1Nxn0k38G_5b"
      },
      "source": [
        "***Defining Neural Network***"
      ]
    },
    {
      "cell_type": "code",
      "metadata": {
        "id": "nSHu8chYG7jq"
      },
      "source": [
        "model = tf.keras.Sequential([keras.layers.Dense(units=1, input_shape=input.shape)])"
      ],
      "execution_count": 32,
      "outputs": []
    },
    {
      "cell_type": "markdown",
      "metadata": {
        "id": "LeI96nkCH0f7"
      },
      "source": [
        "**Compiling Model**\n",
        "<br>\n",
        "To train a model, we first need to define a learning process. The model\n",
        "compilation is a way of setting up its learning process. The learning process itself consists of a few components:\n",
        "*   Objective loss function\n",
        "*   Optimizer\n",
        "*   Metrics"
      ]
    },
    {
      "cell_type": "code",
      "metadata": {
        "colab": {
          "base_uri": "https://localhost:8080/"
        },
        "id": "kpLf1o9yHGPZ",
        "outputId": "fd15dc9c-942c-4c40-d2dd-cfa978124aa1"
      },
      "source": [
        "model.compile(optimizer = 'sgd',  loss = 'mean_squared_error', metrics = ['mse'] )\n",
        "model.summary()"
      ],
      "execution_count": 33,
      "outputs": [
        {
          "output_type": "stream",
          "text": [
            "Model: \"sequential_3\"\n",
            "_________________________________________________________________\n",
            "Layer (type)                 Output Shape              Param #   \n",
            "=================================================================\n",
            "dense_3 (Dense)              (None, 100, 1)            3         \n",
            "=================================================================\n",
            "Total params: 3\n",
            "Trainable params: 3\n",
            "Non-trainable params: 0\n",
            "_________________________________________________________________\n"
          ],
          "name": "stdout"
        }
      ]
    },
    {
      "cell_type": "code",
      "metadata": {
        "id": "6B7HCkNpJE_G"
      },
      "source": [
        "history = History()"
      ],
      "execution_count": 34,
      "outputs": []
    },
    {
      "cell_type": "code",
      "metadata": {
        "colab": {
          "base_uri": "https://localhost:8080/"
        },
        "id": "ngG-33PCLoRs",
        "outputId": "043061c2-45ea-4977-e685-dc7fc16ea79e"
      },
      "source": [
        "model.fit(input, z, epochs = 100, verbose = 1, validation_split = 0.2, callbacks = [history])"
      ],
      "execution_count": 37,
      "outputs": [
        {
          "output_type": "stream",
          "text": [
            "Epoch 1/100\n",
            "3/3 [==============================] - 0s 42ms/step - loss: 0.4674 - mse: 0.4674 - val_loss: 0.4303 - val_mse: 0.4303\n",
            "Epoch 2/100\n",
            "3/3 [==============================] - 0s 18ms/step - loss: 0.4525 - mse: 0.4525 - val_loss: 0.4139 - val_mse: 0.4139\n",
            "Epoch 3/100\n",
            "3/3 [==============================] - 0s 18ms/step - loss: 0.4375 - mse: 0.4375 - val_loss: 0.3955 - val_mse: 0.3955\n",
            "Epoch 4/100\n",
            "3/3 [==============================] - 0s 18ms/step - loss: 0.4240 - mse: 0.4240 - val_loss: 0.3829 - val_mse: 0.3829\n",
            "Epoch 5/100\n",
            "3/3 [==============================] - 0s 17ms/step - loss: 0.4056 - mse: 0.4056 - val_loss: 0.3760 - val_mse: 0.3760\n",
            "Epoch 6/100\n",
            "3/3 [==============================] - 0s 19ms/step - loss: 0.3962 - mse: 0.3962 - val_loss: 0.3537 - val_mse: 0.3537\n",
            "Epoch 7/100\n",
            "3/3 [==============================] - 0s 19ms/step - loss: 0.3863 - mse: 0.3863 - val_loss: 0.3493 - val_mse: 0.3493\n",
            "Epoch 8/100\n",
            "3/3 [==============================] - 0s 18ms/step - loss: 0.3804 - mse: 0.3804 - val_loss: 0.3355 - val_mse: 0.3355\n",
            "Epoch 9/100\n",
            "3/3 [==============================] - 0s 18ms/step - loss: 0.3728 - mse: 0.3728 - val_loss: 0.3200 - val_mse: 0.3200\n",
            "Epoch 10/100\n",
            "3/3 [==============================] - 0s 18ms/step - loss: 0.3641 - mse: 0.3641 - val_loss: 0.3169 - val_mse: 0.3169\n",
            "Epoch 11/100\n",
            "3/3 [==============================] - 0s 17ms/step - loss: 0.3589 - mse: 0.3589 - val_loss: 0.3130 - val_mse: 0.3130\n",
            "Epoch 12/100\n",
            "3/3 [==============================] - 0s 18ms/step - loss: 0.3495 - mse: 0.3495 - val_loss: 0.3172 - val_mse: 0.3172\n",
            "Epoch 13/100\n",
            "3/3 [==============================] - 0s 18ms/step - loss: 0.3457 - mse: 0.3457 - val_loss: 0.3165 - val_mse: 0.3165\n",
            "Epoch 14/100\n",
            "3/3 [==============================] - 0s 18ms/step - loss: 0.3412 - mse: 0.3412 - val_loss: 0.3209 - val_mse: 0.3209\n",
            "Epoch 15/100\n",
            "3/3 [==============================] - 0s 21ms/step - loss: 0.3406 - mse: 0.3406 - val_loss: 0.3261 - val_mse: 0.3261\n",
            "Epoch 16/100\n",
            "3/3 [==============================] - 0s 20ms/step - loss: 0.3381 - mse: 0.3381 - val_loss: 0.3176 - val_mse: 0.3176\n",
            "Epoch 17/100\n",
            "3/3 [==============================] - 0s 19ms/step - loss: 0.3339 - mse: 0.3339 - val_loss: 0.3188 - val_mse: 0.3188\n",
            "Epoch 18/100\n",
            "3/3 [==============================] - 0s 22ms/step - loss: 0.3311 - mse: 0.3311 - val_loss: 0.3061 - val_mse: 0.3061\n",
            "Epoch 19/100\n",
            "3/3 [==============================] - 0s 20ms/step - loss: 0.3327 - mse: 0.3327 - val_loss: 0.2928 - val_mse: 0.2928\n",
            "Epoch 20/100\n",
            "3/3 [==============================] - 0s 18ms/step - loss: 0.3240 - mse: 0.3240 - val_loss: 0.2933 - val_mse: 0.2933\n",
            "Epoch 21/100\n",
            "3/3 [==============================] - 0s 17ms/step - loss: 0.3217 - mse: 0.3217 - val_loss: 0.2922 - val_mse: 0.2922\n",
            "Epoch 22/100\n",
            "3/3 [==============================] - 0s 19ms/step - loss: 0.3211 - mse: 0.3211 - val_loss: 0.2907 - val_mse: 0.2907\n",
            "Epoch 23/100\n",
            "3/3 [==============================] - 0s 17ms/step - loss: 0.3201 - mse: 0.3201 - val_loss: 0.2882 - val_mse: 0.2882\n",
            "Epoch 24/100\n",
            "3/3 [==============================] - 0s 20ms/step - loss: 0.3195 - mse: 0.3195 - val_loss: 0.2795 - val_mse: 0.2795\n",
            "Epoch 25/100\n",
            "3/3 [==============================] - 0s 18ms/step - loss: 0.3145 - mse: 0.3145 - val_loss: 0.2821 - val_mse: 0.2821\n",
            "Epoch 26/100\n",
            "3/3 [==============================] - 0s 18ms/step - loss: 0.3146 - mse: 0.3146 - val_loss: 0.2903 - val_mse: 0.2903\n",
            "Epoch 27/100\n",
            "3/3 [==============================] - 0s 19ms/step - loss: 0.3187 - mse: 0.3187 - val_loss: 0.2977 - val_mse: 0.2977\n",
            "Epoch 28/100\n",
            "3/3 [==============================] - 0s 17ms/step - loss: 0.3119 - mse: 0.3119 - val_loss: 0.2867 - val_mse: 0.2867\n",
            "Epoch 29/100\n",
            "3/3 [==============================] - 0s 20ms/step - loss: 0.3163 - mse: 0.3163 - val_loss: 0.2903 - val_mse: 0.2903\n",
            "Epoch 30/100\n",
            "3/3 [==============================] - 0s 17ms/step - loss: 0.3105 - mse: 0.3105 - val_loss: 0.2970 - val_mse: 0.2970\n",
            "Epoch 31/100\n",
            "3/3 [==============================] - 0s 20ms/step - loss: 0.3100 - mse: 0.3100 - val_loss: 0.2943 - val_mse: 0.2943\n",
            "Epoch 32/100\n",
            "3/3 [==============================] - 0s 19ms/step - loss: 0.3103 - mse: 0.3103 - val_loss: 0.2888 - val_mse: 0.2888\n",
            "Epoch 33/100\n",
            "3/3 [==============================] - 0s 17ms/step - loss: 0.3083 - mse: 0.3083 - val_loss: 0.2879 - val_mse: 0.2879\n",
            "Epoch 34/100\n",
            "3/3 [==============================] - 0s 18ms/step - loss: 0.3089 - mse: 0.3089 - val_loss: 0.2873 - val_mse: 0.2873\n",
            "Epoch 35/100\n",
            "3/3 [==============================] - 0s 19ms/step - loss: 0.3083 - mse: 0.3083 - val_loss: 0.2831 - val_mse: 0.2831\n",
            "Epoch 36/100\n",
            "3/3 [==============================] - 0s 24ms/step - loss: 0.3095 - mse: 0.3095 - val_loss: 0.2810 - val_mse: 0.2810\n",
            "Epoch 37/100\n",
            "3/3 [==============================] - 0s 27ms/step - loss: 0.3076 - mse: 0.3076 - val_loss: 0.2734 - val_mse: 0.2734\n",
            "Epoch 38/100\n",
            "3/3 [==============================] - 0s 23ms/step - loss: 0.3119 - mse: 0.3119 - val_loss: 0.2843 - val_mse: 0.2843\n",
            "Epoch 39/100\n",
            "3/3 [==============================] - 0s 20ms/step - loss: 0.3118 - mse: 0.3118 - val_loss: 0.2739 - val_mse: 0.2739\n",
            "Epoch 40/100\n",
            "3/3 [==============================] - 0s 18ms/step - loss: 0.3063 - mse: 0.3063 - val_loss: 0.2778 - val_mse: 0.2778\n",
            "Epoch 41/100\n",
            "3/3 [==============================] - 0s 19ms/step - loss: 0.3073 - mse: 0.3073 - val_loss: 0.2738 - val_mse: 0.2738\n",
            "Epoch 42/100\n",
            "3/3 [==============================] - 0s 19ms/step - loss: 0.3065 - mse: 0.3065 - val_loss: 0.2797 - val_mse: 0.2797\n",
            "Epoch 43/100\n",
            "3/3 [==============================] - 0s 18ms/step - loss: 0.3074 - mse: 0.3074 - val_loss: 0.2787 - val_mse: 0.2787\n",
            "Epoch 44/100\n",
            "3/3 [==============================] - 0s 21ms/step - loss: 0.3062 - mse: 0.3062 - val_loss: 0.2866 - val_mse: 0.2866\n",
            "Epoch 45/100\n",
            "3/3 [==============================] - 0s 18ms/step - loss: 0.3080 - mse: 0.3080 - val_loss: 0.2932 - val_mse: 0.2932\n",
            "Epoch 46/100\n",
            "3/3 [==============================] - 0s 17ms/step - loss: 0.3067 - mse: 0.3067 - val_loss: 0.2948 - val_mse: 0.2948\n",
            "Epoch 47/100\n",
            "3/3 [==============================] - 0s 21ms/step - loss: 0.3077 - mse: 0.3077 - val_loss: 0.2934 - val_mse: 0.2934\n",
            "Epoch 48/100\n",
            "3/3 [==============================] - 0s 20ms/step - loss: 0.3053 - mse: 0.3053 - val_loss: 0.2926 - val_mse: 0.2926\n",
            "Epoch 49/100\n",
            "3/3 [==============================] - 0s 20ms/step - loss: 0.3047 - mse: 0.3047 - val_loss: 0.2920 - val_mse: 0.2920\n",
            "Epoch 50/100\n",
            "3/3 [==============================] - 0s 21ms/step - loss: 0.3096 - mse: 0.3096 - val_loss: 0.2985 - val_mse: 0.2985\n",
            "Epoch 51/100\n",
            "3/3 [==============================] - 0s 20ms/step - loss: 0.3089 - mse: 0.3089 - val_loss: 0.3115 - val_mse: 0.3115\n",
            "Epoch 52/100\n",
            "3/3 [==============================] - 0s 17ms/step - loss: 0.3071 - mse: 0.3071 - val_loss: 0.2897 - val_mse: 0.2897\n",
            "Epoch 53/100\n",
            "3/3 [==============================] - 0s 19ms/step - loss: 0.3083 - mse: 0.3083 - val_loss: 0.2812 - val_mse: 0.2812\n",
            "Epoch 54/100\n",
            "3/3 [==============================] - 0s 19ms/step - loss: 0.3054 - mse: 0.3054 - val_loss: 0.2935 - val_mse: 0.2935\n",
            "Epoch 55/100\n",
            "3/3 [==============================] - 0s 22ms/step - loss: 0.3057 - mse: 0.3057 - val_loss: 0.2855 - val_mse: 0.2855\n",
            "Epoch 56/100\n",
            "3/3 [==============================] - 0s 23ms/step - loss: 0.3050 - mse: 0.3050 - val_loss: 0.2892 - val_mse: 0.2892\n",
            "Epoch 57/100\n",
            "3/3 [==============================] - 0s 21ms/step - loss: 0.3063 - mse: 0.3063 - val_loss: 0.2773 - val_mse: 0.2773\n",
            "Epoch 58/100\n",
            "3/3 [==============================] - 0s 17ms/step - loss: 0.3081 - mse: 0.3081 - val_loss: 0.2860 - val_mse: 0.2860\n",
            "Epoch 59/100\n",
            "3/3 [==============================] - 0s 18ms/step - loss: 0.3047 - mse: 0.3047 - val_loss: 0.2755 - val_mse: 0.2755\n",
            "Epoch 60/100\n",
            "3/3 [==============================] - 0s 17ms/step - loss: 0.3068 - mse: 0.3068 - val_loss: 0.2680 - val_mse: 0.2680\n",
            "Epoch 61/100\n",
            "3/3 [==============================] - 0s 18ms/step - loss: 0.3087 - mse: 0.3087 - val_loss: 0.2855 - val_mse: 0.2855\n",
            "Epoch 62/100\n",
            "3/3 [==============================] - 0s 17ms/step - loss: 0.3049 - mse: 0.3049 - val_loss: 0.2855 - val_mse: 0.2855\n",
            "Epoch 63/100\n",
            "3/3 [==============================] - 0s 18ms/step - loss: 0.3061 - mse: 0.3061 - val_loss: 0.2799 - val_mse: 0.2799\n",
            "Epoch 64/100\n",
            "3/3 [==============================] - 0s 20ms/step - loss: 0.3055 - mse: 0.3055 - val_loss: 0.2859 - val_mse: 0.2859\n",
            "Epoch 65/100\n",
            "3/3 [==============================] - 0s 18ms/step - loss: 0.3060 - mse: 0.3060 - val_loss: 0.2755 - val_mse: 0.2755\n",
            "Epoch 66/100\n",
            "3/3 [==============================] - 0s 24ms/step - loss: 0.3078 - mse: 0.3078 - val_loss: 0.2888 - val_mse: 0.2888\n",
            "Epoch 67/100\n",
            "3/3 [==============================] - 0s 18ms/step - loss: 0.3070 - mse: 0.3070 - val_loss: 0.2845 - val_mse: 0.2845\n",
            "Epoch 68/100\n",
            "3/3 [==============================] - 0s 19ms/step - loss: 0.3040 - mse: 0.3040 - val_loss: 0.2853 - val_mse: 0.2853\n",
            "Epoch 69/100\n",
            "3/3 [==============================] - 0s 20ms/step - loss: 0.3046 - mse: 0.3046 - val_loss: 0.2841 - val_mse: 0.2841\n",
            "Epoch 70/100\n",
            "3/3 [==============================] - 0s 19ms/step - loss: 0.3041 - mse: 0.3041 - val_loss: 0.2914 - val_mse: 0.2914\n",
            "Epoch 71/100\n",
            "3/3 [==============================] - 0s 17ms/step - loss: 0.3056 - mse: 0.3056 - val_loss: 0.3010 - val_mse: 0.3010\n",
            "Epoch 72/100\n",
            "3/3 [==============================] - 0s 18ms/step - loss: 0.3060 - mse: 0.3060 - val_loss: 0.2986 - val_mse: 0.2986\n",
            "Epoch 73/100\n",
            "3/3 [==============================] - 0s 20ms/step - loss: 0.3109 - mse: 0.3109 - val_loss: 0.2700 - val_mse: 0.2700\n",
            "Epoch 74/100\n",
            "3/3 [==============================] - 0s 18ms/step - loss: 0.3079 - mse: 0.3079 - val_loss: 0.2661 - val_mse: 0.2661\n",
            "Epoch 75/100\n",
            "3/3 [==============================] - 0s 18ms/step - loss: 0.3060 - mse: 0.3060 - val_loss: 0.2813 - val_mse: 0.2813\n",
            "Epoch 76/100\n",
            "3/3 [==============================] - 0s 19ms/step - loss: 0.3067 - mse: 0.3067 - val_loss: 0.2758 - val_mse: 0.2758\n",
            "Epoch 77/100\n",
            "3/3 [==============================] - 0s 18ms/step - loss: 0.3043 - mse: 0.3043 - val_loss: 0.2860 - val_mse: 0.2860\n",
            "Epoch 78/100\n",
            "3/3 [==============================] - 0s 21ms/step - loss: 0.3066 - mse: 0.3066 - val_loss: 0.2877 - val_mse: 0.2877\n",
            "Epoch 79/100\n",
            "3/3 [==============================] - 0s 20ms/step - loss: 0.3059 - mse: 0.3059 - val_loss: 0.2987 - val_mse: 0.2987\n",
            "Epoch 80/100\n",
            "3/3 [==============================] - 0s 20ms/step - loss: 0.3071 - mse: 0.3071 - val_loss: 0.3020 - val_mse: 0.3020\n",
            "Epoch 81/100\n",
            "3/3 [==============================] - 0s 19ms/step - loss: 0.3050 - mse: 0.3050 - val_loss: 0.2890 - val_mse: 0.2890\n",
            "Epoch 82/100\n",
            "3/3 [==============================] - 0s 21ms/step - loss: 0.3055 - mse: 0.3055 - val_loss: 0.2841 - val_mse: 0.2841\n",
            "Epoch 83/100\n",
            "3/3 [==============================] - 0s 20ms/step - loss: 0.3070 - mse: 0.3070 - val_loss: 0.2831 - val_mse: 0.2831\n",
            "Epoch 84/100\n",
            "3/3 [==============================] - 0s 21ms/step - loss: 0.3043 - mse: 0.3043 - val_loss: 0.2828 - val_mse: 0.2828\n",
            "Epoch 85/100\n",
            "3/3 [==============================] - 0s 19ms/step - loss: 0.3046 - mse: 0.3046 - val_loss: 0.2773 - val_mse: 0.2773\n",
            "Epoch 86/100\n",
            "3/3 [==============================] - 0s 17ms/step - loss: 0.3057 - mse: 0.3057 - val_loss: 0.2836 - val_mse: 0.2836\n",
            "Epoch 87/100\n",
            "3/3 [==============================] - 0s 19ms/step - loss: 0.3077 - mse: 0.3077 - val_loss: 0.2859 - val_mse: 0.2859\n",
            "Epoch 88/100\n",
            "3/3 [==============================] - 0s 17ms/step - loss: 0.3079 - mse: 0.3079 - val_loss: 0.2731 - val_mse: 0.2731\n",
            "Epoch 89/100\n",
            "3/3 [==============================] - 0s 16ms/step - loss: 0.3075 - mse: 0.3075 - val_loss: 0.2959 - val_mse: 0.2959\n",
            "Epoch 90/100\n",
            "3/3 [==============================] - 0s 17ms/step - loss: 0.3045 - mse: 0.3045 - val_loss: 0.2856 - val_mse: 0.2856\n",
            "Epoch 91/100\n",
            "3/3 [==============================] - 0s 19ms/step - loss: 0.3065 - mse: 0.3065 - val_loss: 0.2929 - val_mse: 0.2929\n",
            "Epoch 92/100\n",
            "3/3 [==============================] - 0s 18ms/step - loss: 0.3088 - mse: 0.3088 - val_loss: 0.2989 - val_mse: 0.2989\n",
            "Epoch 93/100\n",
            "3/3 [==============================] - 0s 18ms/step - loss: 0.3066 - mse: 0.3066 - val_loss: 0.2967 - val_mse: 0.2967\n",
            "Epoch 94/100\n",
            "3/3 [==============================] - 0s 19ms/step - loss: 0.3050 - mse: 0.3050 - val_loss: 0.2985 - val_mse: 0.2985\n",
            "Epoch 95/100\n",
            "3/3 [==============================] - 0s 17ms/step - loss: 0.3053 - mse: 0.3053 - val_loss: 0.2818 - val_mse: 0.2818\n",
            "Epoch 96/100\n",
            "3/3 [==============================] - 0s 21ms/step - loss: 0.3044 - mse: 0.3044 - val_loss: 0.2861 - val_mse: 0.2861\n",
            "Epoch 97/100\n",
            "3/3 [==============================] - 0s 21ms/step - loss: 0.3094 - mse: 0.3094 - val_loss: 0.3091 - val_mse: 0.3091\n",
            "Epoch 98/100\n",
            "3/3 [==============================] - 0s 17ms/step - loss: 0.3070 - mse: 0.3070 - val_loss: 0.2837 - val_mse: 0.2837\n",
            "Epoch 99/100\n",
            "3/3 [==============================] - 0s 18ms/step - loss: 0.3048 - mse: 0.3048 - val_loss: 0.2826 - val_mse: 0.2826\n",
            "Epoch 100/100\n",
            "3/3 [==============================] - 0s 19ms/step - loss: 0.3040 - mse: 0.3040 - val_loss: 0.2762 - val_mse: 0.2762\n"
          ],
          "name": "stdout"
        },
        {
          "output_type": "execute_result",
          "data": {
            "text/plain": [
              "<tensorflow.python.keras.callbacks.History at 0x7f70dd719990>"
            ]
          },
          "metadata": {
            "tags": []
          },
          "execution_count": 37
        }
      ]
    },
    {
      "cell_type": "code",
      "metadata": {
        "colab": {
          "base_uri": "https://localhost:8080/"
        },
        "id": "2bOy14PALuCS",
        "outputId": "a2387946-d9b2-4007-d630-f080ba682052"
      },
      "source": [
        "print(history.history.keys())"
      ],
      "execution_count": 38,
      "outputs": [
        {
          "output_type": "stream",
          "text": [
            "dict_keys(['loss', 'mse', 'val_loss', 'val_mse'])\n"
          ],
          "name": "stdout"
        }
      ]
    },
    {
      "cell_type": "code",
      "metadata": {
        "colab": {
          "base_uri": "https://localhost:8080/",
          "height": 295
        },
        "id": "QGyYzv1LNNMI",
        "outputId": "91e1480e-0f68-453c-ced8-1a3b27a3cd7c"
      },
      "source": [
        "plt.plot(history.history['loss'])\n",
        "plt.plot(history.history['val_loss'])\n",
        "plt.title('Accuracy')\n",
        "plt.ylabel('loss')\n",
        "plt.xlabel('epoch')\n",
        "plt.legend(['train', 'validation'], loc='upper right')\n",
        "plt.show()"
      ],
      "execution_count": 40,
      "outputs": [
        {
          "output_type": "display_data",
          "data": {
            "image/png": "[encoded data removed]",
            "text/plain": [
              "<Figure size 432x288 with 1 Axes>"
            ]
          },
          "metadata": {
            "tags": [],
            "needs_background": "light"
          }
        }
      ]
    },
    {
      "cell_type": "code",
      "metadata": {
        "colab": {
          "base_uri": "https://localhost:8080/",
          "height": 295
        },
        "id": "rqDQ0Pb1NT6l",
        "outputId": "77a7d5fb-ca26-4070-b037-c16ee56a257e"
      },
      "source": [
        "plt.plot(history.history['mse'])\n",
        "plt.plot(history.history['val_mse'])\n",
        "plt.title('mean squared error')\n",
        "plt.ylabel('mse')\n",
        "plt.xlabel('epochs')\n",
        "plt.legend(['train' , 'validation'] , loc = 'upper right')\n",
        "plt.show()"
      ],
      "execution_count": 41,
      "outputs": [
        {
          "output_type": "display_data",
          "data": {
            "image/png": "[encoded data removed]",
            "text/plain": [
              "<Figure size 432x288 with 1 Axes>"
            ]
          },
          "metadata": {
            "tags": [],
            "needs_background": "light"
          }
        }
      ]
    },
    {
      "cell_type": "code",
      "metadata": {
        "colab": {
          "base_uri": "https://localhost:8080/",
          "height": 316
        },
        "id": "FinKOHqeNjpj",
        "outputId": "73061def-7e47-4839-ed66-aa326459b850"
      },
      "source": [
        "plt.plot(np.squeeze(model.predict_on_batch(input)),\n",
        "np.squeeze(z))\n",
        "plt.xlabel('predicted output')\n",
        "plt.ylabel('real output')\n",
        "plt.show()"
      ],
      "execution_count": 42,
      "outputs": [
        {
          "output_type": "stream",
          "text": [
            "WARNING:tensorflow:Model was constructed with shape (None, 100, 2) for input KerasTensor(type_spec=TensorSpec(shape=(None, 100, 2), dtype=tf.float32, name='dense_3_input'), name='dense_3_input', description=\"created by layer 'dense_3_input'\"), but it was called on an input with incompatible shape (100, 2).\n"
          ],
          "name": "stdout"
        },
        {
          "output_type": "display_data",
          "data": {
            "image/png": "[encoded data removed]",
            "text/plain": [
              "<Figure size 432x288 with 1 Axes>"
            ]
          },
          "metadata": {
            "tags": [],
            "needs_background": "light"
          }
        }
      ]
    },
    {
      "cell_type": "code",
      "metadata": {
        "colab": {
          "base_uri": "https://localhost:8080/"
        },
        "id": "tOrc35iJNmt8",
        "outputId": "760ea6d8-ac72-4b3f-955c-8c01078cbc6d"
      },
      "source": [
        "print(\"Predicted z for x=2, y=3 ---> \", model.predict([[2,3]]).round(2))\n",
        "print(\"Expected output: \", 7*2 + 6*3 + 5)"
      ],
      "execution_count": 44,
      "outputs": [
        {
          "output_type": "stream",
          "text": [
            "Predicted z for x=2, y=3 --->  [[36.83]]\n",
            "Expected output:  37\n"
          ],
          "name": "stdout"
        }
      ]
    },
    {
      "cell_type": "markdown",
      "metadata": {
        "id": "5RcXEFwVOJ08"
      },
      "source": [
        "---"
      ]
    },
    {
      "cell_type": "markdown",
      "metadata": {
        "id": "pWvo2N86Oq05"
      },
      "source": [
        "**Binary Classification in TensorFlow**"
      ]
    },
    {
      "cell_type": "code",
      "metadata": {
        "id": "9hbINKFyNu6Z"
      },
      "source": [
        "import tensorflow as tf\n",
        "from tensorflow import keras\n",
        "#loading data\n",
        "import pandas as pd\n",
        "#scaling feature values\n",
        "from sklearn.preprocessing import StandardScaler\n",
        "#encoding target values\n",
        "from sklearn.preprocessing import LabelEncoder\n",
        "#shuffling data\n",
        "from sklearn.utils import shuffle\n",
        "#splitting the dataset into training and validation\n",
        "from sklearn.model_selection import train_test_split\n",
        "#plotting curves\n",
        "import matplotlib.pyplot as plt"
      ],
      "execution_count": null,
      "outputs": []
    }
  ]
}